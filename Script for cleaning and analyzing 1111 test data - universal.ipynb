{
 "cells": [
  {
   "cell_type": "markdown",
   "metadata": {},
   "source": [
    "This notebook cleans .txt and .dta data for students performance on exams for BIO1111 and exports a csv which can be analyzed in an R script.\n",
    "#### Author: Christopher Agard"
   ]
  },
  {
   "cell_type": "code",
   "execution_count": 1,
   "metadata": {},
   "outputs": [],
   "source": [
    "import pandas as pd\n",
    "import numpy as np\n",
    "import os,glob\n",
    "from soar import *\n",
    "\n",
    "pd.options.display.max_columns = 50"
   ]
  },
  {
   "cell_type": "markdown",
   "metadata": {},
   "source": [
    "# Setting source and output folders"
   ]
  },
  {
   "cell_type": "code",
   "execution_count": 2,
   "metadata": {
    "scrolled": true
   },
   "outputs": [],
   "source": [
    "def sourceFiles(filedict,source = 'worksource', output = 'workoutput'):\n",
    "    filedict = filedict[input('Choose a filesystem: ')]\n",
    "    filedict[source] = filedict[source].format(year=year,semester=semester,exNum=exNum)\n",
    "    filedict[output] = filedict[output].format(year=year,semester=semester,exNum=exNum)\n",
    "    return filedict"
   ]
  },
  {
   "cell_type": "code",
   "execution_count": 3,
   "metadata": {},
   "outputs": [],
   "source": [
    "sources = {'tu':{'worksource': \"C:/Users/craga/Google Drive/TU {year}/Exams/{semester}/Exam {exNum}/Input Data/\",\n",
    "    'workoutput': \"C:/Users/tuh27554/Documents/Grading/{year}/{semester} EX{exNum}/Output Data/\"},\n",
    "        'gandolf':{'worksource': \"C:/Users/craga/Google Drive/TU {year}/{semester}/Exams/Exam {exNum}/Input Data/\",\n",
    "    'workoutput': \"C:/Users/craga/Google Drive/TU {year}/{semester}/Exams/Exam {exNum}/Output Data/\"}}"
   ]
  },
  {
   "cell_type": "code",
   "execution_count": 4,
   "metadata": {},
   "outputs": [
    {
     "name": "stdout",
     "output_type": "stream",
     "text": [
      "which year? 2020\n",
      "which semester? Spring\n",
      "which exam number? 2\n"
     ]
    }
   ],
   "source": [
    "year=input('which year? ')\n",
    "semester=input('which semester? ')\n",
    "exNum=input('which exam number? ')"
   ]
  },
  {
   "cell_type": "code",
   "execution_count": 5,
   "metadata": {},
   "outputs": [
    {
     "name": "stdout",
     "output_type": "stream",
     "text": [
      "Choose a filesystem: gandolf\n"
     ]
    }
   ],
   "source": [
    "sources = sourceFiles(sources)"
   ]
  },
  {
   "cell_type": "code",
   "execution_count": 6,
   "metadata": {},
   "outputs": [
    {
     "data": {
      "text/plain": [
       "{'worksource': 'C:/Users/craga/Google Drive/TU 2020/Spring/Exams/Exam 2/Input Data/',\n",
       " 'workoutput': 'C:/Users/craga/Google Drive/TU 2020/Spring/Exams/Exam 2/Output Data/'}"
      ]
     },
     "execution_count": 6,
     "metadata": {},
     "output_type": "execute_result"
    }
   ],
   "source": [
    "sources"
   ]
  },
  {
   "cell_type": "markdown",
   "metadata": {},
   "source": [
    "# Getting and Cleaning Exam Data"
   ]
  },
  {
   "cell_type": "code",
   "execution_count": 7,
   "metadata": {},
   "outputs": [
    {
     "data": {
      "text/plain": [
       "['marcexams_2019_2019-A2534.dta']"
      ]
     },
     "execution_count": 7,
     "metadata": {},
     "output_type": "execute_result"
    }
   ],
   "source": [
    "os.chdir(sources['worksource'])\n",
    "files = glob.glob('*.dta')\n",
    "files"
   ]
  },
  {
   "cell_type": "code",
   "execution_count": null,
   "metadata": {},
   "outputs": [],
   "source": []
  },
  {
   "cell_type": "code",
   "execution_count": 8,
   "metadata": {},
   "outputs": [
    {
     "name": "stdout",
     "output_type": "stream",
     "text": [
      "Enter your SOAR sessions separated by commas: 73,74,75\n",
      "Which exam number is this? 2\n"
     ]
    },
    {
     "name": "stderr",
     "output_type": "stream",
     "text": [
      "C:\\Users\\craga\\Documents\\GitHub\\Grading\\soar.py:48: SettingWithCopyWarning: \n",
      "A value is trying to be set on a copy of a slice from a DataFrame.\n",
      "Try using .loc[row_indexer,col_indexer] = value instead\n",
      "\n",
      "See the caveats in the documentation: http://pandas.pydata.org/pandas-docs/stable/indexing.html#indexing-view-versus-copy\n",
      "  tmp['soar'] = soar\n"
     ]
    },
    {
     "data": {
      "text/html": [
       "<div>\n",
       "<style scoped>\n",
       "    .dataframe tbody tr th:only-of-type {\n",
       "        vertical-align: middle;\n",
       "    }\n",
       "\n",
       "    .dataframe tbody tr th {\n",
       "        vertical-align: top;\n",
       "    }\n",
       "\n",
       "    .dataframe thead th {\n",
       "        text-align: right;\n",
       "    }\n",
       "</style>\n",
       "<table border=\"1\" class=\"dataframe\">\n",
       "  <thead>\n",
       "    <tr style=\"text-align: right;\">\n",
       "      <th></th>\n",
       "      <th>tuid</th>\n",
       "      <th>last</th>\n",
       "      <th>first</th>\n",
       "      <th>middle</th>\n",
       "      <th>unnamed1</th>\n",
       "      <th>unnamed2</th>\n",
       "      <th>unnamed3</th>\n",
       "      <th>soar</th>\n",
       "      <th>ncorrect</th>\n",
       "      <th>examNumber</th>\n",
       "      <th>item_1</th>\n",
       "      <th>item_2</th>\n",
       "      <th>item_3</th>\n",
       "      <th>item_4</th>\n",
       "      <th>item_5</th>\n",
       "      <th>item_6</th>\n",
       "      <th>item_7</th>\n",
       "      <th>item_8</th>\n",
       "      <th>item_9</th>\n",
       "      <th>item_10</th>\n",
       "      <th>item_11</th>\n",
       "      <th>item_12</th>\n",
       "      <th>item_13</th>\n",
       "      <th>item_14</th>\n",
       "      <th>item_15</th>\n",
       "      <th>item_16</th>\n",
       "      <th>item_17</th>\n",
       "      <th>item_18</th>\n",
       "      <th>item_19</th>\n",
       "      <th>item_20</th>\n",
       "      <th>item_21</th>\n",
       "      <th>item_22</th>\n",
       "      <th>item_23</th>\n",
       "      <th>item_24</th>\n",
       "      <th>item_25</th>\n",
       "      <th>item_26</th>\n",
       "      <th>item_27</th>\n",
       "      <th>soarType</th>\n",
       "      <th>version</th>\n",
       "    </tr>\n",
       "  </thead>\n",
       "  <tbody>\n",
       "    <tr>\n",
       "      <th>0</th>\n",
       "      <td>500 - BLU</td>\n",
       "      <td>EXAM - KEY</td>\n",
       "      <td>NNNNNN</td>\n",
       "      <td>N</td>\n",
       "      <td>NaN</td>\n",
       "      <td>NaN</td>\n",
       "      <td>NaN</td>\n",
       "      <td>NaN</td>\n",
       "      <td>27</td>\n",
       "      <td>2</td>\n",
       "      <td>3</td>\n",
       "      <td>2</td>\n",
       "      <td>4</td>\n",
       "      <td>4</td>\n",
       "      <td>4</td>\n",
       "      <td>1</td>\n",
       "      <td>3</td>\n",
       "      <td>1</td>\n",
       "      <td>3</td>\n",
       "      <td>2</td>\n",
       "      <td>2</td>\n",
       "      <td>2</td>\n",
       "      <td>1</td>\n",
       "      <td>4</td>\n",
       "      <td>2</td>\n",
       "      <td>2</td>\n",
       "      <td>3</td>\n",
       "      <td>4</td>\n",
       "      <td>2</td>\n",
       "      <td>2</td>\n",
       "      <td>3</td>\n",
       "      <td>1</td>\n",
       "      <td>1</td>\n",
       "      <td>2</td>\n",
       "      <td>1</td>\n",
       "      <td>2</td>\n",
       "      <td>4</td>\n",
       "      <td>key</td>\n",
       "      <td>1</td>\n",
       "    </tr>\n",
       "    <tr>\n",
       "      <th>9</th>\n",
       "      <td>915619341</td>\n",
       "      <td>RANJI</td>\n",
       "      <td>LAUREN</td>\n",
       "      <td>NaN</td>\n",
       "      <td>22.0</td>\n",
       "      <td>21.0</td>\n",
       "      <td>24.0</td>\n",
       "      <td>73.0</td>\n",
       "      <td>9</td>\n",
       "      <td>2</td>\n",
       "      <td>2</td>\n",
       "      <td>4</td>\n",
       "      <td>2</td>\n",
       "      <td>1</td>\n",
       "      <td>2</td>\n",
       "      <td>4</td>\n",
       "      <td>1</td>\n",
       "      <td>1</td>\n",
       "      <td>2</td>\n",
       "      <td>3</td>\n",
       "      <td>2</td>\n",
       "      <td>4</td>\n",
       "      <td>1</td>\n",
       "      <td>3</td>\n",
       "      <td>2</td>\n",
       "      <td>1</td>\n",
       "      <td>3</td>\n",
       "      <td>4</td>\n",
       "      <td>2</td>\n",
       "      <td>4</td>\n",
       "      <td>1</td>\n",
       "      <td>3</td>\n",
       "      <td>1</td>\n",
       "      <td>2</td>\n",
       "      <td>4</td>\n",
       "      <td>4</td>\n",
       "      <td>3</td>\n",
       "      <td>mine</td>\n",
       "      <td>1</td>\n",
       "    </tr>\n",
       "    <tr>\n",
       "      <th>10</th>\n",
       "      <td>915767393</td>\n",
       "      <td>QAZI</td>\n",
       "      <td>ZEMAR</td>\n",
       "      <td>NaN</td>\n",
       "      <td>22.0</td>\n",
       "      <td>20.0</td>\n",
       "      <td>9.0</td>\n",
       "      <td>75.0</td>\n",
       "      <td>10</td>\n",
       "      <td>2</td>\n",
       "      <td>3</td>\n",
       "      <td>4</td>\n",
       "      <td>3</td>\n",
       "      <td>4</td>\n",
       "      <td>4</td>\n",
       "      <td>4</td>\n",
       "      <td>2</td>\n",
       "      <td>4</td>\n",
       "      <td>3</td>\n",
       "      <td>3</td>\n",
       "      <td>3</td>\n",
       "      <td>4</td>\n",
       "      <td>1</td>\n",
       "      <td>4</td>\n",
       "      <td>1</td>\n",
       "      <td>2</td>\n",
       "      <td>4</td>\n",
       "      <td>4</td>\n",
       "      <td>1</td>\n",
       "      <td>4</td>\n",
       "      <td>3</td>\n",
       "      <td>2</td>\n",
       "      <td>1</td>\n",
       "      <td>3</td>\n",
       "      <td>3</td>\n",
       "      <td>1</td>\n",
       "      <td>2</td>\n",
       "      <td>mine</td>\n",
       "      <td>1</td>\n",
       "    </tr>\n",
       "    <tr>\n",
       "      <th>12</th>\n",
       "      <td>915637331</td>\n",
       "      <td>SATUNAS</td>\n",
       "      <td>KATELY</td>\n",
       "      <td>NaN</td>\n",
       "      <td>22.0</td>\n",
       "      <td>20.0</td>\n",
       "      <td>13.0</td>\n",
       "      <td>75.0</td>\n",
       "      <td>12</td>\n",
       "      <td>2</td>\n",
       "      <td>4</td>\n",
       "      <td>4</td>\n",
       "      <td>3</td>\n",
       "      <td>4</td>\n",
       "      <td>2</td>\n",
       "      <td>4</td>\n",
       "      <td>3</td>\n",
       "      <td>1</td>\n",
       "      <td>1</td>\n",
       "      <td>3</td>\n",
       "      <td>4</td>\n",
       "      <td>2</td>\n",
       "      <td>4</td>\n",
       "      <td>4</td>\n",
       "      <td>3</td>\n",
       "      <td>4</td>\n",
       "      <td>2</td>\n",
       "      <td>4</td>\n",
       "      <td>1</td>\n",
       "      <td>2</td>\n",
       "      <td>3</td>\n",
       "      <td>1</td>\n",
       "      <td>1</td>\n",
       "      <td>2</td>\n",
       "      <td>4</td>\n",
       "      <td>3</td>\n",
       "      <td>4</td>\n",
       "      <td>mine</td>\n",
       "      <td>1</td>\n",
       "    </tr>\n",
       "    <tr>\n",
       "      <th>14</th>\n",
       "      <td>914894157</td>\n",
       "      <td>NELMS</td>\n",
       "      <td>MATT</td>\n",
       "      <td>B</td>\n",
       "      <td>22.0</td>\n",
       "      <td>21.0</td>\n",
       "      <td>96.0</td>\n",
       "      <td>73.0</td>\n",
       "      <td>18</td>\n",
       "      <td>2</td>\n",
       "      <td>3</td>\n",
       "      <td>2</td>\n",
       "      <td>4</td>\n",
       "      <td>4</td>\n",
       "      <td>2</td>\n",
       "      <td>1</td>\n",
       "      <td>2</td>\n",
       "      <td>4</td>\n",
       "      <td>3</td>\n",
       "      <td>4</td>\n",
       "      <td>2</td>\n",
       "      <td>2</td>\n",
       "      <td>1</td>\n",
       "      <td>3</td>\n",
       "      <td>2</td>\n",
       "      <td>2</td>\n",
       "      <td>3</td>\n",
       "      <td>2</td>\n",
       "      <td>2</td>\n",
       "      <td>4</td>\n",
       "      <td>2</td>\n",
       "      <td>1</td>\n",
       "      <td>1</td>\n",
       "      <td>2</td>\n",
       "      <td>1</td>\n",
       "      <td>2</td>\n",
       "      <td>3</td>\n",
       "      <td>mine</td>\n",
       "      <td>1</td>\n",
       "    </tr>\n",
       "  </tbody>\n",
       "</table>\n",
       "</div>"
      ],
      "text/plain": [
       "         tuid        last   first middle  unnamed1  unnamed2  unnamed3  soar  \\\n",
       "0   500 - BLU  EXAM - KEY  NNNNNN      N       NaN       NaN       NaN   NaN   \n",
       "9   915619341       RANJI  LAUREN    NaN      22.0      21.0      24.0  73.0   \n",
       "10  915767393        QAZI   ZEMAR    NaN      22.0      20.0       9.0  75.0   \n",
       "12  915637331     SATUNAS  KATELY    NaN      22.0      20.0      13.0  75.0   \n",
       "14  914894157       NELMS    MATT      B      22.0      21.0      96.0  73.0   \n",
       "\n",
       "    ncorrect examNumber item_1 item_2 item_3 item_4 item_5 item_6 item_7  \\\n",
       "0         27          2      3      2      4      4      4      1      3   \n",
       "9          9          2      2      4      2      1      2      4      1   \n",
       "10        10          2      3      4      3      4      4      4      2   \n",
       "12        12          2      4      4      3      4      2      4      3   \n",
       "14        18          2      3      2      4      4      2      1      2   \n",
       "\n",
       "   item_8 item_9 item_10 item_11 item_12 item_13 item_14 item_15 item_16  \\\n",
       "0       1      3       2       2       2       1       4       2       2   \n",
       "9       1      2       3       2       4       1       3       2       1   \n",
       "10      4      3       3       3       4       1       4       1       2   \n",
       "12      1      1       3       4       2       4       4       3       4   \n",
       "14      4      3       4       2       2       1       3       2       2   \n",
       "\n",
       "   item_17 item_18 item_19 item_20 item_21 item_22 item_23 item_24 item_25  \\\n",
       "0        3       4       2       2       3       1       1       2       1   \n",
       "9        3       4       2       4       1       3       1       2       4   \n",
       "10       4       4       1       4       3       2       1       3       3   \n",
       "12       2       4       1       2       3       1       1       2       4   \n",
       "14       3       2       2       4       2       1       1       2       1   \n",
       "\n",
       "   item_26 item_27 soarType  version  \n",
       "0        2       4      key        1  \n",
       "9        4       3     mine        1  \n",
       "10       1       2     mine        1  \n",
       "12       3       4     mine        1  \n",
       "14       2       3     mine        1  "
      ]
     },
     "execution_count": 8,
     "metadata": {},
     "output_type": "execute_result"
    }
   ],
   "source": [
    "soars = [int(x) for x in input('Enter your SOAR sessions separated by commas: ').split(',')]\n",
    "df1=cleanSoarExam(files[0],\n",
    "                  examNum=input('Which exam number is this? '),\n",
    "                  soarSessions=soars)\n",
    "df1['version'] = 1\n",
    "# examversions = int(input('How many exam versions are there? '))\n",
    "# if examversions>1:\n",
    "#     versionList = [x for x in [y+1 for y in range(examversions+1)]]\n",
    "# df2=cleanSoarExam(files[1],examNum=1,soarSessions=[73,74,75])\n",
    "# df2['version'] = 2\n",
    "df = df1.loc[(df1.soar.isin([np.nan]+soars))&(df1.soarType.isin(['key','mine']))]#.append(df2)#remove students not in your sections\n",
    "df.head()"
   ]
  },
  {
   "cell_type": "markdown",
   "metadata": {},
   "source": [
    "Now we change the dir to the outputfolder and save the cleaned, merged file."
   ]
  },
  {
   "cell_type": "code",
   "execution_count": 9,
   "metadata": {},
   "outputs": [
    {
     "data": {
      "text/plain": [
       "Index(['item_1', 'item_2', 'item_3', 'item_4', 'item_5', 'item_6', 'item_7',\n",
       "       'item_8', 'item_9', 'item_10', 'item_11', 'item_12', 'item_13',\n",
       "       'item_14', 'item_15', 'item_16', 'item_17', 'item_18', 'item_19',\n",
       "       'item_20', 'item_21', 'item_22', 'item_23', 'item_24', 'item_25',\n",
       "       'item_26', 'item_27'],\n",
       "      dtype='object')"
      ]
     },
     "execution_count": 9,
     "metadata": {},
     "output_type": "execute_result"
    }
   ],
   "source": [
    "itemcols = df.columns[df.columns.str.contains('item')]\n",
    "itemcols"
   ]
  },
  {
   "cell_type": "code",
   "execution_count": 10,
   "metadata": {},
   "outputs": [
    {
     "name": "stderr",
     "output_type": "stream",
     "text": [
      "C:\\Users\\craga\\Anaconda3\\lib\\site-packages\\ipykernel_launcher.py:2: SettingWithCopyWarning: \n",
      "A value is trying to be set on a copy of a slice from a DataFrame.\n",
      "Try using .loc[row_indexer,col_indexer] = value instead\n",
      "\n",
      "See the caveats in the documentation: http://pandas.pydata.org/pandas-docs/stable/indexing.html#indexing-view-versus-copy\n",
      "  \n"
     ]
    }
   ],
   "source": [
    "for col in itemcols:\n",
    "    df[col] = df[col].apply(letters2num)"
   ]
  },
  {
   "cell_type": "code",
   "execution_count": 11,
   "metadata": {
    "scrolled": true
   },
   "outputs": [
    {
     "name": "stdout",
     "output_type": "stream",
     "text": [
      "Enter filename prefix: Spring 2020 Exam 2 Data for my sections\n"
     ]
    }
   ],
   "source": [
    "os.chdir(sources['workoutput'])\n",
    "df.to_csv(input('Enter filename prefix: ')+'.csv')"
   ]
  },
  {
   "cell_type": "markdown",
   "metadata": {},
   "source": [
    "## Extract Student Data"
   ]
  },
  {
   "cell_type": "code",
   "execution_count": 12,
   "metadata": {},
   "outputs": [
    {
     "name": "stdout",
     "output_type": "stream",
     "text": [
      "Which location in sources should be used? workoutput\n",
      "Which file would you like to use? Spring 2020 Exam 2 Data for my sections\n"
     ]
    },
    {
     "data": {
      "text/html": [
       "<div>\n",
       "<style scoped>\n",
       "    .dataframe tbody tr th:only-of-type {\n",
       "        vertical-align: middle;\n",
       "    }\n",
       "\n",
       "    .dataframe tbody tr th {\n",
       "        vertical-align: top;\n",
       "    }\n",
       "\n",
       "    .dataframe thead th {\n",
       "        text-align: right;\n",
       "    }\n",
       "</style>\n",
       "<table border=\"1\" class=\"dataframe\">\n",
       "  <thead>\n",
       "    <tr style=\"text-align: right;\">\n",
       "      <th></th>\n",
       "      <th>Unnamed: 0</th>\n",
       "      <th>tuid</th>\n",
       "      <th>last</th>\n",
       "      <th>first</th>\n",
       "      <th>middle</th>\n",
       "      <th>unnamed1</th>\n",
       "      <th>unnamed2</th>\n",
       "      <th>unnamed3</th>\n",
       "      <th>soar</th>\n",
       "      <th>ncorrect</th>\n",
       "      <th>examNumber</th>\n",
       "      <th>item_1</th>\n",
       "      <th>item_2</th>\n",
       "      <th>item_3</th>\n",
       "      <th>item_4</th>\n",
       "      <th>item_5</th>\n",
       "      <th>item_6</th>\n",
       "      <th>item_7</th>\n",
       "      <th>item_8</th>\n",
       "      <th>item_9</th>\n",
       "      <th>item_10</th>\n",
       "      <th>item_11</th>\n",
       "      <th>item_12</th>\n",
       "      <th>item_13</th>\n",
       "      <th>item_14</th>\n",
       "      <th>item_15</th>\n",
       "      <th>item_16</th>\n",
       "      <th>item_17</th>\n",
       "      <th>item_18</th>\n",
       "      <th>item_19</th>\n",
       "      <th>item_20</th>\n",
       "      <th>item_21</th>\n",
       "      <th>item_22</th>\n",
       "      <th>item_23</th>\n",
       "      <th>item_24</th>\n",
       "      <th>item_25</th>\n",
       "      <th>item_26</th>\n",
       "      <th>item_27</th>\n",
       "      <th>soarType</th>\n",
       "      <th>version</th>\n",
       "    </tr>\n",
       "  </thead>\n",
       "  <tbody>\n",
       "    <tr>\n",
       "      <th>0</th>\n",
       "      <td>0</td>\n",
       "      <td>500 - BLU</td>\n",
       "      <td>EXAM - KEY</td>\n",
       "      <td>NNNNNN</td>\n",
       "      <td>N</td>\n",
       "      <td>NaN</td>\n",
       "      <td>NaN</td>\n",
       "      <td>NaN</td>\n",
       "      <td>NaN</td>\n",
       "      <td>27</td>\n",
       "      <td>2</td>\n",
       "      <td>B</td>\n",
       "      <td>C</td>\n",
       "      <td>A</td>\n",
       "      <td>A</td>\n",
       "      <td>A</td>\n",
       "      <td>D</td>\n",
       "      <td>B</td>\n",
       "      <td>D</td>\n",
       "      <td>B</td>\n",
       "      <td>C</td>\n",
       "      <td>C</td>\n",
       "      <td>C</td>\n",
       "      <td>D</td>\n",
       "      <td>A</td>\n",
       "      <td>C</td>\n",
       "      <td>C</td>\n",
       "      <td>B</td>\n",
       "      <td>A</td>\n",
       "      <td>C</td>\n",
       "      <td>C</td>\n",
       "      <td>B</td>\n",
       "      <td>D</td>\n",
       "      <td>D</td>\n",
       "      <td>C</td>\n",
       "      <td>D</td>\n",
       "      <td>C</td>\n",
       "      <td>A</td>\n",
       "      <td>key</td>\n",
       "      <td>1</td>\n",
       "    </tr>\n",
       "    <tr>\n",
       "      <th>1</th>\n",
       "      <td>9</td>\n",
       "      <td>915619341</td>\n",
       "      <td>RANJI</td>\n",
       "      <td>LAUREN</td>\n",
       "      <td>NaN</td>\n",
       "      <td>22.0</td>\n",
       "      <td>21.0</td>\n",
       "      <td>24.0</td>\n",
       "      <td>73.0</td>\n",
       "      <td>9</td>\n",
       "      <td>2</td>\n",
       "      <td>C</td>\n",
       "      <td>A</td>\n",
       "      <td>C</td>\n",
       "      <td>D</td>\n",
       "      <td>C</td>\n",
       "      <td>A</td>\n",
       "      <td>D</td>\n",
       "      <td>D</td>\n",
       "      <td>C</td>\n",
       "      <td>B</td>\n",
       "      <td>C</td>\n",
       "      <td>A</td>\n",
       "      <td>D</td>\n",
       "      <td>B</td>\n",
       "      <td>C</td>\n",
       "      <td>D</td>\n",
       "      <td>B</td>\n",
       "      <td>A</td>\n",
       "      <td>C</td>\n",
       "      <td>A</td>\n",
       "      <td>D</td>\n",
       "      <td>B</td>\n",
       "      <td>D</td>\n",
       "      <td>C</td>\n",
       "      <td>A</td>\n",
       "      <td>A</td>\n",
       "      <td>B</td>\n",
       "      <td>mine</td>\n",
       "      <td>1</td>\n",
       "    </tr>\n",
       "    <tr>\n",
       "      <th>2</th>\n",
       "      <td>10</td>\n",
       "      <td>915767393</td>\n",
       "      <td>QAZI</td>\n",
       "      <td>ZEMAR</td>\n",
       "      <td>NaN</td>\n",
       "      <td>22.0</td>\n",
       "      <td>20.0</td>\n",
       "      <td>9.0</td>\n",
       "      <td>75.0</td>\n",
       "      <td>10</td>\n",
       "      <td>2</td>\n",
       "      <td>B</td>\n",
       "      <td>A</td>\n",
       "      <td>B</td>\n",
       "      <td>A</td>\n",
       "      <td>A</td>\n",
       "      <td>A</td>\n",
       "      <td>C</td>\n",
       "      <td>A</td>\n",
       "      <td>B</td>\n",
       "      <td>B</td>\n",
       "      <td>B</td>\n",
       "      <td>A</td>\n",
       "      <td>D</td>\n",
       "      <td>A</td>\n",
       "      <td>D</td>\n",
       "      <td>C</td>\n",
       "      <td>A</td>\n",
       "      <td>A</td>\n",
       "      <td>D</td>\n",
       "      <td>A</td>\n",
       "      <td>B</td>\n",
       "      <td>C</td>\n",
       "      <td>D</td>\n",
       "      <td>B</td>\n",
       "      <td>B</td>\n",
       "      <td>D</td>\n",
       "      <td>C</td>\n",
       "      <td>mine</td>\n",
       "      <td>1</td>\n",
       "    </tr>\n",
       "    <tr>\n",
       "      <th>3</th>\n",
       "      <td>12</td>\n",
       "      <td>915637331</td>\n",
       "      <td>SATUNAS</td>\n",
       "      <td>KATELY</td>\n",
       "      <td>NaN</td>\n",
       "      <td>22.0</td>\n",
       "      <td>20.0</td>\n",
       "      <td>13.0</td>\n",
       "      <td>75.0</td>\n",
       "      <td>12</td>\n",
       "      <td>2</td>\n",
       "      <td>A</td>\n",
       "      <td>A</td>\n",
       "      <td>B</td>\n",
       "      <td>A</td>\n",
       "      <td>C</td>\n",
       "      <td>A</td>\n",
       "      <td>B</td>\n",
       "      <td>D</td>\n",
       "      <td>D</td>\n",
       "      <td>B</td>\n",
       "      <td>A</td>\n",
       "      <td>C</td>\n",
       "      <td>A</td>\n",
       "      <td>A</td>\n",
       "      <td>B</td>\n",
       "      <td>A</td>\n",
       "      <td>C</td>\n",
       "      <td>A</td>\n",
       "      <td>D</td>\n",
       "      <td>C</td>\n",
       "      <td>B</td>\n",
       "      <td>D</td>\n",
       "      <td>D</td>\n",
       "      <td>C</td>\n",
       "      <td>A</td>\n",
       "      <td>B</td>\n",
       "      <td>A</td>\n",
       "      <td>mine</td>\n",
       "      <td>1</td>\n",
       "    </tr>\n",
       "    <tr>\n",
       "      <th>4</th>\n",
       "      <td>14</td>\n",
       "      <td>914894157</td>\n",
       "      <td>NELMS</td>\n",
       "      <td>MATT</td>\n",
       "      <td>B</td>\n",
       "      <td>22.0</td>\n",
       "      <td>21.0</td>\n",
       "      <td>96.0</td>\n",
       "      <td>73.0</td>\n",
       "      <td>18</td>\n",
       "      <td>2</td>\n",
       "      <td>B</td>\n",
       "      <td>C</td>\n",
       "      <td>A</td>\n",
       "      <td>A</td>\n",
       "      <td>C</td>\n",
       "      <td>D</td>\n",
       "      <td>C</td>\n",
       "      <td>A</td>\n",
       "      <td>B</td>\n",
       "      <td>A</td>\n",
       "      <td>C</td>\n",
       "      <td>C</td>\n",
       "      <td>D</td>\n",
       "      <td>B</td>\n",
       "      <td>C</td>\n",
       "      <td>C</td>\n",
       "      <td>B</td>\n",
       "      <td>C</td>\n",
       "      <td>C</td>\n",
       "      <td>A</td>\n",
       "      <td>C</td>\n",
       "      <td>D</td>\n",
       "      <td>D</td>\n",
       "      <td>C</td>\n",
       "      <td>D</td>\n",
       "      <td>C</td>\n",
       "      <td>B</td>\n",
       "      <td>mine</td>\n",
       "      <td>1</td>\n",
       "    </tr>\n",
       "  </tbody>\n",
       "</table>\n",
       "</div>"
      ],
      "text/plain": [
       "   Unnamed: 0       tuid        last   first middle  unnamed1  unnamed2  \\\n",
       "0           0  500 - BLU  EXAM - KEY  NNNNNN      N       NaN       NaN   \n",
       "1           9  915619341       RANJI  LAUREN    NaN      22.0      21.0   \n",
       "2          10  915767393        QAZI   ZEMAR    NaN      22.0      20.0   \n",
       "3          12  915637331     SATUNAS  KATELY    NaN      22.0      20.0   \n",
       "4          14  914894157       NELMS    MATT      B      22.0      21.0   \n",
       "\n",
       "   unnamed3  soar  ncorrect  examNumber item_1 item_2 item_3 item_4 item_5  \\\n",
       "0       NaN   NaN        27           2      B      C      A      A      A   \n",
       "1      24.0  73.0         9           2      C      A      C      D      C   \n",
       "2       9.0  75.0        10           2      B      A      B      A      A   \n",
       "3      13.0  75.0        12           2      A      A      B      A      C   \n",
       "4      96.0  73.0        18           2      B      C      A      A      C   \n",
       "\n",
       "  item_6 item_7 item_8 item_9 item_10 item_11 item_12 item_13 item_14 item_15  \\\n",
       "0      D      B      D      B       C       C       C       D       A       C   \n",
       "1      A      D      D      C       B       C       A       D       B       C   \n",
       "2      A      C      A      B       B       B       A       D       A       D   \n",
       "3      A      B      D      D       B       A       C       A       A       B   \n",
       "4      D      C      A      B       A       C       C       D       B       C   \n",
       "\n",
       "  item_16 item_17 item_18 item_19 item_20 item_21 item_22 item_23 item_24  \\\n",
       "0       C       B       A       C       C       B       D       D       C   \n",
       "1       D       B       A       C       A       D       B       D       C   \n",
       "2       C       A       A       D       A       B       C       D       B   \n",
       "3       A       C       A       D       C       B       D       D       C   \n",
       "4       C       B       C       C       A       C       D       D       C   \n",
       "\n",
       "  item_25 item_26 item_27 soarType  version  \n",
       "0       D       C       A      key        1  \n",
       "1       A       A       B     mine        1  \n",
       "2       B       D       C     mine        1  \n",
       "3       A       B       A     mine        1  \n",
       "4       D       C       B     mine        1  "
      ]
     },
     "execution_count": 12,
     "metadata": {},
     "output_type": "execute_result"
    }
   ],
   "source": [
    "os.chdir(sources[input('Which location in sources should be used? ')])\n",
    "examData = pd.read_csv(input('Which file would you like to use? ')+'.csv')\n",
    "examData.head()"
   ]
  },
  {
   "cell_type": "code",
   "execution_count": 15,
   "metadata": {},
   "outputs": [
    {
     "name": "stdout",
     "output_type": "stream",
     "text": [
      "Provide student IDs separated ids by commas.915697241\n",
      "Year?2020\n",
      "Semester?Spring\n",
      "Exam Number?2\n"
     ]
    },
    {
     "data": {
      "text/html": [
       "<div>\n",
       "<style scoped>\n",
       "    .dataframe tbody tr th:only-of-type {\n",
       "        vertical-align: middle;\n",
       "    }\n",
       "\n",
       "    .dataframe tbody tr th {\n",
       "        vertical-align: top;\n",
       "    }\n",
       "\n",
       "    .dataframe thead th {\n",
       "        text-align: right;\n",
       "    }\n",
       "</style>\n",
       "<table border=\"1\" class=\"dataframe\">\n",
       "  <thead>\n",
       "    <tr style=\"text-align: right;\">\n",
       "      <th></th>\n",
       "      <th>tuid</th>\n",
       "      <th>last</th>\n",
       "      <th>first</th>\n",
       "      <th>middle</th>\n",
       "      <th>soar</th>\n",
       "      <th>ncorrect</th>\n",
       "      <th>examNumber</th>\n",
       "      <th>item_1</th>\n",
       "      <th>item_2</th>\n",
       "      <th>item_3</th>\n",
       "      <th>item_4</th>\n",
       "      <th>item_5</th>\n",
       "      <th>item_6</th>\n",
       "      <th>item_7</th>\n",
       "      <th>item_8</th>\n",
       "      <th>item_9</th>\n",
       "      <th>item_10</th>\n",
       "      <th>item_11</th>\n",
       "      <th>item_12</th>\n",
       "      <th>item_13</th>\n",
       "      <th>item_14</th>\n",
       "      <th>item_15</th>\n",
       "      <th>item_16</th>\n",
       "      <th>item_17</th>\n",
       "      <th>item_18</th>\n",
       "      <th>item_19</th>\n",
       "      <th>item_20</th>\n",
       "      <th>item_21</th>\n",
       "      <th>item_22</th>\n",
       "      <th>item_23</th>\n",
       "      <th>item_24</th>\n",
       "      <th>item_25</th>\n",
       "      <th>item_26</th>\n",
       "      <th>item_27</th>\n",
       "      <th>soarType</th>\n",
       "    </tr>\n",
       "  </thead>\n",
       "  <tbody>\n",
       "    <tr>\n",
       "      <th>31</th>\n",
       "      <td>915697241</td>\n",
       "      <td>FABBRI</td>\n",
       "      <td>KATHRY</td>\n",
       "      <td>E</td>\n",
       "      <td>75.0</td>\n",
       "      <td>13</td>\n",
       "      <td>2</td>\n",
       "      <td>A</td>\n",
       "      <td>A</td>\n",
       "      <td>B</td>\n",
       "      <td>A</td>\n",
       "      <td>A</td>\n",
       "      <td>A</td>\n",
       "      <td>B</td>\n",
       "      <td>A</td>\n",
       "      <td>B</td>\n",
       "      <td>C</td>\n",
       "      <td>B</td>\n",
       "      <td>C</td>\n",
       "      <td>A</td>\n",
       "      <td>A</td>\n",
       "      <td>B</td>\n",
       "      <td>D</td>\n",
       "      <td>B</td>\n",
       "      <td>A</td>\n",
       "      <td>C</td>\n",
       "      <td>C</td>\n",
       "      <td>D</td>\n",
       "      <td>B</td>\n",
       "      <td>D</td>\n",
       "      <td>B</td>\n",
       "      <td>A</td>\n",
       "      <td>D</td>\n",
       "      <td>A</td>\n",
       "      <td>mine</td>\n",
       "    </tr>\n",
       "  </tbody>\n",
       "</table>\n",
       "</div>"
      ],
      "text/plain": [
       "         tuid    last   first middle  soar  ncorrect  examNumber item_1  \\\n",
       "31  915697241  FABBRI  KATHRY      E  75.0        13           2      A   \n",
       "\n",
       "   item_2 item_3 item_4 item_5 item_6 item_7 item_8 item_9 item_10 item_11  \\\n",
       "31      A      B      A      A      A      B      A      B       C       B   \n",
       "\n",
       "   item_12 item_13 item_14 item_15 item_16 item_17 item_18 item_19 item_20  \\\n",
       "31       C       A       A       B       D       B       A       C       C   \n",
       "\n",
       "   item_21 item_22 item_23 item_24 item_25 item_26 item_27 soarType  \n",
       "31       D       B       D       B       A       D       A     mine  "
      ]
     },
     "execution_count": 15,
     "metadata": {},
     "output_type": "execute_result"
    }
   ],
   "source": [
    "studentids = input('Provide student IDs separated ids by commas.').split(',')\n",
    "exportData = pd.DataFrame()\n",
    "if len(studentids[0])==0:\n",
    "    lnames = input('Provide student last names separated by commas.').split(',')\n",
    "    fnames = input('Provide student first names separated by commas.').split(',')\n",
    "    namelist = [val for val in [lnames,fnames] if len(val)>0]\n",
    "    if len(namelist)==0:\n",
    "        print('No identifying information provided.  Data will not be filtered.')\n",
    "    else:\n",
    "        if len(lnames[0])>0:\n",
    "            exportData = examData.loc[examData['last'].isin(lnames)]\n",
    "        if len(fnames[0])>0:\n",
    "            try:\n",
    "                exportData = exportData.merge(examData.loc[examData['first'].isin(fnames)],\n",
    "                                          how = 'inner')\n",
    "            except:\n",
    "                print('No last names provided.')\n",
    "                exportData = exportData\\\n",
    "                .append(examData.loc[examData['first'].isin(fnames)],sort=True)\n",
    "        if len(namelist)==1:\n",
    "            print('Limited identifying information provided.  Filtered data should be checked\\\n",
    "            to ensure only appropriate student data is being provided prior to delivering files.')\n",
    "            \n",
    "else:\n",
    "    exportData = examData.loc[examData.tuid.isin(studentids)]\n",
    "year = input('Year?')\n",
    "semester = input('Semester?')\n",
    "exam = input('Exam Number?')\n",
    "for student in exportData.tuid.unique():\n",
    "    tmp = examData.loc[(examData.soarType=='key')&(examData.soar.isna())]\\\n",
    "    .append(exportData.loc[examData.tuid==student]).drop_duplicates()\\\n",
    "    .drop(columns = ['version']+[col for col in examData.columns if 'nnamed' in col]).to_csv('{}_{}_{}_{}.csv'.format(year,semester,exam,student),index=False)\n",
    "exportData.drop(columns = ['version']+[col for col in examData.columns if 'nnamed' in col])"
   ]
  },
  {
   "cell_type": "code",
   "execution_count": 14,
   "metadata": {},
   "outputs": [
    {
     "data": {
      "text/plain": [
       "52.0"
      ]
     },
     "execution_count": 14,
     "metadata": {},
     "output_type": "execute_result"
    }
   ],
   "source": [
    "13/25*100"
   ]
  },
  {
   "cell_type": "code",
   "execution_count": null,
   "metadata": {},
   "outputs": [],
   "source": [
    "studentids = input('Provide student IDs separated ids by commas.').split(',')\n",
    "def exportStudent\n",
    "exportData = pd.DataFrame()\n",
    "if len(studentids[0])==0:\n",
    "    lnames = input('Provide student last names separated by commas.').split(',')\n",
    "    fnames = input('Provide student first names separated by commas.').split(',')\n",
    "    namelist = [val for val in [lnames,fnames] if len(val)>0]\n",
    "    if len(namelist)==0:\n",
    "        print('No identifying information provided.  Data will not be filtered.')\n",
    "    else:\n",
    "        if len(lnames[0])>0:\n",
    "            exportData = examData.loc[examData['last'].isin(lnames)]\n",
    "        if len(fnames[0])>0:\n",
    "            try:\n",
    "                exportData = exportData.merge(examData.loc[examData['first'].isin(fnames)],\n",
    "                                          how = 'inner')\n",
    "            except:\n",
    "                print('No last names provided.')\n",
    "                exportData = exportData\\\n",
    "                .append(examData.loc[examData['first'].isin(fnames)],sort=True)\n",
    "        if len(namelist)==1:\n",
    "            print('Limited identifying information provided.  Filtered data should be checked\\\n",
    "            to ensure only appropriate student data is being provided prior to delivering files.')\n",
    "            \n",
    "else:\n",
    "    exportData = examData.loc[examData.tuid.isin(studentids)]\n",
    "year = input('Year?')\n",
    "semester = input('Semester?')\n",
    "exam = input('Exam Number?')\n",
    "for student in exportData.tuid.unique():\n",
    "    tmp = examData.loc[(examData.soarType=='key')&(examData.soar.isna())]\\\n",
    "    .append(exportData.loc[examData.tuid==student]).drop_duplicates()\\\n",
    "    .to_csv('{}_{}_{}_{}.csv'.format(year,semester,exam,student),index=False)\n",
    "exportData"
   ]
  },
  {
   "cell_type": "markdown",
   "metadata": {},
   "source": [
    "# Analyzing Exam Data\n",
    "\n",
    "1. [Most Frequently Wrong](#Most-Frequently-Wrong-Answers)"
   ]
  },
  {
   "cell_type": "markdown",
   "metadata": {},
   "source": [
    "## Strange values for items\n",
    "\n",
    "In reviewing the data I noted some values outside of the expected 1-4.  Could you help me understand what these are?"
   ]
  },
  {
   "cell_type": "code",
   "execution_count": null,
   "metadata": {},
   "outputs": [],
   "source": [
    "all_responses = pd.concat([pd.Series(df[col].unique()) for col in itemcols]).unique()\n",
    "strange_response = [resp for resp in all_responses if resp not in ['A','B','C','D','E','1','2','3','4','5']]\n",
    "strange_resp_item=[col for col in itemcols if df.loc[df[col].isin(strange_response),col].shape[0]>0]\n",
    "print(\"The strange responses {} were found for the following items:\\n{}\".format(strange_response, strange_resp_item))\n"
   ]
  },
  {
   "cell_type": "markdown",
   "metadata": {},
   "source": [
    "## Most Frequently Wrong Answers"
   ]
  },
  {
   "cell_type": "markdown",
   "metadata": {},
   "source": [
    "Here we identify the columns containing information about responses."
   ]
  },
  {
   "cell_type": "code",
   "execution_count": null,
   "metadata": {},
   "outputs": [],
   "source": [
    "df.soarType.value_counts()"
   ]
  },
  {
   "cell_type": "markdown",
   "metadata": {},
   "source": [
    "Now we apply this function to create a ranked list of items by order of the number of my students getting them wrong."
   ]
  },
  {
   "cell_type": "code",
   "execution_count": null,
   "metadata": {
    "scrolled": true
   },
   "outputs": [],
   "source": [
    "wrongcount_v1_mine = pd.DataFrame()\n",
    "for soar in [x for x in df.soar.unique() if not np.isnan(x)]:\n",
    "    for col in itemcols:\n",
    "        wrongcount_v1_mine = wrongcount_v1_mine.append(countwrong(df= df.loc[df.soar==soar],\n",
    "                                                                  col = col, \n",
    "                                                                  ver = 1,\n",
    "                                                                  compind=['mine','other']))\n",
    "    wrongcount_v1_mine = wrongcount_v1_mine.sort_values(['number','item'],\n",
    "                                                        ascending=False)\\\n",
    "    .reset_index(drop = True)\n",
    "    # wrongcount_v1_mine.index = wrongcount_v1_mine.item\n",
    "    # wrongcount_v1_mine= wrongcount_v1_mine.drop(columns = 'item')\n",
    "    print('wrongcount_{}:\\n{}'.format(int(soar),wrongcount_v1_mine))\n",
    "    total_wrongtmp = wrongcount_v1_mine.set_index(['item']).sum(axis=1)\n",
    "    total_wrongtmp.to_csv('total wrong {}.csv'.format(int(soar)),index = True)\n",
    "    print('total_wrong_{}:\\n{}'.format(int(soar),\n",
    "                                       total_wrongtmp.sort_values(ascending=False)))"
   ]
  },
  {
   "cell_type": "markdown",
   "metadata": {},
   "source": [
    "## Printing the Keys"
   ]
  },
  {
   "cell_type": "code",
   "execution_count": null,
   "metadata": {
    "scrolled": true
   },
   "outputs": [],
   "source": [
    "# import numpy as np\n",
    "v1keys = df.loc[(df.soar.isnull())&(df.soarType=='key')&(df.version==1),itemcols].iloc[0]\n",
    "# v2keys = df.loc[(df.soarType=='key')&(df.version==2),itemcols].iloc[0]\n",
    "keys = pd.DataFrame(data = {'version1':v1keys})#,'version2':v2keys})\n",
    "keys.to_csv(input('Enter filename prefix for the keys: ')+'.csv',index = False)\n",
    "keys"
   ]
  },
  {
   "cell_type": "markdown",
   "metadata": {},
   "source": [
    "# Evaluating Student Performance"
   ]
  },
  {
   "cell_type": "markdown",
   "metadata": {},
   "source": [
    "## Score distribution\n",
    "Now we look at scores by section. "
   ]
  },
  {
   "cell_type": "code",
   "execution_count": null,
   "metadata": {},
   "outputs": [],
   "source": [
    "descCols= ['mean','min','25%','50%','75%','max']\n",
    "dfDesc = df.loc[(df.soarType!='key')].groupby(['soarType','soar']).ncorrect.describe()\n",
    "dfDesc = pd.concat([dfDesc[['count']],dfDesc[descCols].apply(lambda x: x/25*100)],axis=1)\n",
    "dfDesc"
   ]
  },
  {
   "cell_type": "markdown",
   "metadata": {},
   "source": [
    "## Item Analysis\n",
    "1. [Percent choice for each item](#Percent-choice-for-each-item)"
   ]
  },
  {
   "cell_type": "markdown",
   "metadata": {
    "scrolled": true
   },
   "source": [
    "os.chdir(source['worksource'])\n",
    "df20 = pd.read_csv('Spring 2020v1.csv')\n",
    "dfcomp = pd.read_csv('Cross-Walk 2019 Fall to 2018 Fall Exams.csv')\n",
    "dfcomp"
   ]
  },
  {
   "cell_type": "markdown",
   "metadata": {},
   "source": [
    "### Percent choice for each item"
   ]
  },
  {
   "cell_type": "markdown",
   "metadata": {},
   "source": [
    "df_item1 = pd.DataFrame()\n",
    "for col in itemcols:\n",
    "    df_item1 = df_item1.append(df.loc[df.version==1,col].value_counts(normalize=True))\n",
    "df_item1 = df_item1.applymap(lambda x: \"{:.0f}\".format(x*100))\n",
    "df_item1 = df_item1.reset_index().rename(columns={'index':'F19E1'})\n",
    "df_item1['F19E1'] = df_item1.F19E1.apply(lambda x: int(x[5:]))\n",
    "df_item1 = df_item1.sort_values('F19E1')\n",
    "df_item1['F18E1'] = dfcomp.F18E1\n",
    "df_item1.to_csv('Fall 2019v1.csv')\n",
    "df_item1"
   ]
  },
  {
   "cell_type": "markdown",
   "metadata": {
    "scrolled": true
   },
   "source": [
    "df_item = pd.DataFrame()\n",
    "for col in itemcols:\n",
    "    df_item = df_item.append(df.loc[df.version==2,col].value_counts(normalize=True))\n",
    "df_item = df_item.applymap(lambda x: \"{:.0f}\".format(x*100))\n",
    "df_item"
   ]
  },
  {
   "cell_type": "markdown",
   "metadata": {
    "scrolled": true
   },
   "source": [
    "df18"
   ]
  },
  {
   "cell_type": "markdown",
   "metadata": {},
   "source": [
    "dfcomp"
   ]
  }
 ],
 "metadata": {
  "kernelspec": {
   "display_name": "Python 3",
   "language": "python",
   "name": "python3"
  },
  "language_info": {
   "codemirror_mode": {
    "name": "ipython",
    "version": 3
   },
   "file_extension": ".py",
   "mimetype": "text/x-python",
   "name": "python",
   "nbconvert_exporter": "python",
   "pygments_lexer": "ipython3",
   "version": "3.7.3"
  }
 },
 "nbformat": 4,
 "nbformat_minor": 2
}
