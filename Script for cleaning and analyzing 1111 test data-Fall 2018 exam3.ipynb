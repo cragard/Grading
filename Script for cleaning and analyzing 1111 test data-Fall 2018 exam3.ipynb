{
 "cells": [
  {
   "cell_type": "markdown",
   "metadata": {},
   "source": [
    "This notebook cleans .txt data for students performance on exams for BIO1111 and exports a csv which can be analyzed in an R script.\n",
    "#### Author: Christopher Agard"
   ]
  },
  {
   "cell_type": "code",
   "execution_count": 1,
   "metadata": {},
   "outputs": [],
   "source": [
    "import pandas as pd\n",
    "import numpy as np\n",
    "import os,glob,string\n",
    "import plotly\n",
    "import plotly.plotly as py\n",
    "import plotly.graph_objs as go\n",
    "\n",
    "plotly.tools.set_config_file(world_readable=True)\n",
    "\n",
    "def cleanSoarExam (data, examNum, fileType='flat',\n",
    "                   colSpec = [(0,9),(10,21),(22,28),(29,30),(30,32),(32,34),(34,36),(36,38),(39,41),(41,68)],\n",
    "                   soarSessions=[]):\n",
    "\n",
    "    if fileType != 'flat':\n",
    "        print(\"\\n{} fileType is not currently supported.\".format(fileType))\n",
    "    else:\n",
    "        try:\n",
    "            df=pd.read_fwf(data,colSpec,names=['tuid','last','first','middle','unnamed1','unnamed2','unnamed3','soar','ncorrect','item'])\n",
    "        except:\n",
    "            \"print(\\nCould not find file {} or {} was not acceptable value for colSpec)\".format(data,colSpec)\n",
    "        #try:\n",
    "        #    df.columns = ['tuid','last','first','middle','unnamed1','unnamed2','unnamed3','soar','ncorrect','item']\n",
    "        #except:\n",
    "        #    print(\"\\nColumn number != 10.\\n{}\".format(len(df.columns)))\n",
    "        try:\n",
    "            df['examNumber']=examNum\n",
    "            numbers=pd.Series(list(range(28))).astype(str)\n",
    "            itemNames= 'item_'+ numbers[1:]\n",
    "            itemData=df.item.apply(lambda i: pd.Series(list(i)))\n",
    "            itemData.columns=itemNames\n",
    "            df=df.merge(itemData,'outer',left_index=True,right_index=True).drop('item',axis=1)\n",
    "        except:\n",
    "            print(\"\\nUnhandled exception encountered.\")\n",
    "        if soarSessions ==np.nan:\n",
    "            df.loc['soarType']='other'\n",
    "        else:\n",
    "            df.loc[df.soar.isin(soarSessions),'soarType']='mine'\n",
    "            df.loc[~df.soar.isin(soarSessions),'soarType']='other'\n",
    "            df.loc[df.tuid=='NNNNNNNNN','soarType']='key'\n",
    "    return df\n",
    "        "
   ]
  },
  {
   "cell_type": "markdown",
   "metadata": {
    "collapsed": true
   },
   "source": [
    "Here we need to write a function to determine how many students get each item wrong."
   ]
  },
  {
   "cell_type": "code",
   "execution_count": 2,
   "metadata": {},
   "outputs": [],
   "source": [
    "# import pandas as pd\n",
    "# import numpy as np\n",
    "\n",
    "def nwrong (x,key):\n",
    "    \"\"\"\n",
    "    :param x: pd.Series\n",
    "    :param key: ~None\n",
    "    Takes a pandas series and a specified value and returns the number of values \n",
    "    in the series which do not match the specified value.\"\"\"\n",
    "    assert isinstance(x, pd.Series)\n",
    "    x = x.astype(str)\n",
    "    key = str(key)\n",
    "    return x[x!=key].count()\n",
    "    "
   ]
  },
  {
   "cell_type": "code",
   "execution_count": 3,
   "metadata": {},
   "outputs": [
    {
     "data": {
      "text/plain": [
       "'a'"
      ]
     },
     "execution_count": 3,
     "metadata": {},
     "output_type": "execute_result"
    }
   ],
   "source": [
    "list(string.ascii_lowercase)[0]"
   ]
  },
  {
   "cell_type": "markdown",
   "metadata": {},
   "source": [
    "# Setting up notebook"
   ]
  },
  {
   "cell_type": "code",
   "execution_count": 4,
   "metadata": {},
   "outputs": [],
   "source": [
    "import pandas as pd\n",
    "import numpy as np\n",
    "import os,glob\n",
    "\n",
    "pd.options.display.max_columns=50"
   ]
  },
  {
   "cell_type": "markdown",
   "metadata": {},
   "source": [
    "# Getting Exam Data"
   ]
  },
  {
   "cell_type": "markdown",
   "metadata": {},
   "source": [
    "Here we define paths for getting exam data and outputting results"
   ]
  },
  {
   "cell_type": "code",
   "execution_count": 5,
   "metadata": {},
   "outputs": [],
   "source": [
    "homesource = 'S:/Chris/Temple/Biol1111/Fall 2018/Raw Data/Exam 3'\n",
    "homeoutputFolder = 'S:/Chris/Temple/Biol1111/Fall 2018/Results/Exam 3'\n",
    "worksource = 'C:/Users/tuh27554/Documents/BIOL1111/Fall 2018/Raw Data/Exam 3'\n",
    "workoutputFolder = 'C:/Users/tuh27554/Documents/BIOL1111/Fall 2018/Results/Exam 3'"
   ]
  },
  {
   "cell_type": "markdown",
   "metadata": {},
   "source": [
    "Here we get a list of source data files. For this notebook we will use the \\*.txt files."
   ]
  },
  {
   "cell_type": "code",
   "execution_count": 6,
   "metadata": {},
   "outputs": [
    {
     "name": "stdout",
     "output_type": "stream",
     "text": [
      "['V31Raw.txt', 'V32Raw.txt']\n"
     ]
    }
   ],
   "source": [
    "os.chdir(worksource)\n",
    "files = glob.glob('*.txt')\n",
    "print(files)"
   ]
  },
  {
   "cell_type": "markdown",
   "metadata": {},
   "source": [
    " And now we read in and clean those data using the *cleanSoarExam* function."
   ]
  },
  {
   "cell_type": "code",
   "execution_count": 7,
   "metadata": {},
   "outputs": [
    {
     "name": "stdout",
     "output_type": "stream",
     "text": [
      "Version 1 of the exam has 113 students.\n",
      "Version 2 of the exam has 118 students.\n"
     ]
    }
   ],
   "source": [
    "df1 = cleanSoarExam(files[0],examNum=1,soarSessions=[81])\n",
    "df1=df1.drop(columns=['last','first','middle'])\n",
    "print('Version 1 of the exam has {} students.'.format(df1.shape[0]-1))\n",
    "df2 = cleanSoarExam(files[1],examNum=1,soarSessions=[81])\n",
    "df2=df2.drop(columns=['last','first','middle'])\n",
    "print('Version 2 of the exam has {} students.'.format(df2.shape[0]-1))\n",
    "os.chdir(workoutputFolder)"
   ]
  },
  {
   "cell_type": "markdown",
   "metadata": {},
   "source": [
    "# Analyzing Exam Data"
   ]
  },
  {
   "cell_type": "markdown",
   "metadata": {},
   "source": [
    "## Determining the most problematic items for the class"
   ]
  },
  {
   "cell_type": "markdown",
   "metadata": {},
   "source": [
    "We need to identify the item columns over which to apply *nwrong*."
   ]
  },
  {
   "cell_type": "code",
   "execution_count": 8,
   "metadata": {},
   "outputs": [],
   "source": [
    "itemcols1 = df1.columns[df1.columns.str.contains('item_')]\n",
    "itemcols2 = df2.columns[df2.columns.str.contains('item_')]"
   ]
  },
  {
   "cell_type": "markdown",
   "metadata": {},
   "source": [
    "df1.loc[(df1.soarType=='key') & (df1.item_1!=df1.loc[df1.soarType=='key','df1.item_1'])].ncorrect +1"
   ]
  },
  {
   "cell_type": "markdown",
   "metadata": {},
   "source": [
    "Now we apply the function to determine the number of students who answered incorrectly for version 1 and version 2 separately. We will only print one of these here for an example."
   ]
  },
  {
   "cell_type": "code",
   "execution_count": 9,
   "metadata": {},
   "outputs": [
    {
     "data": {
      "text/plain": [
       "item_1      5\n",
       "item_2      2\n",
       "item_3      5\n",
       "item_4     11\n",
       "item_5      4\n",
       "item_6      9\n",
       "item_7      9\n",
       "item_8     14\n",
       "item_9     10\n",
       "item_10    10\n",
       "item_11     6\n",
       "item_12     6\n",
       "item_13    11\n",
       "item_14     9\n",
       "item_15     5\n",
       "item_16     8\n",
       "item_17     3\n",
       "item_18     7\n",
       "item_19     2\n",
       "item_20     4\n",
       "item_21     4\n",
       "item_22     5\n",
       "item_23     3\n",
       "item_24     7\n",
       "item_25     7\n",
       "item_26     4\n",
       "item_27     6\n",
       "dtype: int64"
      ]
     },
     "execution_count": 9,
     "metadata": {},
     "output_type": "execute_result"
    }
   ],
   "source": [
    "v1wrong = df1.loc[df1.soarType.isin(['mine','key']),itemcols1].apply(lambda x: nwrong(x=x[1:],key=x[0]))\n",
    "# v1wrong = v1wrong.rename({'item_1':'item_1a'})\n",
    "v1wrong"
   ]
  },
  {
   "cell_type": "code",
   "execution_count": 10,
   "metadata": {},
   "outputs": [
    {
     "data": {
      "text/plain": [
       "item_1      3\n",
       "item_2      2\n",
       "item_3      2\n",
       "item_4     10\n",
       "item_5      0\n",
       "item_6      8\n",
       "item_7      6\n",
       "item_8     12\n",
       "item_9      8\n",
       "item_10     7\n",
       "item_11     5\n",
       "item_12     3\n",
       "item_13     2\n",
       "item_14     9\n",
       "item_15     2\n",
       "item_16     8\n",
       "item_17     3\n",
       "item_18    11\n",
       "item_19     5\n",
       "item_20     3\n",
       "item_21     3\n",
       "item_22     6\n",
       "item_23     7\n",
       "item_24     6\n",
       "item_25     7\n",
       "item_26     0\n",
       "item_27     2\n",
       "dtype: int64"
      ]
     },
     "execution_count": 10,
     "metadata": {},
     "output_type": "execute_result"
    }
   ],
   "source": [
    "v2wrong = df2.loc[df2.soarType.isin(['mine','key']),itemcols2].apply(lambda x: nwrong(x=x[1:],key=x[0]))\n",
    "# v2wrong = v2wrong.rename({'item_1':'item_1b'})\n",
    "v2wrong"
   ]
  },
  {
   "cell_type": "markdown",
   "metadata": {},
   "source": [
    "Adding these lists together we get the total number wrong on each item.  If we sort the resulting series in descending order, we will have the guide we need to determine the order for discussing the items in class."
   ]
  },
  {
   "cell_type": "code",
   "execution_count": 11,
   "metadata": {},
   "outputs": [
    {
     "data": {
      "text/plain": [
       "item_8     26\n",
       "item_4     21\n",
       "item_14    18\n",
       "item_18    18\n",
       "item_9     18\n",
       "item_6     17\n",
       "item_10    17\n",
       "item_16    16\n",
       "item_7     15\n",
       "item_25    14\n",
       "item_24    13\n",
       "item_13    13\n",
       "item_11    11\n",
       "item_22    11\n",
       "item_23    10\n",
       "item_12     9\n",
       "item_27     8\n",
       "item_1      8\n",
       "item_15     7\n",
       "item_19     7\n",
       "item_20     7\n",
       "item_21     7\n",
       "item_3      7\n",
       "item_17     6\n",
       "item_26     4\n",
       "item_5      4\n",
       "item_2      4\n",
       "dtype: int64"
      ]
     },
     "execution_count": 11,
     "metadata": {},
     "output_type": "execute_result"
    }
   ],
   "source": [
    "totalwrong = v1wrong + v2wrong\n",
    "orderedwrong = totalwrong.sort_values(ascending=False)\n",
    "# orderedwrong.loc[~orderedwrong.isna()] = orderedwrong.loc[~orderedwrong.isna()].astype(int)\n",
    "orderedwrong"
   ]
  },
  {
   "cell_type": "markdown",
   "metadata": {},
   "source": [
    "Let's also print the letters for the correct answers for each item.  REmeber that for this dataset 4=A, 3=B, 2=C, and 1=D."
   ]
  },
  {
   "cell_type": "code",
   "execution_count": 12,
   "metadata": {},
   "outputs": [
    {
     "data": {
      "text/plain": [
       "item_1     A\n",
       "item_2     C\n",
       "item_3     D\n",
       "item_4     B\n",
       "item_5     D\n",
       "item_6     B\n",
       "item_7     B\n",
       "item_8     D\n",
       "item_9     C\n",
       "item_10    B\n",
       "item_11    D\n",
       "item_12    C\n",
       "item_13    A\n",
       "item_14    D\n",
       "item_15    A\n",
       "item_16    A\n",
       "item_17    C\n",
       "item_18    C\n",
       "item_19    C\n",
       "item_20    B\n",
       "item_21    D\n",
       "item_22    A\n",
       "item_23    B\n",
       "item_24    A\n",
       "item_25    B\n",
       "item_26    C\n",
       "item_27    D\n",
       "dtype: object"
      ]
     },
     "execution_count": 12,
     "metadata": {},
     "output_type": "execute_result"
    }
   ],
   "source": [
    "keysdict = {4:'A',3:'B',2:'C',1:'D'}\n",
    "v1keys = df1.loc[df1.soarType=='key',itemcols1]\\\n",
    ".apply(lambda x: list(string.ascii_uppercase)[4-int(x)])\n",
    "v1keys.to_csv('e3v1keys.csv')\n",
    "v1keys"
   ]
  },
  {
   "cell_type": "markdown",
   "metadata": {
    "collapsed": true
   },
   "source": [
    "Here we need to write a function to determine how many students get each item wrong."
   ]
  },
  {
   "cell_type": "code",
   "execution_count": 13,
   "metadata": {},
   "outputs": [
    {
     "data": {
      "text/plain": [
       "item_1     B\n",
       "item_2     C\n",
       "item_3     D\n",
       "item_4     D\n",
       "item_5     D\n",
       "item_6     D\n",
       "item_7     B\n",
       "item_8     D\n",
       "item_9     C\n",
       "item_10    D\n",
       "item_11    B\n",
       "item_12    C\n",
       "item_13    A\n",
       "item_14    B\n",
       "item_15    A\n",
       "item_16    C\n",
       "item_17    C\n",
       "item_18    A\n",
       "item_19    C\n",
       "item_20    B\n",
       "item_21    D\n",
       "item_22    A\n",
       "item_23    D\n",
       "item_24    D\n",
       "item_25    B\n",
       "item_26    C\n",
       "item_27    C\n",
       "dtype: object"
      ]
     },
     "execution_count": 13,
     "metadata": {},
     "output_type": "execute_result"
    }
   ],
   "source": [
    "v2keys = df2.loc[df2.soarType=='key',itemcols2]\\\n",
    ".apply(lambda x: list(string.ascii_uppercase)[4-int(x)])\n",
    "v2keys.to_csv('e3v2keys.csv')\n",
    "v2keys"
   ]
  },
  {
   "cell_type": "markdown",
   "metadata": {},
   "source": [
    "## Evaluating students performace "
   ]
  },
  {
   "cell_type": "markdown",
   "metadata": {},
   "source": [
    "Now we look at scores by section.  For this we can rename *unnamed1* to *version* to keep track of the versions and append the 2 dfs. "
   ]
  },
  {
   "cell_type": "code",
   "execution_count": 14,
   "metadata": {},
   "outputs": [
    {
     "name": "stdout",
     "output_type": "stream",
     "text": [
      "(233, 35)\n"
     ]
    }
   ],
   "source": [
    "df = df1.append(df2)\n",
    "print(df.shape)\n",
    "df.to_csv('merged exam 3 results.csv')"
   ]
  },
  {
   "cell_type": "markdown",
   "metadata": {},
   "source": [
    "We can drop the \"key\" data and store as a separate variable,*maxscore*, the maximum possible value for ncorrect."
   ]
  },
  {
   "cell_type": "code",
   "execution_count": 15,
   "metadata": {},
   "outputs": [
    {
     "name": "stdout",
     "output_type": "stream",
     "text": [
      "maxscore:27\n"
     ]
    }
   ],
   "source": [
    "maxscore = df.ncorrect.max()\n",
    "dfkey = df.loc[df.soarType=='key',:]\n",
    "df = df.loc[df.soarType!='key',:]\n",
    "print('maxscore:{}'.format(maxscore))"
   ]
  },
  {
   "cell_type": "markdown",
   "metadata": {},
   "source": [
    "df.loc[df.item_1!=dfkey.item_1,'ncorrect'] = df.loc[df.item_1!=dfkey.item_1,'ncorrect'] + 1"
   ]
  },
  {
   "cell_type": "markdown",
   "metadata": {},
   "source": [
    "We will use this *df* for the rest of our analysis."
   ]
  },
  {
   "cell_type": "code",
   "execution_count": 16,
   "metadata": {},
   "outputs": [],
   "source": [
    "def iqr(x):\n",
    "    return x.quantile(.75) - x.quantile(.25)\n",
    "\n",
    "def percentile25(x):\n",
    "    return x.quantile(.25)\n",
    "\n",
    "def percentile75(x):\n",
    "    return x.quantile(.75)\n"
   ]
  },
  {
   "cell_type": "code",
   "execution_count": 17,
   "metadata": {},
   "outputs": [
    {
     "data": {
      "text/html": [
       "<div>\n",
       "<style scoped>\n",
       "    .dataframe tbody tr th:only-of-type {\n",
       "        vertical-align: middle;\n",
       "    }\n",
       "\n",
       "    .dataframe tbody tr th {\n",
       "        vertical-align: top;\n",
       "    }\n",
       "\n",
       "    .dataframe thead th {\n",
       "        text-align: right;\n",
       "    }\n",
       "</style>\n",
       "<table border=\"1\" class=\"dataframe\">\n",
       "  <thead>\n",
       "    <tr style=\"text-align: right;\">\n",
       "      <th></th>\n",
       "      <th>tuid</th>\n",
       "      <th>unnamed1</th>\n",
       "      <th>unnamed2</th>\n",
       "      <th>unnamed3</th>\n",
       "      <th>soar</th>\n",
       "      <th>ncorrect</th>\n",
       "      <th>examNumber</th>\n",
       "      <th>item_1</th>\n",
       "      <th>item_2</th>\n",
       "      <th>item_3</th>\n",
       "      <th>item_4</th>\n",
       "      <th>item_5</th>\n",
       "      <th>item_6</th>\n",
       "      <th>item_7</th>\n",
       "      <th>item_8</th>\n",
       "      <th>item_9</th>\n",
       "      <th>item_10</th>\n",
       "      <th>item_11</th>\n",
       "      <th>item_12</th>\n",
       "      <th>item_13</th>\n",
       "      <th>item_14</th>\n",
       "      <th>item_15</th>\n",
       "      <th>item_16</th>\n",
       "      <th>item_17</th>\n",
       "      <th>item_18</th>\n",
       "      <th>item_19</th>\n",
       "      <th>item_20</th>\n",
       "      <th>item_21</th>\n",
       "      <th>item_22</th>\n",
       "      <th>item_23</th>\n",
       "      <th>item_24</th>\n",
       "      <th>item_25</th>\n",
       "      <th>item_26</th>\n",
       "      <th>item_27</th>\n",
       "      <th>soarType</th>\n",
       "    </tr>\n",
       "  </thead>\n",
       "  <tbody>\n",
       "    <tr>\n",
       "      <th>1</th>\n",
       "      <td>915493826</td>\n",
       "      <td>NaN</td>\n",
       "      <td>NaN</td>\n",
       "      <td>NaN</td>\n",
       "      <td>NaN</td>\n",
       "      <td>20</td>\n",
       "      <td>1</td>\n",
       "      <td>4</td>\n",
       "      <td>2</td>\n",
       "      <td>1</td>\n",
       "      <td>3</td>\n",
       "      <td>1</td>\n",
       "      <td>4</td>\n",
       "      <td>4</td>\n",
       "      <td>1</td>\n",
       "      <td>2</td>\n",
       "      <td>2</td>\n",
       "      <td>1</td>\n",
       "      <td>2</td>\n",
       "      <td>4</td>\n",
       "      <td>1</td>\n",
       "      <td>4</td>\n",
       "      <td>3</td>\n",
       "      <td>2</td>\n",
       "      <td>1</td>\n",
       "      <td>2</td>\n",
       "      <td>3</td>\n",
       "      <td>1</td>\n",
       "      <td>4</td>\n",
       "      <td>4</td>\n",
       "      <td>4</td>\n",
       "      <td>3</td>\n",
       "      <td>1</td>\n",
       "      <td>1</td>\n",
       "      <td>other</td>\n",
       "    </tr>\n",
       "    <tr>\n",
       "      <th>2</th>\n",
       "      <td>915323216</td>\n",
       "      <td>NaN</td>\n",
       "      <td>NaN</td>\n",
       "      <td>NaN</td>\n",
       "      <td>87.0</td>\n",
       "      <td>15</td>\n",
       "      <td>1</td>\n",
       "      <td>4</td>\n",
       "      <td>2</td>\n",
       "      <td>1</td>\n",
       "      <td>1</td>\n",
       "      <td>1</td>\n",
       "      <td>3</td>\n",
       "      <td>4</td>\n",
       "      <td>1</td>\n",
       "      <td>3</td>\n",
       "      <td>2</td>\n",
       "      <td>3</td>\n",
       "      <td>4</td>\n",
       "      <td>1</td>\n",
       "      <td>3</td>\n",
       "      <td>4</td>\n",
       "      <td>4</td>\n",
       "      <td>2</td>\n",
       "      <td>3</td>\n",
       "      <td>2</td>\n",
       "      <td>2</td>\n",
       "      <td>1</td>\n",
       "      <td>3</td>\n",
       "      <td>2</td>\n",
       "      <td>4</td>\n",
       "      <td>3</td>\n",
       "      <td>2</td>\n",
       "      <td>1</td>\n",
       "      <td>other</td>\n",
       "    </tr>\n",
       "    <tr>\n",
       "      <th>3</th>\n",
       "      <td>915271724</td>\n",
       "      <td>NaN</td>\n",
       "      <td>NaN</td>\n",
       "      <td>NaN</td>\n",
       "      <td>NaN</td>\n",
       "      <td>23</td>\n",
       "      <td>1</td>\n",
       "      <td>4</td>\n",
       "      <td>2</td>\n",
       "      <td>1</td>\n",
       "      <td>3</td>\n",
       "      <td>1</td>\n",
       "      <td>3</td>\n",
       "      <td>3</td>\n",
       "      <td>1</td>\n",
       "      <td>2</td>\n",
       "      <td>4</td>\n",
       "      <td>1</td>\n",
       "      <td>2</td>\n",
       "      <td>1</td>\n",
       "      <td>1</td>\n",
       "      <td>4</td>\n",
       "      <td>4</td>\n",
       "      <td>2</td>\n",
       "      <td>2</td>\n",
       "      <td>2</td>\n",
       "      <td>3</td>\n",
       "      <td>1</td>\n",
       "      <td>1</td>\n",
       "      <td>3</td>\n",
       "      <td>4</td>\n",
       "      <td>3</td>\n",
       "      <td>2</td>\n",
       "      <td>2</td>\n",
       "      <td>other</td>\n",
       "    </tr>\n",
       "    <tr>\n",
       "      <th>4</th>\n",
       "      <td>915501049</td>\n",
       "      <td>31.0</td>\n",
       "      <td>11.0</td>\n",
       "      <td>31.0</td>\n",
       "      <td>75.0</td>\n",
       "      <td>21</td>\n",
       "      <td>1</td>\n",
       "      <td>4</td>\n",
       "      <td>2</td>\n",
       "      <td>1</td>\n",
       "      <td>3</td>\n",
       "      <td>1</td>\n",
       "      <td>4</td>\n",
       "      <td>2</td>\n",
       "      <td>2</td>\n",
       "      <td>3</td>\n",
       "      <td>3</td>\n",
       "      <td>1</td>\n",
       "      <td>2</td>\n",
       "      <td>1</td>\n",
       "      <td>1</td>\n",
       "      <td>4</td>\n",
       "      <td>4</td>\n",
       "      <td>2</td>\n",
       "      <td>1</td>\n",
       "      <td>2</td>\n",
       "      <td>3</td>\n",
       "      <td>1</td>\n",
       "      <td>4</td>\n",
       "      <td>3</td>\n",
       "      <td>4</td>\n",
       "      <td>3</td>\n",
       "      <td>2</td>\n",
       "      <td>1</td>\n",
       "      <td>other</td>\n",
       "    </tr>\n",
       "    <tr>\n",
       "      <th>5</th>\n",
       "      <td>915468481</td>\n",
       "      <td>13.0</td>\n",
       "      <td>11.0</td>\n",
       "      <td>36.0</td>\n",
       "      <td>83.0</td>\n",
       "      <td>19</td>\n",
       "      <td>1</td>\n",
       "      <td>4</td>\n",
       "      <td>2</td>\n",
       "      <td>1</td>\n",
       "      <td>4</td>\n",
       "      <td>1</td>\n",
       "      <td>3</td>\n",
       "      <td>3</td>\n",
       "      <td>3</td>\n",
       "      <td>2</td>\n",
       "      <td>2</td>\n",
       "      <td>1</td>\n",
       "      <td>1</td>\n",
       "      <td>1</td>\n",
       "      <td>2</td>\n",
       "      <td>4</td>\n",
       "      <td>3</td>\n",
       "      <td>2</td>\n",
       "      <td>2</td>\n",
       "      <td>2</td>\n",
       "      <td>3</td>\n",
       "      <td>1</td>\n",
       "      <td>4</td>\n",
       "      <td>2</td>\n",
       "      <td>4</td>\n",
       "      <td>3</td>\n",
       "      <td>2</td>\n",
       "      <td>1</td>\n",
       "      <td>other</td>\n",
       "    </tr>\n",
       "  </tbody>\n",
       "</table>\n",
       "</div>"
      ],
      "text/plain": [
       "        tuid  unnamed1  unnamed2  unnamed3  soar  ncorrect  examNumber item_1  \\\n",
       "1  915493826       NaN       NaN       NaN   NaN        20           1      4   \n",
       "2  915323216       NaN       NaN       NaN  87.0        15           1      4   \n",
       "3  915271724       NaN       NaN       NaN   NaN        23           1      4   \n",
       "4  915501049      31.0      11.0      31.0  75.0        21           1      4   \n",
       "5  915468481      13.0      11.0      36.0  83.0        19           1      4   \n",
       "\n",
       "  item_2 item_3 item_4 item_5 item_6 item_7 item_8 item_9 item_10 item_11  \\\n",
       "1      2      1      3      1      4      4      1      2       2       1   \n",
       "2      2      1      1      1      3      4      1      3       2       3   \n",
       "3      2      1      3      1      3      3      1      2       4       1   \n",
       "4      2      1      3      1      4      2      2      3       3       1   \n",
       "5      2      1      4      1      3      3      3      2       2       1   \n",
       "\n",
       "  item_12 item_13 item_14 item_15 item_16 item_17 item_18 item_19 item_20  \\\n",
       "1       2       4       1       4       3       2       1       2       3   \n",
       "2       4       1       3       4       4       2       3       2       2   \n",
       "3       2       1       1       4       4       2       2       2       3   \n",
       "4       2       1       1       4       4       2       1       2       3   \n",
       "5       1       1       2       4       3       2       2       2       3   \n",
       "\n",
       "  item_21 item_22 item_23 item_24 item_25 item_26 item_27 soarType  \n",
       "1       1       4       4       4       3       1       1    other  \n",
       "2       1       3       2       4       3       2       1    other  \n",
       "3       1       1       3       4       3       2       2    other  \n",
       "4       1       4       3       4       3       2       1    other  \n",
       "5       1       4       2       4       3       2       1    other  "
      ]
     },
     "execution_count": 17,
     "metadata": {},
     "output_type": "execute_result"
    }
   ],
   "source": [
    "df.head()"
   ]
  },
  {
   "cell_type": "code",
   "execution_count": 18,
   "metadata": {},
   "outputs": [
    {
     "data": {
      "text/plain": [
       "array(['key'], dtype=object)"
      ]
     },
     "execution_count": 18,
     "metadata": {},
     "output_type": "execute_result"
    }
   ],
   "source": [
    "dfkey.soarType.unique()"
   ]
  },
  {
   "cell_type": "code",
   "execution_count": 19,
   "metadata": {},
   "outputs": [
    {
     "data": {
      "text/html": [
       "<div>\n",
       "<style scoped>\n",
       "    .dataframe tbody tr th:only-of-type {\n",
       "        vertical-align: middle;\n",
       "    }\n",
       "\n",
       "    .dataframe tbody tr th {\n",
       "        vertical-align: top;\n",
       "    }\n",
       "\n",
       "    .dataframe thead th {\n",
       "        text-align: right;\n",
       "    }\n",
       "</style>\n",
       "<table border=\"1\" class=\"dataframe\">\n",
       "  <thead>\n",
       "    <tr style=\"text-align: right;\">\n",
       "      <th></th>\n",
       "      <th>count</th>\n",
       "      <th>min</th>\n",
       "      <th>percentile25</th>\n",
       "      <th>percentile75</th>\n",
       "      <th>max</th>\n",
       "      <th>median</th>\n",
       "      <th>iqr</th>\n",
       "      <th>mean</th>\n",
       "      <th>std</th>\n",
       "    </tr>\n",
       "    <tr>\n",
       "      <th>soar</th>\n",
       "      <th></th>\n",
       "      <th></th>\n",
       "      <th></th>\n",
       "      <th></th>\n",
       "      <th></th>\n",
       "      <th></th>\n",
       "      <th></th>\n",
       "      <th></th>\n",
       "      <th></th>\n",
       "    </tr>\n",
       "  </thead>\n",
       "  <tbody>\n",
       "    <tr>\n",
       "      <th>81.0</th>\n",
       "      <td>32</td>\n",
       "      <td>11</td>\n",
       "      <td>15.75</td>\n",
       "      <td>19.25</td>\n",
       "      <td>24</td>\n",
       "      <td>18</td>\n",
       "      <td>3.50</td>\n",
       "      <td>17.562500</td>\n",
       "      <td>3.472821</td>\n",
       "    </tr>\n",
       "    <tr>\n",
       "      <th>6.0</th>\n",
       "      <td>1</td>\n",
       "      <td>17</td>\n",
       "      <td>17.00</td>\n",
       "      <td>17.00</td>\n",
       "      <td>17</td>\n",
       "      <td>17</td>\n",
       "      <td>0.00</td>\n",
       "      <td>17.000000</td>\n",
       "      <td>NaN</td>\n",
       "    </tr>\n",
       "    <tr>\n",
       "      <th>71.0</th>\n",
       "      <td>28</td>\n",
       "      <td>10</td>\n",
       "      <td>14.75</td>\n",
       "      <td>19.00</td>\n",
       "      <td>26</td>\n",
       "      <td>17</td>\n",
       "      <td>4.25</td>\n",
       "      <td>17.107143</td>\n",
       "      <td>3.675135</td>\n",
       "    </tr>\n",
       "    <tr>\n",
       "      <th>73.0</th>\n",
       "      <td>20</td>\n",
       "      <td>8</td>\n",
       "      <td>12.00</td>\n",
       "      <td>18.25</td>\n",
       "      <td>25</td>\n",
       "      <td>17</td>\n",
       "      <td>6.25</td>\n",
       "      <td>15.900000</td>\n",
       "      <td>4.529436</td>\n",
       "    </tr>\n",
       "    <tr>\n",
       "      <th>75.0</th>\n",
       "      <td>30</td>\n",
       "      <td>8</td>\n",
       "      <td>14.25</td>\n",
       "      <td>19.00</td>\n",
       "      <td>23</td>\n",
       "      <td>17</td>\n",
       "      <td>4.75</td>\n",
       "      <td>16.466667</td>\n",
       "      <td>3.441465</td>\n",
       "    </tr>\n",
       "    <tr>\n",
       "      <th>83.0</th>\n",
       "      <td>24</td>\n",
       "      <td>12</td>\n",
       "      <td>15.00</td>\n",
       "      <td>17.00</td>\n",
       "      <td>22</td>\n",
       "      <td>16</td>\n",
       "      <td>2.00</td>\n",
       "      <td>16.041667</td>\n",
       "      <td>2.115762</td>\n",
       "    </tr>\n",
       "    <tr>\n",
       "      <th>84.0</th>\n",
       "      <td>26</td>\n",
       "      <td>9</td>\n",
       "      <td>14.25</td>\n",
       "      <td>19.00</td>\n",
       "      <td>24</td>\n",
       "      <td>16</td>\n",
       "      <td>4.75</td>\n",
       "      <td>16.384615</td>\n",
       "      <td>3.677792</td>\n",
       "    </tr>\n",
       "    <tr>\n",
       "      <th>87.0</th>\n",
       "      <td>23</td>\n",
       "      <td>8</td>\n",
       "      <td>14.00</td>\n",
       "      <td>20.50</td>\n",
       "      <td>26</td>\n",
       "      <td>16</td>\n",
       "      <td>6.50</td>\n",
       "      <td>16.913043</td>\n",
       "      <td>5.186635</td>\n",
       "    </tr>\n",
       "    <tr>\n",
       "      <th>72.0</th>\n",
       "      <td>27</td>\n",
       "      <td>6</td>\n",
       "      <td>14.00</td>\n",
       "      <td>19.00</td>\n",
       "      <td>26</td>\n",
       "      <td>15</td>\n",
       "      <td>5.00</td>\n",
       "      <td>15.851852</td>\n",
       "      <td>4.221772</td>\n",
       "    </tr>\n",
       "  </tbody>\n",
       "</table>\n",
       "</div>"
      ],
      "text/plain": [
       "      count  min  percentile25  percentile75  max  median   iqr       mean  \\\n",
       "soar                                                                         \n",
       "81.0     32   11         15.75         19.25   24      18  3.50  17.562500   \n",
       "6.0       1   17         17.00         17.00   17      17  0.00  17.000000   \n",
       "71.0     28   10         14.75         19.00   26      17  4.25  17.107143   \n",
       "73.0     20    8         12.00         18.25   25      17  6.25  15.900000   \n",
       "75.0     30    8         14.25         19.00   23      17  4.75  16.466667   \n",
       "83.0     24   12         15.00         17.00   22      16  2.00  16.041667   \n",
       "84.0     26    9         14.25         19.00   24      16  4.75  16.384615   \n",
       "87.0     23    8         14.00         20.50   26      16  6.50  16.913043   \n",
       "72.0     27    6         14.00         19.00   26      15  5.00  15.851852   \n",
       "\n",
       "           std  \n",
       "soar            \n",
       "81.0  3.472821  \n",
       "6.0        NaN  \n",
       "71.0  3.675135  \n",
       "73.0  4.529436  \n",
       "75.0  3.441465  \n",
       "83.0  2.115762  \n",
       "84.0  3.677792  \n",
       "87.0  5.186635  \n",
       "72.0  4.221772  "
      ]
     },
     "execution_count": 19,
     "metadata": {},
     "output_type": "execute_result"
    }
   ],
   "source": [
    "scores = df.groupby(['soar']).ncorrect\\\n",
    ".agg(['count','min',percentile25,percentile75,'max','median',iqr,'mean','std'])\\\n",
    ".sort_values('median', ascending =False)\n",
    "scores.to_csv('Exam3Score breakdown.csv')\n",
    "scores"
   ]
  },
  {
   "cell_type": "markdown",
   "metadata": {},
   "source": [
    "Now let's look at the distribution of individuals who scored above the 75-percentile in their class.  This gives us an idea of how distributed the high scores are in each section."
   ]
  },
  {
   "cell_type": "code",
   "execution_count": 20,
   "metadata": {},
   "outputs": [
    {
     "data": {
      "text/html": [
       "<div>\n",
       "<style scoped>\n",
       "    .dataframe tbody tr th:only-of-type {\n",
       "        vertical-align: middle;\n",
       "    }\n",
       "\n",
       "    .dataframe tbody tr th {\n",
       "        vertical-align: top;\n",
       "    }\n",
       "\n",
       "    .dataframe thead th {\n",
       "        text-align: right;\n",
       "    }\n",
       "</style>\n",
       "<table border=\"1\" class=\"dataframe\">\n",
       "  <thead>\n",
       "    <tr style=\"text-align: right;\">\n",
       "      <th></th>\n",
       "      <th>soar</th>\n",
       "      <th>nAbove75p</th>\n",
       "    </tr>\n",
       "  </thead>\n",
       "  <tbody>\n",
       "    <tr>\n",
       "      <th>0</th>\n",
       "      <td>6</td>\n",
       "      <td>0</td>\n",
       "    </tr>\n",
       "    <tr>\n",
       "      <th>1</th>\n",
       "      <td>71</td>\n",
       "      <td>6</td>\n",
       "    </tr>\n",
       "    <tr>\n",
       "      <th>2</th>\n",
       "      <td>72</td>\n",
       "      <td>5</td>\n",
       "    </tr>\n",
       "    <tr>\n",
       "      <th>3</th>\n",
       "      <td>73</td>\n",
       "      <td>5</td>\n",
       "    </tr>\n",
       "    <tr>\n",
       "      <th>4</th>\n",
       "      <td>75</td>\n",
       "      <td>7</td>\n",
       "    </tr>\n",
       "    <tr>\n",
       "      <th>5</th>\n",
       "      <td>81</td>\n",
       "      <td>8</td>\n",
       "    </tr>\n",
       "    <tr>\n",
       "      <th>6</th>\n",
       "      <td>83</td>\n",
       "      <td>5</td>\n",
       "    </tr>\n",
       "    <tr>\n",
       "      <th>7</th>\n",
       "      <td>84</td>\n",
       "      <td>6</td>\n",
       "    </tr>\n",
       "    <tr>\n",
       "      <th>8</th>\n",
       "      <td>87</td>\n",
       "      <td>6</td>\n",
       "    </tr>\n",
       "  </tbody>\n",
       "</table>\n",
       "</div>"
      ],
      "text/plain": [
       "  soar  nAbove75p\n",
       "0    6          0\n",
       "1   71          6\n",
       "2   72          5\n",
       "3   73          5\n",
       "4   75          7\n",
       "5   81          8\n",
       "6   83          5\n",
       "7   84          6\n",
       "8   87          6"
      ]
     },
     "execution_count": 20,
     "metadata": {},
     "output_type": "execute_result"
    }
   ],
   "source": [
    "highAchieverslocal = df.groupby('soar').ncorrect.apply(lambda x: x.loc[x>x.quantile(.75)].count())\\\n",
    ".reset_index()\\\n",
    ".rename(columns = {'ncorrect':'nAbove75p'})\n",
    "highAchieverslocal.soar = highAchieverslocal.soar.astype(int)\n",
    "highAchieverslocal.soar = highAchieverslocal.soar.astype(str)\n",
    "highAchieverslocal"
   ]
  },
  {
   "cell_type": "markdown",
   "metadata": {},
   "source": [
    "Now let's look at the distribution of individuals who scored above the 75-percentile across the entire class.  This gives us an idea of how distributed the high scores are across sections."
   ]
  },
  {
   "cell_type": "code",
   "execution_count": 21,
   "metadata": {},
   "outputs": [
    {
     "name": "stdout",
     "output_type": "stream",
     "text": [
      "The overall all median and 75 percentile were 17.0 and 19.0, respectively.\n"
     ]
    },
    {
     "data": {
      "text/html": [
       "<div>\n",
       "<style scoped>\n",
       "    .dataframe tbody tr th:only-of-type {\n",
       "        vertical-align: middle;\n",
       "    }\n",
       "\n",
       "    .dataframe tbody tr th {\n",
       "        vertical-align: top;\n",
       "    }\n",
       "\n",
       "    .dataframe thead th {\n",
       "        text-align: right;\n",
       "    }\n",
       "</style>\n",
       "<table border=\"1\" class=\"dataframe\">\n",
       "  <thead>\n",
       "    <tr style=\"text-align: right;\">\n",
       "      <th></th>\n",
       "      <th>soar</th>\n",
       "      <th>nAbove75p</th>\n",
       "    </tr>\n",
       "  </thead>\n",
       "  <tbody>\n",
       "    <tr>\n",
       "      <th>0</th>\n",
       "      <td>71.0</td>\n",
       "      <td>6</td>\n",
       "    </tr>\n",
       "    <tr>\n",
       "      <th>1</th>\n",
       "      <td>72.0</td>\n",
       "      <td>5</td>\n",
       "    </tr>\n",
       "    <tr>\n",
       "      <th>2</th>\n",
       "      <td>73.0</td>\n",
       "      <td>3</td>\n",
       "    </tr>\n",
       "    <tr>\n",
       "      <th>3</th>\n",
       "      <td>75.0</td>\n",
       "      <td>7</td>\n",
       "    </tr>\n",
       "    <tr>\n",
       "      <th>4</th>\n",
       "      <td>81.0</td>\n",
       "      <td>8</td>\n",
       "    </tr>\n",
       "    <tr>\n",
       "      <th>5</th>\n",
       "      <td>83.0</td>\n",
       "      <td>1</td>\n",
       "    </tr>\n",
       "    <tr>\n",
       "      <th>6</th>\n",
       "      <td>84.0</td>\n",
       "      <td>6</td>\n",
       "    </tr>\n",
       "    <tr>\n",
       "      <th>7</th>\n",
       "      <td>87.0</td>\n",
       "      <td>10</td>\n",
       "    </tr>\n",
       "  </tbody>\n",
       "</table>\n",
       "</div>"
      ],
      "text/plain": [
       "   soar  nAbove75p\n",
       "0  71.0          6\n",
       "1  72.0          5\n",
       "2  73.0          3\n",
       "3  75.0          7\n",
       "4  81.0          8\n",
       "5  83.0          1\n",
       "6  84.0          6\n",
       "7  87.0         10"
      ]
     },
     "execution_count": 21,
     "metadata": {},
     "output_type": "execute_result"
    }
   ],
   "source": [
    "highAchieversGlobal = df.loc[df.ncorrect>df.ncorrect.quantile(.75)]\\\n",
    ".groupby('soar').ncorrect.count().reset_index()\\\n",
    ".rename(columns = {'ncorrect':'nAbove75p'})\n",
    "print('The overall all median and 75 percentile were {} and {}, \\\n",
    "respectively.'.format(df.ncorrect.median(),df.ncorrect.quantile(.75)))\n",
    "highAchieversGlobal"
   ]
  },
  {
   "cell_type": "markdown",
   "metadata": {},
   "source": [
    "## Vizualization"
   ]
  },
  {
   "cell_type": "code",
   "execution_count": 22,
   "metadata": {},
   "outputs": [
    {
     "name": "stdout",
     "output_type": "stream",
     "text": [
      "Aw, snap! We didn't get a username with your request.\n",
      "\n",
      "Don't have an account? https://plot.ly/api_signup\n",
      "\n",
      "Questions? accounts@plot.ly\n"
     ]
    },
    {
     "ename": "PlotlyError",
     "evalue": "Because you didn't supply a 'file_id' in the call, we're assuming you're trying to snag a figure from a url. You supplied the url, '', we expected it to start with 'https://plot.ly'.\nRun help on this function for more information.",
     "output_type": "error",
     "traceback": [
      "\u001b[1;31m---------------------------------------------------------------------------\u001b[0m",
      "\u001b[1;31mPlotlyError\u001b[0m                               Traceback (most recent call last)",
      "\u001b[1;32m<ipython-input-22-56c1dbef323f>\u001b[0m in \u001b[0;36m<module>\u001b[1;34m()\u001b[0m\n\u001b[0;32m     17\u001b[0m         \u001b[0mdata\u001b[0m \u001b[1;33m=\u001b[0m \u001b[0mdata\u001b[0m\u001b[1;33m,\u001b[0m\u001b[1;33m\u001b[0m\u001b[0m\n\u001b[0;32m     18\u001b[0m         layout = layout)\n\u001b[1;32m---> 19\u001b[1;33m \u001b[0mpy\u001b[0m\u001b[1;33m.\u001b[0m\u001b[0miplot\u001b[0m\u001b[1;33m(\u001b[0m\u001b[0mfig\u001b[0m\u001b[1;33m,\u001b[0m \u001b[0mfilename\u001b[0m \u001b[1;33m=\u001b[0m \u001b[1;34m'Bar of High Achievers Global 2018E31111'\u001b[0m\u001b[1;33m)\u001b[0m\u001b[1;33m\u001b[0m\u001b[0m\n\u001b[0m",
      "\u001b[1;32m~\\AppData\\Local\\Continuum\\anaconda3\\lib\\site-packages\\plotly\\plotly\\plotly.py\u001b[0m in \u001b[0;36miplot\u001b[1;34m(figure_or_data, **plot_options)\u001b[0m\n\u001b[0;32m    168\u001b[0m         \u001b[0membed_options\u001b[0m\u001b[1;33m[\u001b[0m\u001b[1;34m'height'\u001b[0m\u001b[1;33m]\u001b[0m \u001b[1;33m=\u001b[0m \u001b[0mstr\u001b[0m\u001b[1;33m(\u001b[0m\u001b[0membed_options\u001b[0m\u001b[1;33m[\u001b[0m\u001b[1;34m'height'\u001b[0m\u001b[1;33m]\u001b[0m\u001b[1;33m)\u001b[0m \u001b[1;33m+\u001b[0m \u001b[1;34m'px'\u001b[0m\u001b[1;33m\u001b[0m\u001b[0m\n\u001b[0;32m    169\u001b[0m \u001b[1;33m\u001b[0m\u001b[0m\n\u001b[1;32m--> 170\u001b[1;33m     \u001b[1;32mreturn\u001b[0m \u001b[0mtools\u001b[0m\u001b[1;33m.\u001b[0m\u001b[0membed\u001b[0m\u001b[1;33m(\u001b[0m\u001b[0murl\u001b[0m\u001b[1;33m,\u001b[0m \u001b[1;33m**\u001b[0m\u001b[0membed_options\u001b[0m\u001b[1;33m)\u001b[0m\u001b[1;33m\u001b[0m\u001b[0m\n\u001b[0m\u001b[0;32m    171\u001b[0m \u001b[1;33m\u001b[0m\u001b[0m\n\u001b[0;32m    172\u001b[0m \u001b[1;33m\u001b[0m\u001b[0m\n",
      "\u001b[1;32m~\\AppData\\Local\\Continuum\\anaconda3\\lib\\site-packages\\plotly\\tools.py\u001b[0m in \u001b[0;36membed\u001b[1;34m(file_owner_or_url, file_id, width, height)\u001b[0m\n\u001b[0;32m    399\u001b[0m         \u001b[1;32melse\u001b[0m\u001b[1;33m:\u001b[0m\u001b[1;33m\u001b[0m\u001b[0m\n\u001b[0;32m    400\u001b[0m             \u001b[0murl\u001b[0m \u001b[1;33m=\u001b[0m \u001b[0mfile_owner_or_url\u001b[0m\u001b[1;33m\u001b[0m\u001b[0m\n\u001b[1;32m--> 401\u001b[1;33m         \u001b[1;32mreturn\u001b[0m \u001b[0mPlotlyDisplay\u001b[0m\u001b[1;33m(\u001b[0m\u001b[0murl\u001b[0m\u001b[1;33m,\u001b[0m \u001b[0mwidth\u001b[0m\u001b[1;33m,\u001b[0m \u001b[0mheight\u001b[0m\u001b[1;33m)\u001b[0m\u001b[1;33m\u001b[0m\u001b[0m\n\u001b[0m\u001b[0;32m    402\u001b[0m     \u001b[1;32melse\u001b[0m\u001b[1;33m:\u001b[0m\u001b[1;33m\u001b[0m\u001b[0m\n\u001b[0;32m    403\u001b[0m         if (get_config_defaults()['plotly_domain']\n",
      "\u001b[1;32m~\\AppData\\Local\\Continuum\\anaconda3\\lib\\site-packages\\plotly\\tools.py\u001b[0m in \u001b[0;36m__init__\u001b[1;34m(self, url, width, height)\u001b[0m\n\u001b[0;32m   1479\u001b[0m         \u001b[1;32mdef\u001b[0m \u001b[0m__init__\u001b[0m\u001b[1;33m(\u001b[0m\u001b[0mself\u001b[0m\u001b[1;33m,\u001b[0m \u001b[0murl\u001b[0m\u001b[1;33m,\u001b[0m \u001b[0mwidth\u001b[0m\u001b[1;33m,\u001b[0m \u001b[0mheight\u001b[0m\u001b[1;33m)\u001b[0m\u001b[1;33m:\u001b[0m\u001b[1;33m\u001b[0m\u001b[0m\n\u001b[0;32m   1480\u001b[0m             \u001b[0mself\u001b[0m\u001b[1;33m.\u001b[0m\u001b[0mresource\u001b[0m \u001b[1;33m=\u001b[0m \u001b[0murl\u001b[0m\u001b[1;33m\u001b[0m\u001b[0m\n\u001b[1;32m-> 1481\u001b[1;33m             \u001b[0mself\u001b[0m\u001b[1;33m.\u001b[0m\u001b[0membed_code\u001b[0m \u001b[1;33m=\u001b[0m \u001b[0mget_embed\u001b[0m\u001b[1;33m(\u001b[0m\u001b[0murl\u001b[0m\u001b[1;33m,\u001b[0m \u001b[0mwidth\u001b[0m\u001b[1;33m=\u001b[0m\u001b[0mwidth\u001b[0m\u001b[1;33m,\u001b[0m \u001b[0mheight\u001b[0m\u001b[1;33m=\u001b[0m\u001b[0mheight\u001b[0m\u001b[1;33m)\u001b[0m\u001b[1;33m\u001b[0m\u001b[0m\n\u001b[0m\u001b[0;32m   1482\u001b[0m             \u001b[0msuper\u001b[0m\u001b[1;33m(\u001b[0m\u001b[0mPlotlyDisplay\u001b[0m\u001b[1;33m,\u001b[0m \u001b[0mself\u001b[0m\u001b[1;33m)\u001b[0m\u001b[1;33m.\u001b[0m\u001b[0m__init__\u001b[0m\u001b[1;33m(\u001b[0m\u001b[0mdata\u001b[0m\u001b[1;33m=\u001b[0m\u001b[0mself\u001b[0m\u001b[1;33m.\u001b[0m\u001b[0membed_code\u001b[0m\u001b[1;33m)\u001b[0m\u001b[1;33m\u001b[0m\u001b[0m\n\u001b[0;32m   1483\u001b[0m \u001b[1;33m\u001b[0m\u001b[0m\n",
      "\u001b[1;32m~\\AppData\\Local\\Continuum\\anaconda3\\lib\\site-packages\\plotly\\tools.py\u001b[0m in \u001b[0;36mget_embed\u001b[1;34m(file_owner_or_url, file_id, width, height)\u001b[0m\n\u001b[0;32m    304\u001b[0m                 \u001b[1;34m\"'{1}'.\"\u001b[0m\u001b[1;33m\u001b[0m\u001b[0m\n\u001b[0;32m    305\u001b[0m                 \u001b[1;34m\"\\nRun help on this function for more information.\"\u001b[0m\u001b[1;33m\u001b[0m\u001b[0m\n\u001b[1;32m--> 306\u001b[1;33m                 \"\".format(url, plotly_rest_url))\n\u001b[0m\u001b[0;32m    307\u001b[0m         \u001b[0murlsplit\u001b[0m \u001b[1;33m=\u001b[0m \u001b[0msix\u001b[0m\u001b[1;33m.\u001b[0m\u001b[0mmoves\u001b[0m\u001b[1;33m.\u001b[0m\u001b[0murllib\u001b[0m\u001b[1;33m.\u001b[0m\u001b[0mparse\u001b[0m\u001b[1;33m.\u001b[0m\u001b[0murlparse\u001b[0m\u001b[1;33m(\u001b[0m\u001b[0murl\u001b[0m\u001b[1;33m)\u001b[0m\u001b[1;33m\u001b[0m\u001b[0m\n\u001b[0;32m    308\u001b[0m         \u001b[0mfile_owner\u001b[0m \u001b[1;33m=\u001b[0m \u001b[0murlsplit\u001b[0m\u001b[1;33m.\u001b[0m\u001b[0mpath\u001b[0m\u001b[1;33m.\u001b[0m\u001b[0msplit\u001b[0m\u001b[1;33m(\u001b[0m\u001b[1;34m'/'\u001b[0m\u001b[1;33m)\u001b[0m\u001b[1;33m[\u001b[0m\u001b[1;36m1\u001b[0m\u001b[1;33m]\u001b[0m\u001b[1;33m.\u001b[0m\u001b[0msplit\u001b[0m\u001b[1;33m(\u001b[0m\u001b[1;34m'~'\u001b[0m\u001b[1;33m)\u001b[0m\u001b[1;33m[\u001b[0m\u001b[1;36m1\u001b[0m\u001b[1;33m]\u001b[0m\u001b[1;33m\u001b[0m\u001b[0m\n",
      "\u001b[1;31mPlotlyError\u001b[0m: Because you didn't supply a 'file_id' in the call, we're assuming you're trying to snag a figure from a url. You supplied the url, '', we expected it to start with 'https://plot.ly'.\nRun help on this function for more information."
     ]
    }
   ],
   "source": [
    "data = [go.Bar(x = highAchieversGlobal.soar,y = highAchieversGlobal.nAbove75p)]\n",
    "layout = go.Layout(\n",
    "    title = 'Higher Acheivers Global',\n",
    "    titlefont = dict(\n",
    "        size = 20),\n",
    "    xaxis = dict(\n",
    "        dtick = 1,\n",
    "        title = 'SOAR Section',\n",
    "        titlefont = dict(\n",
    "            size = 18)),\n",
    "    yaxis = dict(\n",
    "        title = 'Number of High Achievers',\n",
    "        titlefont = dict(\n",
    "            size = 18)))\n",
    "\n",
    "fig = go.Figure(\n",
    "        data = data,\n",
    "        layout = layout)\n",
    "py.iplot(fig, filename = 'Bar of High Achievers Global 2018E31111')"
   ]
  }
 ],
 "metadata": {
  "kernelspec": {
   "display_name": "Python 3",
   "language": "python",
   "name": "python3"
  },
  "language_info": {
   "codemirror_mode": {
    "name": "ipython",
    "version": 3
   },
   "file_extension": ".py",
   "mimetype": "text/x-python",
   "name": "python",
   "nbconvert_exporter": "python",
   "pygments_lexer": "ipython3",
   "version": "3.6.4"
  }
 },
 "nbformat": 4,
 "nbformat_minor": 2
}
