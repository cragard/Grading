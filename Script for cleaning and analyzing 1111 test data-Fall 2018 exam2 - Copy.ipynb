{
 "cells": [
  {
   "cell_type": "markdown",
   "metadata": {},
   "source": [
    "This notebook cleans .txt data for students performance on exams for BIO1111 and exports a csv which can be analyzed in an R script.\n",
    "#### Author: Christopher Agard"
   ]
  },
  {
   "cell_type": "code",
   "execution_count": 1,
   "metadata": {},
   "outputs": [],
   "source": [
    "import pandas as pd\n",
    "import numpy as np\n",
    "import os,glob,string\n",
    "import plotly\n",
    "import plotly.plotly as py\n",
    "import plotly.graph_objs as go\n",
    "\n",
    "plotly.tools.set_config_file(world_readable=True)\n",
    "\n",
    "def cleanSoarExam (data, examNum, fileType='flat',\n",
    "                   colSpec = [(0,9),(10,21),(22,28),(29,30),(30,32),(32,34),(34,36),(36,38),(39,41),(41,68)],\n",
    "                   soarSessions=[]):\n",
    "\n",
    "    if fileType != 'flat':\n",
    "        print(\"\\n{} fileType is not currently supported.\".format(fileType))\n",
    "    else:\n",
    "        try:\n",
    "            df=pd.read_fwf(data,colSpec,names=['tuid','last','first','middle','unnamed1','unnamed2','unnamed3','soar','ncorrect','item'])\n",
    "        except:\n",
    "            \"print(\\nCould not find file {} or {} was not acceptable value for colSpec)\".format(data,colSpec)\n",
    "        #try:\n",
    "        #    df.columns = ['tuid','last','first','middle','unnamed1','unnamed2','unnamed3','soar','ncorrect','item']\n",
    "        #except:\n",
    "        #    print(\"\\nColumn number != 10.\\n{}\".format(len(df.columns)))\n",
    "        try:\n",
    "            df['examNumber']=examNum\n",
    "            numbers=pd.Series(list(range(28))).astype(str)\n",
    "            itemNames= 'item_'+ numbers[1:]\n",
    "            itemData=df.item.apply(lambda i: pd.Series(list(i)))\n",
    "            itemData.columns=itemNames\n",
    "            df=df.merge(itemData,'outer',left_index=True,right_index=True).drop('item',axis=1)\n",
    "        except:\n",
    "            print(\"\\nUnhandled exception encountered.\")\n",
    "        if soarSessions ==np.nan:\n",
    "            df.loc['soarType']='other'\n",
    "        else:\n",
    "            df.loc[df.soar.isin(soarSessions),'soarType']='mine'\n",
    "            df.loc[~df.soar.isin(soarSessions),'soarType']='other'\n",
    "            df.loc[df.tuid=='NNNNNNNNN','soarType']='key'\n",
    "    return df\n",
    "        "
   ]
  },
  {
   "cell_type": "markdown",
   "metadata": {
    "collapsed": true
   },
   "source": [
    "Here we need to write a function to determine how many students get each item wrong."
   ]
  },
  {
   "cell_type": "code",
   "execution_count": 2,
   "metadata": {},
   "outputs": [],
   "source": [
    "# import pandas as pd\n",
    "# import numpy as np\n",
    "\n",
    "def nwrong (x,key):\n",
    "    \"\"\"\n",
    "    :param x: pd.Series\n",
    "    :param key: ~None\n",
    "    Takes a pandas series and a specified value and returns the number of values \n",
    "    in the series which do not match the specified value.\"\"\"\n",
    "    assert isinstance(x, pd.Series)\n",
    "    x = x.astype(str)\n",
    "    key = str(key)\n",
    "    return x[x!=key].count()\n",
    "    "
   ]
  },
  {
   "cell_type": "code",
   "execution_count": 3,
   "metadata": {},
   "outputs": [
    {
     "data": {
      "text/plain": [
       "'a'"
      ]
     },
     "execution_count": 3,
     "metadata": {},
     "output_type": "execute_result"
    }
   ],
   "source": [
    "list(string.ascii_lowercase)[0]"
   ]
  },
  {
   "cell_type": "markdown",
   "metadata": {},
   "source": [
    "# Setting up notebook"
   ]
  },
  {
   "cell_type": "code",
   "execution_count": 4,
   "metadata": {},
   "outputs": [],
   "source": [
    "import pandas as pd\n",
    "import numpy as np\n",
    "import os,glob\n",
    "\n",
    "pd.options.display.max_columns=50"
   ]
  },
  {
   "cell_type": "markdown",
   "metadata": {},
   "source": [
    "# Getting Exam Data"
   ]
  },
  {
   "cell_type": "markdown",
   "metadata": {},
   "source": [
    "Here we define paths for getting exam data and outputting results"
   ]
  },
  {
   "cell_type": "code",
   "execution_count": 5,
   "metadata": {},
   "outputs": [],
   "source": [
    "homesource = 'S:/Chris/Temple/Biol1111/Fall 2018/Raw Data/Exam 2'\n",
    "homeoutputFolder = 'S:/Chris/Temple/Biol1111/Fall 2018/Results/Exam 2'\n",
    "worksource = 'C:/Users/tuh27554/Documents/BIOL1111/Fall 2018/Raw Data/Exam 2'\n",
    "workoutputFolder = 'C:/Users/tuh27554/Documents/BIOL1111/Fall 2018/Results/Exam 2'"
   ]
  },
  {
   "cell_type": "markdown",
   "metadata": {},
   "source": [
    "Here we get a list of source data files. For this notebook we will use the \\*.txt files."
   ]
  },
  {
   "cell_type": "code",
   "execution_count": 6,
   "metadata": {},
   "outputs": [
    {
     "name": "stdout",
     "output_type": "stream",
     "text": [
      "['E2V21Raw.txt', 'E2V22Raw.txt']\n"
     ]
    }
   ],
   "source": [
    "os.chdir(homesource)\n",
    "files = glob.glob('*.txt')\n",
    "print(files)"
   ]
  },
  {
   "cell_type": "markdown",
   "metadata": {},
   "source": [
    " And now we read in and clean those data using the *cleanSoarExam* function."
   ]
  },
  {
   "cell_type": "code",
   "execution_count": 7,
   "metadata": {},
   "outputs": [
    {
     "name": "stdout",
     "output_type": "stream",
     "text": [
      "Version 1 of the exam has 121 students.\n",
      "Version 2 of the exam has 118 students.\n"
     ]
    }
   ],
   "source": [
    "df1 = cleanSoarExam(files[0],examNum=1,soarSessions=[81])\n",
    "print('Version 1 of the exam has {} students.'.format(df1.shape[0]-1))\n",
    "df2 = cleanSoarExam(files[1],examNum=1,soarSessions=[81])\n",
    "print('Version 2 of the exam has {} students.'.format(df2.shape[0]-1))\n",
    "os.chdir(homeoutputFolder)"
   ]
  },
  {
   "cell_type": "markdown",
   "metadata": {},
   "source": [
    "# Analyzing Exam Data"
   ]
  },
  {
   "cell_type": "markdown",
   "metadata": {},
   "source": [
    "## Determining the most problematic items for the class"
   ]
  },
  {
   "cell_type": "markdown",
   "metadata": {},
   "source": [
    "We need to identify the item columns over which to apply *nwrong*."
   ]
  },
  {
   "cell_type": "code",
   "execution_count": 8,
   "metadata": {},
   "outputs": [],
   "source": [
    "itemcols1 = df1.columns[df1.columns.str.contains('item_')]\n",
    "itemcols2 = df2.columns[df2.columns.str.contains('item_')]"
   ]
  },
  {
   "cell_type": "code",
   "execution_count": 18,
   "metadata": {},
   "outputs": [
    {
     "data": {
      "text/html": [
       "<div>\n",
       "<style scoped>\n",
       "    .dataframe tbody tr th:only-of-type {\n",
       "        vertical-align: middle;\n",
       "    }\n",
       "\n",
       "    .dataframe tbody tr th {\n",
       "        vertical-align: top;\n",
       "    }\n",
       "\n",
       "    .dataframe thead th {\n",
       "        text-align: right;\n",
       "    }\n",
       "</style>\n",
       "<table border=\"1\" class=\"dataframe\">\n",
       "  <thead>\n",
       "    <tr style=\"text-align: right;\">\n",
       "      <th></th>\n",
       "      <th>tuid</th>\n",
       "      <th>last</th>\n",
       "      <th>first</th>\n",
       "      <th>middle</th>\n",
       "      <th>unnamed1</th>\n",
       "      <th>unnamed2</th>\n",
       "      <th>unnamed3</th>\n",
       "      <th>soar</th>\n",
       "      <th>ncorrect</th>\n",
       "      <th>examNumber</th>\n",
       "      <th>item_1</th>\n",
       "      <th>item_2</th>\n",
       "      <th>item_3</th>\n",
       "      <th>item_4</th>\n",
       "      <th>item_5</th>\n",
       "      <th>item_6</th>\n",
       "      <th>item_7</th>\n",
       "      <th>item_8</th>\n",
       "      <th>item_9</th>\n",
       "      <th>item_10</th>\n",
       "      <th>item_11</th>\n",
       "      <th>item_12</th>\n",
       "      <th>item_13</th>\n",
       "      <th>item_14</th>\n",
       "      <th>item_15</th>\n",
       "      <th>item_16</th>\n",
       "      <th>item_17</th>\n",
       "      <th>item_18</th>\n",
       "      <th>item_19</th>\n",
       "      <th>item_20</th>\n",
       "      <th>item_21</th>\n",
       "      <th>item_22</th>\n",
       "      <th>item_23</th>\n",
       "      <th>item_24</th>\n",
       "      <th>item_25</th>\n",
       "      <th>item_26</th>\n",
       "      <th>item_27</th>\n",
       "      <th>soarType</th>\n",
       "    </tr>\n",
       "  </thead>\n",
       "  <tbody>\n",
       "    <tr>\n",
       "      <th>1</th>\n",
       "      <td>915613829</td>\n",
       "      <td>GILL</td>\n",
       "      <td>SAMNIT</td>\n",
       "      <td>NaN</td>\n",
       "      <td>21.0</td>\n",
       "      <td>10.0</td>\n",
       "      <td>49.0</td>\n",
       "      <td>73.0</td>\n",
       "      <td>21</td>\n",
       "      <td>1</td>\n",
       "      <td>2</td>\n",
       "      <td>4</td>\n",
       "      <td>1</td>\n",
       "      <td>4</td>\n",
       "      <td>3</td>\n",
       "      <td>3</td>\n",
       "      <td>1</td>\n",
       "      <td>4</td>\n",
       "      <td>4</td>\n",
       "      <td>3</td>\n",
       "      <td>4</td>\n",
       "      <td>2</td>\n",
       "      <td>1</td>\n",
       "      <td>1</td>\n",
       "      <td>2</td>\n",
       "      <td>3</td>\n",
       "      <td>4</td>\n",
       "      <td>2</td>\n",
       "      <td>3</td>\n",
       "      <td>3</td>\n",
       "      <td>2</td>\n",
       "      <td>2</td>\n",
       "      <td>1</td>\n",
       "      <td>3</td>\n",
       "      <td>2</td>\n",
       "      <td>2</td>\n",
       "      <td>3</td>\n",
       "      <td>other</td>\n",
       "    </tr>\n",
       "    <tr>\n",
       "      <th>2</th>\n",
       "      <td>915063949</td>\n",
       "      <td>LU</td>\n",
       "      <td>WENROU</td>\n",
       "      <td>NaN</td>\n",
       "      <td>21.0</td>\n",
       "      <td>10.0</td>\n",
       "      <td>31.0</td>\n",
       "      <td>71.0</td>\n",
       "      <td>14</td>\n",
       "      <td>1</td>\n",
       "      <td>2</td>\n",
       "      <td>3</td>\n",
       "      <td>1</td>\n",
       "      <td>4</td>\n",
       "      <td>3</td>\n",
       "      <td>4</td>\n",
       "      <td>2</td>\n",
       "      <td>3</td>\n",
       "      <td>2</td>\n",
       "      <td>4</td>\n",
       "      <td>3</td>\n",
       "      <td>2</td>\n",
       "      <td>1</td>\n",
       "      <td>1</td>\n",
       "      <td>1</td>\n",
       "      <td>1</td>\n",
       "      <td>4</td>\n",
       "      <td>2</td>\n",
       "      <td>4</td>\n",
       "      <td>3</td>\n",
       "      <td>1</td>\n",
       "      <td>1</td>\n",
       "      <td>2</td>\n",
       "      <td>3</td>\n",
       "      <td>2</td>\n",
       "      <td>2</td>\n",
       "      <td>1</td>\n",
       "      <td>other</td>\n",
       "    </tr>\n",
       "    <tr>\n",
       "      <th>3</th>\n",
       "      <td>915397247</td>\n",
       "      <td>UNG</td>\n",
       "      <td>NANCY</td>\n",
       "      <td>NaN</td>\n",
       "      <td>21.0</td>\n",
       "      <td>11.0</td>\n",
       "      <td>9.0</td>\n",
       "      <td>71.0</td>\n",
       "      <td>11</td>\n",
       "      <td>1</td>\n",
       "      <td>1</td>\n",
       "      <td>4</td>\n",
       "      <td>1</td>\n",
       "      <td>4</td>\n",
       "      <td>3</td>\n",
       "      <td>2</td>\n",
       "      <td>3</td>\n",
       "      <td>1</td>\n",
       "      <td>2</td>\n",
       "      <td>2</td>\n",
       "      <td>3</td>\n",
       "      <td>2</td>\n",
       "      <td>2</td>\n",
       "      <td>3</td>\n",
       "      <td>2</td>\n",
       "      <td>3</td>\n",
       "      <td>4</td>\n",
       "      <td>4</td>\n",
       "      <td>3</td>\n",
       "      <td>4</td>\n",
       "      <td>4</td>\n",
       "      <td>4</td>\n",
       "      <td>3</td>\n",
       "      <td>2</td>\n",
       "      <td>4</td>\n",
       "      <td>3</td>\n",
       "      <td>1</td>\n",
       "      <td>other</td>\n",
       "    </tr>\n",
       "    <tr>\n",
       "      <th>4</th>\n",
       "      <td>915629319</td>\n",
       "      <td>ALQALLAF</td>\n",
       "      <td>ALI</td>\n",
       "      <td>NaN</td>\n",
       "      <td>21.0</td>\n",
       "      <td>10.0</td>\n",
       "      <td>50.0</td>\n",
       "      <td>73.0</td>\n",
       "      <td>25</td>\n",
       "      <td>1</td>\n",
       "      <td>2</td>\n",
       "      <td>4</td>\n",
       "      <td>1</td>\n",
       "      <td>4</td>\n",
       "      <td>3</td>\n",
       "      <td>3</td>\n",
       "      <td>1</td>\n",
       "      <td>4</td>\n",
       "      <td>2</td>\n",
       "      <td>1</td>\n",
       "      <td>3</td>\n",
       "      <td>2</td>\n",
       "      <td>1</td>\n",
       "      <td>1</td>\n",
       "      <td>2</td>\n",
       "      <td>3</td>\n",
       "      <td>4</td>\n",
       "      <td>4</td>\n",
       "      <td>3</td>\n",
       "      <td>1</td>\n",
       "      <td>2</td>\n",
       "      <td>1</td>\n",
       "      <td>1</td>\n",
       "      <td>1</td>\n",
       "      <td>2</td>\n",
       "      <td>2</td>\n",
       "      <td>3</td>\n",
       "      <td>other</td>\n",
       "    </tr>\n",
       "    <tr>\n",
       "      <th>5</th>\n",
       "      <td>915468481</td>\n",
       "      <td>NICHOLSON</td>\n",
       "      <td>JO</td>\n",
       "      <td>M</td>\n",
       "      <td>21.0</td>\n",
       "      <td>10.0</td>\n",
       "      <td>40.0</td>\n",
       "      <td>83.0</td>\n",
       "      <td>21</td>\n",
       "      <td>1</td>\n",
       "      <td>1</td>\n",
       "      <td>4</td>\n",
       "      <td>1</td>\n",
       "      <td>4</td>\n",
       "      <td>3</td>\n",
       "      <td>3</td>\n",
       "      <td>1</td>\n",
       "      <td>4</td>\n",
       "      <td>4</td>\n",
       "      <td>1</td>\n",
       "      <td>3</td>\n",
       "      <td>2</td>\n",
       "      <td>1</td>\n",
       "      <td>1</td>\n",
       "      <td>2</td>\n",
       "      <td>1</td>\n",
       "      <td>4</td>\n",
       "      <td>2</td>\n",
       "      <td>1</td>\n",
       "      <td>4</td>\n",
       "      <td>2</td>\n",
       "      <td>1</td>\n",
       "      <td>1</td>\n",
       "      <td>3</td>\n",
       "      <td>2</td>\n",
       "      <td>2</td>\n",
       "      <td>3</td>\n",
       "      <td>other</td>\n",
       "    </tr>\n",
       "  </tbody>\n",
       "</table>\n",
       "</div>"
      ],
      "text/plain": [
       "        tuid       last   first middle  unnamed1  unnamed2  unnamed3  soar  \\\n",
       "1  915613829       GILL  SAMNIT    NaN      21.0      10.0      49.0  73.0   \n",
       "2  915063949         LU  WENROU    NaN      21.0      10.0      31.0  71.0   \n",
       "3  915397247        UNG   NANCY    NaN      21.0      11.0       9.0  71.0   \n",
       "4  915629319   ALQALLAF     ALI    NaN      21.0      10.0      50.0  73.0   \n",
       "5  915468481  NICHOLSON      JO      M      21.0      10.0      40.0  83.0   \n",
       "\n",
       "   ncorrect  examNumber item_1 item_2 item_3 item_4 item_5 item_6 item_7  \\\n",
       "1        21           1      2      4      1      4      3      3      1   \n",
       "2        14           1      2      3      1      4      3      4      2   \n",
       "3        11           1      1      4      1      4      3      2      3   \n",
       "4        25           1      2      4      1      4      3      3      1   \n",
       "5        21           1      1      4      1      4      3      3      1   \n",
       "\n",
       "  item_8 item_9 item_10 item_11 item_12 item_13 item_14 item_15 item_16  \\\n",
       "1      4      4       3       4       2       1       1       2       3   \n",
       "2      3      2       4       3       2       1       1       1       1   \n",
       "3      1      2       2       3       2       2       3       2       3   \n",
       "4      4      2       1       3       2       1       1       2       3   \n",
       "5      4      4       1       3       2       1       1       2       1   \n",
       "\n",
       "  item_17 item_18 item_19 item_20 item_21 item_22 item_23 item_24 item_25  \\\n",
       "1       4       2       3       3       2       2       1       3       2   \n",
       "2       4       2       4       3       1       1       2       3       2   \n",
       "3       4       4       3       4       4       4       3       2       4   \n",
       "4       4       4       3       1       2       1       1       1       2   \n",
       "5       4       2       1       4       2       1       1       3       2   \n",
       "\n",
       "  item_26 item_27 soarType  \n",
       "1       2       3    other  \n",
       "2       2       1    other  \n",
       "3       3       1    other  \n",
       "4       2       3    other  \n",
       "5       2       3    other  "
      ]
     },
     "execution_count": 18,
     "metadata": {},
     "output_type": "execute_result"
    }
   ],
   "source": [
    "df.head()"
   ]
  },
  {
   "cell_type": "code",
   "execution_count": 19,
   "metadata": {},
   "outputs": [
    {
     "ename": "KeyError",
     "evalue": "'the label [df1.item_1] is not in the [columns]'",
     "output_type": "error",
     "traceback": [
      "\u001b[1;31m---------------------------------------------------------------------------\u001b[0m",
      "\u001b[1;31mKeyError\u001b[0m                                  Traceback (most recent call last)",
      "\u001b[1;32m~\\Anaconda3\\lib\\site-packages\\pandas\\core\\indexing.py\u001b[0m in \u001b[0;36m_validate_key\u001b[1;34m(self, key, axis)\u001b[0m\n\u001b[0;32m   1789\u001b[0m                 \u001b[1;32mif\u001b[0m \u001b[1;32mnot\u001b[0m \u001b[0max\u001b[0m\u001b[1;33m.\u001b[0m\u001b[0mcontains\u001b[0m\u001b[1;33m(\u001b[0m\u001b[0mkey\u001b[0m\u001b[1;33m)\u001b[0m\u001b[1;33m:\u001b[0m\u001b[1;33m\u001b[0m\u001b[0m\n\u001b[1;32m-> 1790\u001b[1;33m                     \u001b[0merror\u001b[0m\u001b[1;33m(\u001b[0m\u001b[1;33m)\u001b[0m\u001b[1;33m\u001b[0m\u001b[0m\n\u001b[0m\u001b[0;32m   1791\u001b[0m             \u001b[1;32mexcept\u001b[0m \u001b[0mTypeError\u001b[0m \u001b[1;32mas\u001b[0m \u001b[0me\u001b[0m\u001b[1;33m:\u001b[0m\u001b[1;33m\u001b[0m\u001b[0m\n",
      "\u001b[1;32m~\\Anaconda3\\lib\\site-packages\\pandas\\core\\indexing.py\u001b[0m in \u001b[0;36merror\u001b[1;34m()\u001b[0m\n\u001b[0;32m   1784\u001b[0m                                .format(key=key,\n\u001b[1;32m-> 1785\u001b[1;33m                                        axis=self.obj._get_axis_name(axis)))\n\u001b[0m\u001b[0;32m   1786\u001b[0m \u001b[1;33m\u001b[0m\u001b[0m\n",
      "\u001b[1;31mKeyError\u001b[0m: 'the label [df1.item_1] is not in the [columns]'",
      "\nDuring handling of the above exception, another exception occurred:\n",
      "\u001b[1;31mKeyError\u001b[0m                                  Traceback (most recent call last)",
      "\u001b[1;32m<ipython-input-19-87f09518835a>\u001b[0m in \u001b[0;36m<module>\u001b[1;34m()\u001b[0m\n\u001b[1;32m----> 1\u001b[1;33m \u001b[0mdf1\u001b[0m\u001b[1;33m.\u001b[0m\u001b[0mloc\u001b[0m\u001b[1;33m[\u001b[0m\u001b[1;33m(\u001b[0m\u001b[0mdf1\u001b[0m\u001b[1;33m.\u001b[0m\u001b[0msoarType\u001b[0m\u001b[1;33m==\u001b[0m\u001b[1;34m'key'\u001b[0m\u001b[1;33m)\u001b[0m \u001b[1;33m&\u001b[0m \u001b[1;33m(\u001b[0m\u001b[0mdf1\u001b[0m\u001b[1;33m.\u001b[0m\u001b[0mitem_1\u001b[0m\u001b[1;33m!=\u001b[0m\u001b[0mdf1\u001b[0m\u001b[1;33m.\u001b[0m\u001b[0mloc\u001b[0m\u001b[1;33m[\u001b[0m\u001b[0mdf1\u001b[0m\u001b[1;33m.\u001b[0m\u001b[0msoarType\u001b[0m\u001b[1;33m==\u001b[0m\u001b[1;34m'key'\u001b[0m\u001b[1;33m,\u001b[0m\u001b[1;34m'df1.item_1'\u001b[0m\u001b[1;33m]\u001b[0m\u001b[1;33m)\u001b[0m\u001b[1;33m]\u001b[0m\u001b[1;33m.\u001b[0m\u001b[0mncorrect\u001b[0m \u001b[1;33m+\u001b[0m\u001b[1;36m1\u001b[0m\u001b[1;33m\u001b[0m\u001b[0m\n\u001b[0m",
      "\u001b[1;32m~\\Anaconda3\\lib\\site-packages\\pandas\\core\\indexing.py\u001b[0m in \u001b[0;36m__getitem__\u001b[1;34m(self, key)\u001b[0m\n\u001b[0;32m   1470\u001b[0m             \u001b[1;32mexcept\u001b[0m \u001b[1;33m(\u001b[0m\u001b[0mKeyError\u001b[0m\u001b[1;33m,\u001b[0m \u001b[0mIndexError\u001b[0m\u001b[1;33m)\u001b[0m\u001b[1;33m:\u001b[0m\u001b[1;33m\u001b[0m\u001b[0m\n\u001b[0;32m   1471\u001b[0m                 \u001b[1;32mpass\u001b[0m\u001b[1;33m\u001b[0m\u001b[0m\n\u001b[1;32m-> 1472\u001b[1;33m             \u001b[1;32mreturn\u001b[0m \u001b[0mself\u001b[0m\u001b[1;33m.\u001b[0m\u001b[0m_getitem_tuple\u001b[0m\u001b[1;33m(\u001b[0m\u001b[0mkey\u001b[0m\u001b[1;33m)\u001b[0m\u001b[1;33m\u001b[0m\u001b[0m\n\u001b[0m\u001b[0;32m   1473\u001b[0m         \u001b[1;32melse\u001b[0m\u001b[1;33m:\u001b[0m\u001b[1;33m\u001b[0m\u001b[0m\n\u001b[0;32m   1474\u001b[0m             \u001b[1;31m# we by definition only have the 0th axis\u001b[0m\u001b[1;33m\u001b[0m\u001b[1;33m\u001b[0m\u001b[0m\n",
      "\u001b[1;32m~\\Anaconda3\\lib\\site-packages\\pandas\\core\\indexing.py\u001b[0m in \u001b[0;36m_getitem_tuple\u001b[1;34m(self, tup)\u001b[0m\n\u001b[0;32m    868\u001b[0m     \u001b[1;32mdef\u001b[0m \u001b[0m_getitem_tuple\u001b[0m\u001b[1;33m(\u001b[0m\u001b[0mself\u001b[0m\u001b[1;33m,\u001b[0m \u001b[0mtup\u001b[0m\u001b[1;33m)\u001b[0m\u001b[1;33m:\u001b[0m\u001b[1;33m\u001b[0m\u001b[0m\n\u001b[0;32m    869\u001b[0m         \u001b[1;32mtry\u001b[0m\u001b[1;33m:\u001b[0m\u001b[1;33m\u001b[0m\u001b[0m\n\u001b[1;32m--> 870\u001b[1;33m             \u001b[1;32mreturn\u001b[0m \u001b[0mself\u001b[0m\u001b[1;33m.\u001b[0m\u001b[0m_getitem_lowerdim\u001b[0m\u001b[1;33m(\u001b[0m\u001b[0mtup\u001b[0m\u001b[1;33m)\u001b[0m\u001b[1;33m\u001b[0m\u001b[0m\n\u001b[0m\u001b[0;32m    871\u001b[0m         \u001b[1;32mexcept\u001b[0m \u001b[0mIndexingError\u001b[0m\u001b[1;33m:\u001b[0m\u001b[1;33m\u001b[0m\u001b[0m\n\u001b[0;32m    872\u001b[0m             \u001b[1;32mpass\u001b[0m\u001b[1;33m\u001b[0m\u001b[0m\n",
      "\u001b[1;32m~\\Anaconda3\\lib\\site-packages\\pandas\\core\\indexing.py\u001b[0m in \u001b[0;36m_getitem_lowerdim\u001b[1;34m(self, tup)\u001b[0m\n\u001b[0;32m    996\u001b[0m         \u001b[1;32mfor\u001b[0m \u001b[0mi\u001b[0m\u001b[1;33m,\u001b[0m \u001b[0mkey\u001b[0m \u001b[1;32min\u001b[0m \u001b[0menumerate\u001b[0m\u001b[1;33m(\u001b[0m\u001b[0mtup\u001b[0m\u001b[1;33m)\u001b[0m\u001b[1;33m:\u001b[0m\u001b[1;33m\u001b[0m\u001b[0m\n\u001b[0;32m    997\u001b[0m             \u001b[1;32mif\u001b[0m \u001b[0mis_label_like\u001b[0m\u001b[1;33m(\u001b[0m\u001b[0mkey\u001b[0m\u001b[1;33m)\u001b[0m \u001b[1;32mor\u001b[0m \u001b[0misinstance\u001b[0m\u001b[1;33m(\u001b[0m\u001b[0mkey\u001b[0m\u001b[1;33m,\u001b[0m \u001b[0mtuple\u001b[0m\u001b[1;33m)\u001b[0m\u001b[1;33m:\u001b[0m\u001b[1;33m\u001b[0m\u001b[0m\n\u001b[1;32m--> 998\u001b[1;33m                 \u001b[0msection\u001b[0m \u001b[1;33m=\u001b[0m \u001b[0mself\u001b[0m\u001b[1;33m.\u001b[0m\u001b[0m_getitem_axis\u001b[0m\u001b[1;33m(\u001b[0m\u001b[0mkey\u001b[0m\u001b[1;33m,\u001b[0m \u001b[0maxis\u001b[0m\u001b[1;33m=\u001b[0m\u001b[0mi\u001b[0m\u001b[1;33m)\u001b[0m\u001b[1;33m\u001b[0m\u001b[0m\n\u001b[0m\u001b[0;32m    999\u001b[0m \u001b[1;33m\u001b[0m\u001b[0m\n\u001b[0;32m   1000\u001b[0m                 \u001b[1;31m# we have yielded a scalar ?\u001b[0m\u001b[1;33m\u001b[0m\u001b[1;33m\u001b[0m\u001b[0m\n",
      "\u001b[1;32m~\\Anaconda3\\lib\\site-packages\\pandas\\core\\indexing.py\u001b[0m in \u001b[0;36m_getitem_axis\u001b[1;34m(self, key, axis)\u001b[0m\n\u001b[0;32m   1909\u001b[0m \u001b[1;33m\u001b[0m\u001b[0m\n\u001b[0;32m   1910\u001b[0m         \u001b[1;31m# fall thru to straight lookup\u001b[0m\u001b[1;33m\u001b[0m\u001b[1;33m\u001b[0m\u001b[0m\n\u001b[1;32m-> 1911\u001b[1;33m         \u001b[0mself\u001b[0m\u001b[1;33m.\u001b[0m\u001b[0m_validate_key\u001b[0m\u001b[1;33m(\u001b[0m\u001b[0mkey\u001b[0m\u001b[1;33m,\u001b[0m \u001b[0maxis\u001b[0m\u001b[1;33m)\u001b[0m\u001b[1;33m\u001b[0m\u001b[0m\n\u001b[0m\u001b[0;32m   1912\u001b[0m         \u001b[1;32mreturn\u001b[0m \u001b[0mself\u001b[0m\u001b[1;33m.\u001b[0m\u001b[0m_get_label\u001b[0m\u001b[1;33m(\u001b[0m\u001b[0mkey\u001b[0m\u001b[1;33m,\u001b[0m \u001b[0maxis\u001b[0m\u001b[1;33m=\u001b[0m\u001b[0maxis\u001b[0m\u001b[1;33m)\u001b[0m\u001b[1;33m\u001b[0m\u001b[0m\n\u001b[0;32m   1913\u001b[0m \u001b[1;33m\u001b[0m\u001b[0m\n",
      "\u001b[1;32m~\\Anaconda3\\lib\\site-packages\\pandas\\core\\indexing.py\u001b[0m in \u001b[0;36m_validate_key\u001b[1;34m(self, key, axis)\u001b[0m\n\u001b[0;32m   1796\u001b[0m                 \u001b[1;32mraise\u001b[0m\u001b[1;33m\u001b[0m\u001b[0m\n\u001b[0;32m   1797\u001b[0m             \u001b[1;32mexcept\u001b[0m\u001b[1;33m:\u001b[0m\u001b[1;33m\u001b[0m\u001b[0m\n\u001b[1;32m-> 1798\u001b[1;33m                 \u001b[0merror\u001b[0m\u001b[1;33m(\u001b[0m\u001b[1;33m)\u001b[0m\u001b[1;33m\u001b[0m\u001b[0m\n\u001b[0m\u001b[0;32m   1799\u001b[0m \u001b[1;33m\u001b[0m\u001b[0m\n\u001b[0;32m   1800\u001b[0m     \u001b[1;32mdef\u001b[0m \u001b[0m_is_scalar_access\u001b[0m\u001b[1;33m(\u001b[0m\u001b[0mself\u001b[0m\u001b[1;33m,\u001b[0m \u001b[0mkey\u001b[0m\u001b[1;33m)\u001b[0m\u001b[1;33m:\u001b[0m\u001b[1;33m\u001b[0m\u001b[0m\n",
      "\u001b[1;32m~\\Anaconda3\\lib\\site-packages\\pandas\\core\\indexing.py\u001b[0m in \u001b[0;36merror\u001b[1;34m()\u001b[0m\n\u001b[0;32m   1783\u001b[0m                 raise KeyError(u\"the label [{key}] is not in the [{axis}]\"\n\u001b[0;32m   1784\u001b[0m                                .format(key=key,\n\u001b[1;32m-> 1785\u001b[1;33m                                        axis=self.obj._get_axis_name(axis)))\n\u001b[0m\u001b[0;32m   1786\u001b[0m \u001b[1;33m\u001b[0m\u001b[0m\n\u001b[0;32m   1787\u001b[0m             \u001b[1;32mtry\u001b[0m\u001b[1;33m:\u001b[0m\u001b[1;33m\u001b[0m\u001b[0m\n",
      "\u001b[1;31mKeyError\u001b[0m: 'the label [df1.item_1] is not in the [columns]'"
     ]
    }
   ],
   "source": [
    "df1.loc[(df1.soarType=='key') & (df1.item_1!=df1.loc[df1.soarType=='key','df1.item_1'])].ncorrect +1"
   ]
  },
  {
   "cell_type": "markdown",
   "metadata": {},
   "source": [
    "Now we apply the function to determine the number of students who answered incorrectly for version 1 and version 2 separately. We will only print one of these here for an example."
   ]
  },
  {
   "cell_type": "code",
   "execution_count": 9,
   "metadata": {},
   "outputs": [
    {
     "data": {
      "text/plain": [
       "item_1a    7\n",
       "item_2     5\n",
       "item_3     2\n",
       "item_4     0\n",
       "item_5     5\n",
       "item_6     0\n",
       "item_7     4\n",
       "item_8     4\n",
       "item_9     3\n",
       "item_10    9\n",
       "item_11    3\n",
       "item_12    4\n",
       "item_13    3\n",
       "item_14    2\n",
       "item_15    4\n",
       "item_16    5\n",
       "item_17    1\n",
       "item_18    6\n",
       "item_19    4\n",
       "item_20    7\n",
       "item_21    4\n",
       "item_22    8\n",
       "item_23    2\n",
       "item_24    9\n",
       "item_25    2\n",
       "item_26    2\n",
       "item_27    8\n",
       "dtype: int64"
      ]
     },
     "execution_count": 9,
     "metadata": {},
     "output_type": "execute_result"
    }
   ],
   "source": [
    "v1wrong = df1.loc[df1.soarType.isin(['mine','key']),itemcols1].apply(lambda x: nwrong(x=x[1:],key=x[0]))\n",
    "v1wrong = v1wrong.rename({'item_1':'item_1a'})\n",
    "v1wrong"
   ]
  },
  {
   "cell_type": "code",
   "execution_count": 10,
   "metadata": {},
   "outputs": [
    {
     "data": {
      "text/plain": [
       "item_1b     7\n",
       "item_2      2\n",
       "item_3      2\n",
       "item_4      1\n",
       "item_5      5\n",
       "item_6      3\n",
       "item_7      9\n",
       "item_8      8\n",
       "item_9      8\n",
       "item_10    12\n",
       "item_11     6\n",
       "item_12    11\n",
       "item_13    10\n",
       "item_14     8\n",
       "item_15     4\n",
       "item_16     8\n",
       "item_17     0\n",
       "item_18     7\n",
       "item_19     4\n",
       "item_20    13\n",
       "item_21    11\n",
       "item_22    13\n",
       "item_23     4\n",
       "item_24    13\n",
       "item_25     6\n",
       "item_26     2\n",
       "item_27     5\n",
       "dtype: int64"
      ]
     },
     "execution_count": 10,
     "metadata": {},
     "output_type": "execute_result"
    }
   ],
   "source": [
    "v2wrong = df2.loc[df2.soarType.isin(['mine','key']),itemcols2].apply(lambda x: nwrong(x=x[1:],key=x[0]))\n",
    "v2wrong = v2wrong.rename({'item_1':'item_1b'})\n",
    "v2wrong"
   ]
  },
  {
   "cell_type": "markdown",
   "metadata": {},
   "source": [
    "Adding these lists together we get the total number wrong on each item.  If we sort the resulting series in descending order, we will have the guide we need to determine the order for discussing the items in class."
   ]
  },
  {
   "cell_type": "code",
   "execution_count": 11,
   "metadata": {},
   "outputs": [
    {
     "data": {
      "text/plain": [
       "item_24    22.0\n",
       "item_10    21.0\n",
       "item_22    21.0\n",
       "item_20    20.0\n",
       "item_12    15.0\n",
       "item_21    15.0\n",
       "item_18    13.0\n",
       "item_7     13.0\n",
       "item_13    13.0\n",
       "item_16    13.0\n",
       "item_27    13.0\n",
       "item_8     12.0\n",
       "item_9     11.0\n",
       "item_14    10.0\n",
       "item_5     10.0\n",
       "item_11     9.0\n",
       "item_15     8.0\n",
       "item_19     8.0\n",
       "item_25     8.0\n",
       "item_2      7.0\n",
       "item_23     6.0\n",
       "item_26     4.0\n",
       "item_3      4.0\n",
       "item_6      3.0\n",
       "item_17     1.0\n",
       "item_4      1.0\n",
       "item_1a     NaN\n",
       "item_1b     NaN\n",
       "dtype: float64"
      ]
     },
     "execution_count": 11,
     "metadata": {},
     "output_type": "execute_result"
    }
   ],
   "source": [
    "totalwrong = v1wrong + v2wrong\n",
    "orderedwrong = totalwrong.sort_values(ascending=False)\n",
    "# orderedwrong.loc[~orderedwrong.isna()] = orderedwrong.loc[~orderedwrong.isna()].astype(int)\n",
    "orderedwrong"
   ]
  },
  {
   "cell_type": "markdown",
   "metadata": {},
   "source": [
    "Let's also print the letters for the correct answers for each item."
   ]
  },
  {
   "cell_type": "code",
   "execution_count": 12,
   "metadata": {},
   "outputs": [
    {
     "data": {
      "text/plain": [
       "item_1     B\n",
       "item_2     D\n",
       "item_3     A\n",
       "item_4     D\n",
       "item_5     C\n",
       "item_6     C\n",
       "item_7     A\n",
       "item_8     D\n",
       "item_9     B\n",
       "item_10    A\n",
       "item_11    C\n",
       "item_12    B\n",
       "item_13    A\n",
       "item_14    A\n",
       "item_15    B\n",
       "item_16    C\n",
       "item_17    D\n",
       "item_18    B\n",
       "item_19    C\n",
       "item_20    A\n",
       "item_21    B\n",
       "item_22    A\n",
       "item_23    A\n",
       "item_24    D\n",
       "item_25    B\n",
       "item_26    B\n",
       "item_27    C\n",
       "dtype: object"
      ]
     },
     "execution_count": 12,
     "metadata": {},
     "output_type": "execute_result"
    }
   ],
   "source": [
    "v1keys = df1.loc[df1.soarType=='key',itemcols1].apply(lambda x: list(string.ascii_uppercase)[int(x)-1])\n",
    "v1keys.to_csv('e2v1keys.csv')\n",
    "v1keys\n",
    "# v2wrong = df2.loc[df2.soarType.isin(['mine','key']),itemcols2].apply(lambda x: nwrong(x=x[1:],key=x[0]))"
   ]
  },
  {
   "cell_type": "markdown",
   "metadata": {
    "collapsed": true
   },
   "source": [
    "Here we need to write a function to determine how many students get each item wrong."
   ]
  },
  {
   "cell_type": "code",
   "execution_count": 13,
   "metadata": {},
   "outputs": [
    {
     "data": {
      "text/plain": [
       "item_1     B\n",
       "item_2     D\n",
       "item_3     A\n",
       "item_4     D\n",
       "item_5     C\n",
       "item_6     C\n",
       "item_7     A\n",
       "item_8     D\n",
       "item_9     B\n",
       "item_10    A\n",
       "item_11    C\n",
       "item_12    B\n",
       "item_13    A\n",
       "item_14    A\n",
       "item_15    B\n",
       "item_16    C\n",
       "item_17    D\n",
       "item_18    B\n",
       "item_19    C\n",
       "item_20    A\n",
       "item_21    B\n",
       "item_22    A\n",
       "item_23    A\n",
       "item_24    D\n",
       "item_25    B\n",
       "item_26    B\n",
       "item_27    C\n",
       "dtype: object"
      ]
     },
     "execution_count": 13,
     "metadata": {},
     "output_type": "execute_result"
    }
   ],
   "source": [
    "v2keys = df1.loc[df1.soarType=='key',itemcols2].apply(lambda x: list(string.ascii_uppercase)[int(x)-1])\n",
    "v2keys.to_csv('e2v2keys.csv')\n",
    "v2keys"
   ]
  },
  {
   "cell_type": "markdown",
   "metadata": {},
   "source": [
    "## Evaluating students performace "
   ]
  },
  {
   "cell_type": "markdown",
   "metadata": {},
   "source": [
    "Now we look at scores by section.  For this we can rename *unnamed1* to *version* to keep track of the versions and append the 2 dfs. "
   ]
  },
  {
   "cell_type": "code",
   "execution_count": 14,
   "metadata": {},
   "outputs": [
    {
     "name": "stdout",
     "output_type": "stream",
     "text": [
      "(241, 38)\n"
     ]
    }
   ],
   "source": [
    "df = df1.append(df2)\n",
    "print(df.shape)\n",
    "df.to_csv('merged exam 2 results.csv')\n",
    "# df.head()"
   ]
  },
  {
   "cell_type": "markdown",
   "metadata": {},
   "source": [
    "We can drop the \"key\" data and store as a separate variable,*maxscore*, the maximum possible value for ncorrect."
   ]
  },
  {
   "cell_type": "code",
   "execution_count": 15,
   "metadata": {},
   "outputs": [
    {
     "name": "stdout",
     "output_type": "stream",
     "text": [
      "maxscore:27\n"
     ]
    }
   ],
   "source": [
    "maxscore = df.ncorrect.max()\n",
    "dfkey = df.loc[df.soarType=='key',:]\n",
    "df = df.loc[df.soarType!='key',:]\n",
    "print('maxscore:{}'.format(maxscore))"
   ]
  },
  {
   "cell_type": "code",
   "execution_count": 16,
   "metadata": {},
   "outputs": [
    {
     "ename": "ValueError",
     "evalue": "Can only compare identically-labeled Series objects",
     "output_type": "error",
     "traceback": [
      "\u001b[1;31m---------------------------------------------------------------------------\u001b[0m",
      "\u001b[1;31mValueError\u001b[0m                                Traceback (most recent call last)",
      "\u001b[1;32m<ipython-input-16-37a2857b88e6>\u001b[0m in \u001b[0;36m<module>\u001b[1;34m()\u001b[0m\n\u001b[1;32m----> 1\u001b[1;33m \u001b[0mdf\u001b[0m\u001b[1;33m.\u001b[0m\u001b[0mloc\u001b[0m\u001b[1;33m[\u001b[0m\u001b[0mdf\u001b[0m\u001b[1;33m.\u001b[0m\u001b[0mitem_1\u001b[0m\u001b[1;33m!=\u001b[0m\u001b[0mdfkey\u001b[0m\u001b[1;33m.\u001b[0m\u001b[0mitem_1\u001b[0m\u001b[1;33m,\u001b[0m\u001b[1;34m'ncorrect'\u001b[0m\u001b[1;33m]\u001b[0m \u001b[1;33m=\u001b[0m \u001b[0mdf\u001b[0m\u001b[1;33m.\u001b[0m\u001b[0mloc\u001b[0m\u001b[1;33m[\u001b[0m\u001b[0mdf\u001b[0m\u001b[1;33m.\u001b[0m\u001b[0mitem_1\u001b[0m\u001b[1;33m!=\u001b[0m\u001b[0mdfkey\u001b[0m\u001b[1;33m.\u001b[0m\u001b[0mitem_1\u001b[0m\u001b[1;33m,\u001b[0m\u001b[1;34m'ncorrect'\u001b[0m\u001b[1;33m]\u001b[0m \u001b[1;33m+\u001b[0m \u001b[1;36m1\u001b[0m\u001b[1;33m\u001b[0m\u001b[0m\n\u001b[0m",
      "\u001b[1;32m~\\Anaconda3\\lib\\site-packages\\pandas\\core\\ops.py\u001b[0m in \u001b[0;36mwrapper\u001b[1;34m(self, other, axis)\u001b[0m\n\u001b[0;32m   1185\u001b[0m \u001b[1;33m\u001b[0m\u001b[0m\n\u001b[0;32m   1186\u001b[0m         \u001b[1;32melif\u001b[0m \u001b[0misinstance\u001b[0m\u001b[1;33m(\u001b[0m\u001b[0mother\u001b[0m\u001b[1;33m,\u001b[0m \u001b[0mABCSeries\u001b[0m\u001b[1;33m)\u001b[0m \u001b[1;32mand\u001b[0m \u001b[1;32mnot\u001b[0m \u001b[0mself\u001b[0m\u001b[1;33m.\u001b[0m\u001b[0m_indexed_same\u001b[0m\u001b[1;33m(\u001b[0m\u001b[0mother\u001b[0m\u001b[1;33m)\u001b[0m\u001b[1;33m:\u001b[0m\u001b[1;33m\u001b[0m\u001b[0m\n\u001b[1;32m-> 1187\u001b[1;33m             raise ValueError(\"Can only compare identically-labeled \"\n\u001b[0m\u001b[0;32m   1188\u001b[0m                              \"Series objects\")\n\u001b[0;32m   1189\u001b[0m \u001b[1;33m\u001b[0m\u001b[0m\n",
      "\u001b[1;31mValueError\u001b[0m: Can only compare identically-labeled Series objects"
     ]
    }
   ],
   "source": [
    "df.loc[df.item_1!=dfkey.item_1,'ncorrect'] = df.loc[df.item_1!=dfkey.item_1,'ncorrect'] + 1"
   ]
  },
  {
   "cell_type": "markdown",
   "metadata": {},
   "source": [
    "We will use this *df* for the rest of our analysis."
   ]
  },
  {
   "cell_type": "code",
   "execution_count": null,
   "metadata": {},
   "outputs": [],
   "source": [
    "def iqr(x):\n",
    "    return x.quantile(.75) - x.quantile(.25)\n",
    "\n",
    "def percentile25(x):\n",
    "    return x.quantile(.25)\n",
    "\n",
    "def percentile75(x):\n",
    "    return x.quantile(.75)\n"
   ]
  },
  {
   "cell_type": "code",
   "execution_count": null,
   "metadata": {},
   "outputs": [],
   "source": [
    "df.head()"
   ]
  },
  {
   "cell_type": "code",
   "execution_count": null,
   "metadata": {},
   "outputs": [],
   "source": [
    "dfkey.soarType.unique()"
   ]
  },
  {
   "cell_type": "code",
   "execution_count": null,
   "metadata": {},
   "outputs": [],
   "source": [
    "scores = df.groupby(['soar']).ncorrect\\\n",
    ".agg(['count','min',percentile25,percentile75,'max','median',iqr,'mean','std'])\\\n",
    ".sort_values('median', ascending =False)\n",
    "scores.to_csv('Exam2Score breakdown.csv')\n",
    "scores"
   ]
  },
  {
   "cell_type": "markdown",
   "metadata": {},
   "source": [
    "Now let's look at the distribution of individuals who scored above the 75-percentile in their class.  This gives us an idea of how distributed the high scores are in each section."
   ]
  },
  {
   "cell_type": "code",
   "execution_count": null,
   "metadata": {},
   "outputs": [],
   "source": [
    "highAchieverslocal = df.groupby('soar').ncorrect.apply(lambda x: x.loc[x>x.quantile(.75)].count()).reset_index()\\\n",
    ".rename(columns = {'ncorrect':'nAbove75p'})\n",
    "highAchieverslocal.soar = highAchieverslocal.soar.astype(int)\n",
    "highAchieverslocal.soar = highAchieverslocal.soar.astype(str)\n",
    "highAchieverslocal"
   ]
  },
  {
   "cell_type": "code",
   "execution_count": null,
   "metadata": {},
   "outputs": [],
   "source": [
    "\n",
    "data = [go.Bar(x = highAchieverslocal.soar, y = highAchieverslocal.nAbove75p)]\n",
    "layout = go.Layout(\n",
    "    title = 'Higher Acheivers Local',\n",
    "    titlefont = dict(\n",
    "        size = 20),\n",
    "    xaxis = dict(\n",
    "        dtick = 1,\n",
    "        title = 'SOAR Section',\n",
    "        titlefont = dict(\n",
    "            size = 18),\n",
    "        tickangle = 90),\n",
    "    yaxis = dict(\n",
    "        title = 'Number of High Achievers',\n",
    "        titlefont = dict(\n",
    "            size = 18)))\n",
    "\n",
    "fig = go.Figure(\n",
    "        data = data,\n",
    "        layout = layout)\n",
    "py.iplot(fig, filename = 'Bar of High Achievers 2018E21111')"
   ]
  },
  {
   "cell_type": "markdown",
   "metadata": {},
   "source": [
    "Now let's look at the distribution of individuals who scored above the 75-percentile across the entire class.  This gives us an idea of how distributed the high scores are across sections."
   ]
  },
  {
   "cell_type": "code",
   "execution_count": null,
   "metadata": {},
   "outputs": [],
   "source": [
    "highAchieversGlobal = df.loc[df.ncorrect>df.ncorrect.quantile(.75)]\\\n",
    ".groupby('soar').ncorrect.count().reset_index()\\\n",
    ".rename(columns = {'ncorrect':'nAbove75p'})\n",
    "print('The overall all median and 75 percentile were {} and {}, \\\n",
    "respectively.'.format(df.ncorrect.median(),df.ncorrect.quantile(.75)))\n",
    "highAchieversGlobal"
   ]
  },
  {
   "cell_type": "markdown",
   "metadata": {},
   "source": [
    "## Vizualization"
   ]
  },
  {
   "cell_type": "code",
   "execution_count": null,
   "metadata": {},
   "outputs": [],
   "source": [
    "data = [go.Bar(x = highAchieversGlobal.soar,y = highAchieversGlobal.nAbove75p)]\n",
    "layout = go.Layout(\n",
    "    title = 'Higher Acheivers Global',\n",
    "    titlefont = dict(\n",
    "        size = 20),\n",
    "    xaxis = dict(\n",
    "        dtick = 1,\n",
    "        title = 'SOAR Section',\n",
    "        titlefont = dict(\n",
    "            size = 18)),\n",
    "    yaxis = dict(\n",
    "        title = 'Number of High Achievers',\n",
    "        titlefont = dict(\n",
    "            size = 18)))\n",
    "\n",
    "fig = go.Figure(\n",
    "        data = data,\n",
    "        layout = layout)\n",
    "py.iplot(fig, filename = 'Bar of High Achievers Global 2018E21111')"
   ]
  }
 ],
 "metadata": {
  "kernelspec": {
   "display_name": "Python 3",
   "language": "python",
   "name": "python3"
  },
  "language_info": {
   "codemirror_mode": {
    "name": "ipython",
    "version": 3
   },
   "file_extension": ".py",
   "mimetype": "text/x-python",
   "name": "python",
   "nbconvert_exporter": "python",
   "pygments_lexer": "ipython3",
   "version": "3.6.5"
  }
 },
 "nbformat": 4,
 "nbformat_minor": 2
}
