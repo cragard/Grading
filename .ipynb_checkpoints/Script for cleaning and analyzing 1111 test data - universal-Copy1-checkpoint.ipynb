{
 "cells": [
  {
   "cell_type": "markdown",
   "metadata": {},
   "source": [
    "This notebook cleans .txt and .dta data for students performance on exams for BIO1111 and exports a csv which can be analyzed in an R script.\n",
    "#### Author: Christopher Agard"
   ]
  },
  {
   "cell_type": "code",
   "execution_count": 1,
   "metadata": {},
   "outputs": [],
   "source": [
    "import pandas as pd\n",
    "import numpy as np\n",
    "import os,glob\n",
    "from soar import *\n",
    "\n",
    "pd.options.display.max_columns = 50"
   ]
  },
  {
   "cell_type": "markdown",
   "metadata": {},
   "source": [
    "# Setting source and output folders"
   ]
  },
  {
   "cell_type": "code",
   "execution_count": 2,
   "metadata": {
    "scrolled": true
   },
   "outputs": [],
   "source": [
    "def sourceFiles(filedict,source = 'worksource', output = 'workoutput'):\n",
    "    filedict = filedict[input('Choose a filesystem: ')]\n",
    "    filedict[source] = filedict[source].format(year=year,semester=semester,exNum=exNum)\n",
    "    filedict[output] = filedict[output].format(year=year,semester=semester,exNum=exNum)\n",
    "    return filedict"
   ]
  },
  {
   "cell_type": "code",
   "execution_count": 3,
   "metadata": {},
   "outputs": [],
   "source": [
    "sources = {'tu':{'worksource': \"C:/Users/craga/Google Drive/TU {year}/Exams/{semester}/Exam {exNum}/Input Data/\",\n",
    "    'workoutput': \"C:/Users/tuh27554/Documents/Grading/{year}/{semester} EX{exNum}/Output Data/\"},\n",
    "        'gandolf':{'worksource': \"C:/Users/craga/Google Drive/TU {year}/{semester}/Exams/Exam {exNum}/Input Data/\",\n",
    "    'workoutput': \"C:/Users/craga/Google Drive/TU {year}/{semester}/Exams/Exam {exNum}/Output Data/\"}}"
   ]
  },
  {
   "cell_type": "code",
   "execution_count": 4,
   "metadata": {},
   "outputs": [
    {
     "name": "stdout",
     "output_type": "stream",
     "text": [
      "which year? 2020\n",
      "which semester? Spring\n",
      "which exam number? 2\n"
     ]
    }
   ],
   "source": [
    "year=input('which year? ')\n",
    "semester=input('which semester? ')\n",
    "exNum=input('which exam number? ')"
   ]
  },
  {
   "cell_type": "code",
   "execution_count": 5,
   "metadata": {},
   "outputs": [
    {
     "name": "stdout",
     "output_type": "stream",
     "text": [
      "Choose a filesystem: gandolf\n"
     ]
    }
   ],
   "source": [
    "sources = sourceFiles(sources)"
   ]
  },
  {
   "cell_type": "code",
   "execution_count": 6,
   "metadata": {},
   "outputs": [
    {
     "data": {
      "text/plain": [
       "{'worksource': 'C:/Users/craga/Google Drive/TU 2020/Spring/Exams/Exam 2/Input Data/',\n",
       " 'workoutput': 'C:/Users/craga/Google Drive/TU 2020/Spring/Exams/Exam 2/Output Data/'}"
      ]
     },
     "execution_count": 6,
     "metadata": {},
     "output_type": "execute_result"
    }
   ],
   "source": [
    "sources"
   ]
  },
  {
   "cell_type": "markdown",
   "metadata": {},
   "source": [
    "# Getting and Cleaning Exam Data"
   ]
  },
  {
   "cell_type": "code",
   "execution_count": 7,
   "metadata": {},
   "outputs": [
    {
     "data": {
      "text/plain": [
       "['marcexams_2019_2019-A2534.dta']"
      ]
     },
     "execution_count": 7,
     "metadata": {},
     "output_type": "execute_result"
    }
   ],
   "source": [
    "os.chdir(sources['worksource'])\n",
    "files = glob.glob('*.dta')\n",
    "files"
   ]
  },
  {
   "cell_type": "code",
   "execution_count": 8,
   "metadata": {},
   "outputs": [
    {
     "name": "stdout",
     "output_type": "stream",
     "text": [
      "Enter your SOAR sessions separated by commas: 73,74,75\n"
     ]
    },
    {
     "name": "stderr",
     "output_type": "stream",
     "text": [
      "C:\\Users\\craga\\Documents\\GitHub\\Grading\\soar.py:48: SettingWithCopyWarning: \n",
      "A value is trying to be set on a copy of a slice from a DataFrame.\n",
      "Try using .loc[row_indexer,col_indexer] = value instead\n",
      "\n",
      "See the caveats in the documentation: http://pandas.pydata.org/pandas-docs/stable/indexing.html#indexing-view-versus-copy\n",
      "  tmp['soar'] = soar\n"
     ]
    },
    {
     "name": "stdout",
     "output_type": "stream",
     "text": [
      "Enter your SOAR sessions separated by commas: 73,74,75\n"
     ]
    },
    {
     "data": {
      "text/html": [
       "<div>\n",
       "<style scoped>\n",
       "    .dataframe tbody tr th:only-of-type {\n",
       "        vertical-align: middle;\n",
       "    }\n",
       "\n",
       "    .dataframe tbody tr th {\n",
       "        vertical-align: top;\n",
       "    }\n",
       "\n",
       "    .dataframe thead th {\n",
       "        text-align: right;\n",
       "    }\n",
       "</style>\n",
       "<table border=\"1\" class=\"dataframe\">\n",
       "  <thead>\n",
       "    <tr style=\"text-align: right;\">\n",
       "      <th></th>\n",
       "      <th>tuid</th>\n",
       "      <th>last</th>\n",
       "      <th>first</th>\n",
       "      <th>middle</th>\n",
       "      <th>unnamed1</th>\n",
       "      <th>unnamed2</th>\n",
       "      <th>unnamed3</th>\n",
       "      <th>soar</th>\n",
       "      <th>ncorrect</th>\n",
       "      <th>examNumber</th>\n",
       "      <th>item_1</th>\n",
       "      <th>item_2</th>\n",
       "      <th>item_3</th>\n",
       "      <th>item_4</th>\n",
       "      <th>item_5</th>\n",
       "      <th>item_6</th>\n",
       "      <th>item_7</th>\n",
       "      <th>item_8</th>\n",
       "      <th>item_9</th>\n",
       "      <th>item_10</th>\n",
       "      <th>item_11</th>\n",
       "      <th>item_12</th>\n",
       "      <th>item_13</th>\n",
       "      <th>item_14</th>\n",
       "      <th>item_15</th>\n",
       "      <th>item_16</th>\n",
       "      <th>item_17</th>\n",
       "      <th>item_18</th>\n",
       "      <th>item_19</th>\n",
       "      <th>item_20</th>\n",
       "      <th>item_21</th>\n",
       "      <th>item_22</th>\n",
       "      <th>item_23</th>\n",
       "      <th>item_24</th>\n",
       "      <th>item_25</th>\n",
       "      <th>item_26</th>\n",
       "      <th>item_27</th>\n",
       "      <th>soarType</th>\n",
       "      <th>version</th>\n",
       "    </tr>\n",
       "  </thead>\n",
       "  <tbody>\n",
       "    <tr>\n",
       "      <th>0</th>\n",
       "      <td>500 - BLU</td>\n",
       "      <td>EXAM - KEY</td>\n",
       "      <td>NNNNNN</td>\n",
       "      <td>N</td>\n",
       "      <td>NaN</td>\n",
       "      <td>NaN</td>\n",
       "      <td>NaN</td>\n",
       "      <td>NaN</td>\n",
       "      <td>27</td>\n",
       "      <td>1</td>\n",
       "      <td>3</td>\n",
       "      <td>2</td>\n",
       "      <td>4</td>\n",
       "      <td>4</td>\n",
       "      <td>4</td>\n",
       "      <td>1</td>\n",
       "      <td>3</td>\n",
       "      <td>1</td>\n",
       "      <td>3</td>\n",
       "      <td>2</td>\n",
       "      <td>2</td>\n",
       "      <td>2</td>\n",
       "      <td>1</td>\n",
       "      <td>4</td>\n",
       "      <td>2</td>\n",
       "      <td>2</td>\n",
       "      <td>3</td>\n",
       "      <td>4</td>\n",
       "      <td>2</td>\n",
       "      <td>2</td>\n",
       "      <td>3</td>\n",
       "      <td>1</td>\n",
       "      <td>1</td>\n",
       "      <td>2</td>\n",
       "      <td>1</td>\n",
       "      <td>2</td>\n",
       "      <td>4</td>\n",
       "      <td>key</td>\n",
       "      <td>1</td>\n",
       "    </tr>\n",
       "    <tr>\n",
       "      <th>9</th>\n",
       "      <td>915619341</td>\n",
       "      <td>RANJI</td>\n",
       "      <td>LAUREN</td>\n",
       "      <td>NaN</td>\n",
       "      <td>22.0</td>\n",
       "      <td>21.0</td>\n",
       "      <td>24.0</td>\n",
       "      <td>73.0</td>\n",
       "      <td>9</td>\n",
       "      <td>1</td>\n",
       "      <td>2</td>\n",
       "      <td>4</td>\n",
       "      <td>2</td>\n",
       "      <td>1</td>\n",
       "      <td>2</td>\n",
       "      <td>4</td>\n",
       "      <td>1</td>\n",
       "      <td>1</td>\n",
       "      <td>2</td>\n",
       "      <td>3</td>\n",
       "      <td>2</td>\n",
       "      <td>4</td>\n",
       "      <td>1</td>\n",
       "      <td>3</td>\n",
       "      <td>2</td>\n",
       "      <td>1</td>\n",
       "      <td>3</td>\n",
       "      <td>4</td>\n",
       "      <td>2</td>\n",
       "      <td>4</td>\n",
       "      <td>1</td>\n",
       "      <td>3</td>\n",
       "      <td>1</td>\n",
       "      <td>2</td>\n",
       "      <td>4</td>\n",
       "      <td>4</td>\n",
       "      <td>3</td>\n",
       "      <td>mine</td>\n",
       "      <td>1</td>\n",
       "    </tr>\n",
       "    <tr>\n",
       "      <th>10</th>\n",
       "      <td>915767393</td>\n",
       "      <td>QAZI</td>\n",
       "      <td>ZEMAR</td>\n",
       "      <td>NaN</td>\n",
       "      <td>22.0</td>\n",
       "      <td>20.0</td>\n",
       "      <td>9.0</td>\n",
       "      <td>75.0</td>\n",
       "      <td>10</td>\n",
       "      <td>1</td>\n",
       "      <td>3</td>\n",
       "      <td>4</td>\n",
       "      <td>3</td>\n",
       "      <td>4</td>\n",
       "      <td>4</td>\n",
       "      <td>4</td>\n",
       "      <td>2</td>\n",
       "      <td>4</td>\n",
       "      <td>3</td>\n",
       "      <td>3</td>\n",
       "      <td>3</td>\n",
       "      <td>4</td>\n",
       "      <td>1</td>\n",
       "      <td>4</td>\n",
       "      <td>1</td>\n",
       "      <td>2</td>\n",
       "      <td>4</td>\n",
       "      <td>4</td>\n",
       "      <td>1</td>\n",
       "      <td>4</td>\n",
       "      <td>3</td>\n",
       "      <td>2</td>\n",
       "      <td>1</td>\n",
       "      <td>3</td>\n",
       "      <td>3</td>\n",
       "      <td>1</td>\n",
       "      <td>2</td>\n",
       "      <td>mine</td>\n",
       "      <td>1</td>\n",
       "    </tr>\n",
       "    <tr>\n",
       "      <th>12</th>\n",
       "      <td>915637331</td>\n",
       "      <td>SATUNAS</td>\n",
       "      <td>KATELY</td>\n",
       "      <td>NaN</td>\n",
       "      <td>22.0</td>\n",
       "      <td>20.0</td>\n",
       "      <td>13.0</td>\n",
       "      <td>75.0</td>\n",
       "      <td>12</td>\n",
       "      <td>1</td>\n",
       "      <td>4</td>\n",
       "      <td>4</td>\n",
       "      <td>3</td>\n",
       "      <td>4</td>\n",
       "      <td>2</td>\n",
       "      <td>4</td>\n",
       "      <td>3</td>\n",
       "      <td>1</td>\n",
       "      <td>1</td>\n",
       "      <td>3</td>\n",
       "      <td>4</td>\n",
       "      <td>2</td>\n",
       "      <td>4</td>\n",
       "      <td>4</td>\n",
       "      <td>3</td>\n",
       "      <td>4</td>\n",
       "      <td>2</td>\n",
       "      <td>4</td>\n",
       "      <td>1</td>\n",
       "      <td>2</td>\n",
       "      <td>3</td>\n",
       "      <td>1</td>\n",
       "      <td>1</td>\n",
       "      <td>2</td>\n",
       "      <td>4</td>\n",
       "      <td>3</td>\n",
       "      <td>4</td>\n",
       "      <td>mine</td>\n",
       "      <td>1</td>\n",
       "    </tr>\n",
       "    <tr>\n",
       "      <th>14</th>\n",
       "      <td>914894157</td>\n",
       "      <td>NELMS</td>\n",
       "      <td>MATT</td>\n",
       "      <td>B</td>\n",
       "      <td>22.0</td>\n",
       "      <td>21.0</td>\n",
       "      <td>96.0</td>\n",
       "      <td>73.0</td>\n",
       "      <td>18</td>\n",
       "      <td>1</td>\n",
       "      <td>3</td>\n",
       "      <td>2</td>\n",
       "      <td>4</td>\n",
       "      <td>4</td>\n",
       "      <td>2</td>\n",
       "      <td>1</td>\n",
       "      <td>2</td>\n",
       "      <td>4</td>\n",
       "      <td>3</td>\n",
       "      <td>4</td>\n",
       "      <td>2</td>\n",
       "      <td>2</td>\n",
       "      <td>1</td>\n",
       "      <td>3</td>\n",
       "      <td>2</td>\n",
       "      <td>2</td>\n",
       "      <td>3</td>\n",
       "      <td>2</td>\n",
       "      <td>2</td>\n",
       "      <td>4</td>\n",
       "      <td>2</td>\n",
       "      <td>1</td>\n",
       "      <td>1</td>\n",
       "      <td>2</td>\n",
       "      <td>1</td>\n",
       "      <td>2</td>\n",
       "      <td>3</td>\n",
       "      <td>mine</td>\n",
       "      <td>1</td>\n",
       "    </tr>\n",
       "  </tbody>\n",
       "</table>\n",
       "</div>"
      ],
      "text/plain": [
       "         tuid        last   first middle  unnamed1  unnamed2  unnamed3  soar  \\\n",
       "0   500 - BLU  EXAM - KEY  NNNNNN      N       NaN       NaN       NaN   NaN   \n",
       "9   915619341       RANJI  LAUREN    NaN      22.0      21.0      24.0  73.0   \n",
       "10  915767393        QAZI   ZEMAR    NaN      22.0      20.0       9.0  75.0   \n",
       "12  915637331     SATUNAS  KATELY    NaN      22.0      20.0      13.0  75.0   \n",
       "14  914894157       NELMS    MATT      B      22.0      21.0      96.0  73.0   \n",
       "\n",
       "    ncorrect  examNumber item_1 item_2 item_3 item_4 item_5 item_6 item_7  \\\n",
       "0         27           1      3      2      4      4      4      1      3   \n",
       "9          9           1      2      4      2      1      2      4      1   \n",
       "10        10           1      3      4      3      4      4      4      2   \n",
       "12        12           1      4      4      3      4      2      4      3   \n",
       "14        18           1      3      2      4      4      2      1      2   \n",
       "\n",
       "   item_8 item_9 item_10 item_11 item_12 item_13 item_14 item_15 item_16  \\\n",
       "0       1      3       2       2       2       1       4       2       2   \n",
       "9       1      2       3       2       4       1       3       2       1   \n",
       "10      4      3       3       3       4       1       4       1       2   \n",
       "12      1      1       3       4       2       4       4       3       4   \n",
       "14      4      3       4       2       2       1       3       2       2   \n",
       "\n",
       "   item_17 item_18 item_19 item_20 item_21 item_22 item_23 item_24 item_25  \\\n",
       "0        3       4       2       2       3       1       1       2       1   \n",
       "9        3       4       2       4       1       3       1       2       4   \n",
       "10       4       4       1       4       3       2       1       3       3   \n",
       "12       2       4       1       2       3       1       1       2       4   \n",
       "14       3       2       2       4       2       1       1       2       1   \n",
       "\n",
       "   item_26 item_27 soarType  version  \n",
       "0        2       4      key        1  \n",
       "9        4       3     mine        1  \n",
       "10       1       2     mine        1  \n",
       "12       3       4     mine        1  \n",
       "14       2       3     mine        1  "
      ]
     },
     "execution_count": 8,
     "metadata": {},
     "output_type": "execute_result"
    }
   ],
   "source": [
    "# os.chdir(source['worksource'])\n",
    "df1=cleanSoarExam(files[0],\n",
    "                  examNum=1,\n",
    "                  soarSessions=[int(x) for x in input('Enter your SOAR sessions separated by commas: ').split(',')])\n",
    "df1['version'] = 1\n",
    "# df2=cleanSoarExam(files[1],examNum=1,soarSessions=[73,74,75])\n",
    "# df2['version'] = 2\n",
    "df = df1.loc[(df1.soar.isin([np.nan]+[int(x) for x in input('Enter your SOAR sessions separated by commas: ').split(',')]))&(df1.soarType.isin(['key','mine']))]#.append(df2)#remove students not in your sections\n",
    "df.head()"
   ]
  },
  {
   "cell_type": "code",
   "execution_count": 9,
   "metadata": {},
   "outputs": [
    {
     "data": {
      "text/plain": [
       "array([nan, 73., 75., 74.])"
      ]
     },
     "execution_count": 9,
     "metadata": {},
     "output_type": "execute_result"
    }
   ],
   "source": [
    "df.soar.unique()"
   ]
  },
  {
   "cell_type": "markdown",
   "metadata": {},
   "source": [
    "Now we change the dir to the outputfolder and save the cleaned, merged file."
   ]
  },
  {
   "cell_type": "code",
   "execution_count": 10,
   "metadata": {},
   "outputs": [
    {
     "data": {
      "text/plain": [
       "Index(['item_1', 'item_2', 'item_3', 'item_4', 'item_5', 'item_6', 'item_7',\n",
       "       'item_8', 'item_9', 'item_10', 'item_11', 'item_12', 'item_13',\n",
       "       'item_14', 'item_15', 'item_16', 'item_17', 'item_18', 'item_19',\n",
       "       'item_20', 'item_21', 'item_22', 'item_23', 'item_24', 'item_25',\n",
       "       'item_26', 'item_27'],\n",
       "      dtype='object')"
      ]
     },
     "execution_count": 10,
     "metadata": {},
     "output_type": "execute_result"
    }
   ],
   "source": [
    "itemcols = df.columns[df.columns.str.contains('item')]\n",
    "itemcols"
   ]
  },
  {
   "cell_type": "code",
   "execution_count": 11,
   "metadata": {},
   "outputs": [
    {
     "name": "stderr",
     "output_type": "stream",
     "text": [
      "C:\\Users\\craga\\Anaconda3\\lib\\site-packages\\ipykernel_launcher.py:2: SettingWithCopyWarning: \n",
      "A value is trying to be set on a copy of a slice from a DataFrame.\n",
      "Try using .loc[row_indexer,col_indexer] = value instead\n",
      "\n",
      "See the caveats in the documentation: http://pandas.pydata.org/pandas-docs/stable/indexing.html#indexing-view-versus-copy\n",
      "  \n"
     ]
    }
   ],
   "source": [
    "for col in itemcols:\n",
    "    df[col] = df[col].apply(letters2num)"
   ]
  },
  {
   "cell_type": "code",
   "execution_count": 18,
   "metadata": {
    "scrolled": true
   },
   "outputs": [
    {
     "name": "stdout",
     "output_type": "stream",
     "text": [
      "Enter filename prefix: Spring 2020 Exam 2 Data for my sections\n"
     ]
    }
   ],
   "source": [
    "os.chdir(sources['workoutput'])\n",
    "df.to_csv(input('Enter filename prefix: ')+'.csv')"
   ]
  },
  {
   "cell_type": "markdown",
   "metadata": {},
   "source": [
    "# Analyzing Exam Data\n",
    "\n",
    "1. [Most Frequently Wrong](#Most-Frequently-Wrong-Answers)"
   ]
  },
  {
   "cell_type": "markdown",
   "metadata": {},
   "source": [
    "## Strange values for items\n",
    "\n",
    "In reviewing the data I noted some values outside of the expected 1-4.  Could you help me understand what these are?"
   ]
  },
  {
   "cell_type": "code",
   "execution_count": 13,
   "metadata": {},
   "outputs": [
    {
     "name": "stdout",
     "output_type": "stream",
     "text": [
      "The strange responses [] were found for the following items:\n",
      "[]\n"
     ]
    }
   ],
   "source": [
    "all_responses = pd.concat([pd.Series(df[col].unique()) for col in itemcols]).unique()\n",
    "strange_response = [resp for resp in all_responses if resp not in ['A','B','C','D','E','1','2','3','4','5']]\n",
    "strange_resp_item=[col for col in itemcols if df.loc[df[col].isin(strange_response),col].shape[0]>0]\n",
    "print(\"The strange responses {} were found for the following items:\\n{}\".format(strange_response, strange_resp_item))\n"
   ]
  },
  {
   "cell_type": "markdown",
   "metadata": {},
   "source": [
    "## Most Frequently Wrong Answers"
   ]
  },
  {
   "cell_type": "markdown",
   "metadata": {},
   "source": [
    "Here we identify the columns containing information about responses."
   ]
  },
  {
   "cell_type": "code",
   "execution_count": 14,
   "metadata": {},
   "outputs": [
    {
     "data": {
      "text/plain": [
       "mine    76\n",
       "key      5\n",
       "Name: soarType, dtype: int64"
      ]
     },
     "execution_count": 14,
     "metadata": {},
     "output_type": "execute_result"
    }
   ],
   "source": [
    "df.soarType.value_counts()"
   ]
  },
  {
   "cell_type": "markdown",
   "metadata": {},
   "source": [
    "Now we apply this function to create a ranked list of items by order of the number of my students getting them wrong."
   ]
  },
  {
   "cell_type": "code",
   "execution_count": 15,
   "metadata": {
    "scrolled": true
   },
   "outputs": [
    {
     "name": "stdout",
     "output_type": "stream",
     "text": [
      "wrongcount_73:\n",
      "       item  number\n",
      "0    item_2      33\n",
      "1    item_8      29\n",
      "2    item_5      24\n",
      "3   item_19      24\n",
      "4    item_3      23\n",
      "5   item_25      22\n",
      "6   item_15      22\n",
      "7   item_26      21\n",
      "8   item_14      21\n",
      "9   item_24      20\n",
      "10  item_16      20\n",
      "11  item_20      19\n",
      "12   item_4      18\n",
      "13  item_11      17\n",
      "14   item_7      16\n",
      "15  item_10      16\n",
      "16  item_22      15\n",
      "17   item_9      14\n",
      "18   item_6      13\n",
      "19  item_17      13\n",
      "20  item_13      13\n",
      "21  item_27      12\n",
      "22  item_21      12\n",
      "23  item_23      10\n",
      "24  item_12      10\n",
      "25   item_1      10\n",
      "26  item_18       9\n",
      "total_wrong_73:\n",
      "item\n",
      "item_2     33\n",
      "item_8     29\n",
      "item_5     24\n",
      "item_19    24\n",
      "item_3     23\n",
      "item_25    22\n",
      "item_15    22\n",
      "item_26    21\n",
      "item_14    21\n",
      "item_24    20\n",
      "item_16    20\n",
      "item_20    19\n",
      "item_4     18\n",
      "item_11    17\n",
      "item_7     16\n",
      "item_10    16\n",
      "item_22    15\n",
      "item_9     14\n",
      "item_6     13\n",
      "item_17    13\n",
      "item_13    13\n",
      "item_27    12\n",
      "item_21    12\n",
      "item_1     10\n",
      "item_23    10\n",
      "item_12    10\n",
      "item_18     9\n",
      "dtype: int64\n"
     ]
    },
    {
     "name": "stderr",
     "output_type": "stream",
     "text": [
      "C:\\Users\\craga\\Anaconda3\\lib\\site-packages\\ipykernel_launcher.py:15: FutureWarning: The signature of `Series.to_csv` was aligned to that of `DataFrame.to_csv`, and argument 'header' will change its default value from False to True: please pass an explicit value to suppress this warning.\n",
      "  from ipykernel import kernelapp as app\n"
     ]
    },
    {
     "name": "stdout",
     "output_type": "stream",
     "text": [
      "wrongcount_75:\n",
      "       item  number\n",
      "0    item_2      33\n",
      "1    item_8      29\n",
      "2    item_5      24\n",
      "3   item_19      24\n",
      "4    item_3      23\n",
      "5   item_25      22\n",
      "6   item_15      22\n",
      "7   item_26      21\n",
      "8   item_14      21\n",
      "9   item_24      20\n",
      "10  item_16      20\n",
      "11  item_20      19\n",
      "12   item_4      18\n",
      "13   item_2      17\n",
      "14  item_11      17\n",
      "15   item_7      16\n",
      "16  item_10      16\n",
      "17  item_22      15\n",
      "18   item_9      14\n",
      "19   item_8      14\n",
      "20   item_5      14\n",
      "21  item_19      14\n",
      "22   item_6      13\n",
      "23   item_3      13\n",
      "24  item_17      13\n",
      "25  item_13      13\n",
      "26  item_27      12\n",
      "27  item_26      12\n",
      "28  item_25      12\n",
      "29  item_24      12\n",
      "30  item_21      12\n",
      "31  item_11      11\n",
      "32  item_23      10\n",
      "33  item_16      10\n",
      "34  item_15      10\n",
      "35  item_13      10\n",
      "36  item_12      10\n",
      "37   item_1      10\n",
      "38  item_18       9\n",
      "39   item_6       8\n",
      "40  item_20       7\n",
      "41  item_10       7\n",
      "42   item_7       6\n",
      "43  item_27       6\n",
      "44  item_22       6\n",
      "45  item_17       6\n",
      "46  item_14       6\n",
      "47  item_21       5\n",
      "48  item_12       5\n",
      "49   item_1       5\n",
      "50   item_9       4\n",
      "51   item_4       4\n",
      "52  item_23       3\n",
      "53  item_18       3\n",
      "total_wrong_75:\n",
      "item\n",
      "item_2     33\n",
      "item_8     29\n",
      "item_5     24\n",
      "item_19    24\n",
      "item_3     23\n",
      "item_25    22\n",
      "item_15    22\n",
      "item_26    21\n",
      "item_14    21\n",
      "item_24    20\n",
      "item_16    20\n",
      "item_20    19\n",
      "item_4     18\n",
      "item_2     17\n",
      "item_11    17\n",
      "item_7     16\n",
      "item_10    16\n",
      "item_22    15\n",
      "item_9     14\n",
      "item_8     14\n",
      "item_5     14\n",
      "item_19    14\n",
      "item_13    13\n",
      "item_6     13\n",
      "item_3     13\n",
      "item_17    13\n",
      "item_27    12\n",
      "item_26    12\n",
      "item_25    12\n",
      "item_24    12\n",
      "item_21    12\n",
      "item_11    11\n",
      "item_23    10\n",
      "item_16    10\n",
      "item_15    10\n",
      "item_13    10\n",
      "item_12    10\n",
      "item_1     10\n",
      "item_18     9\n",
      "item_6      8\n",
      "item_20     7\n",
      "item_10     7\n",
      "item_7      6\n",
      "item_27     6\n",
      "item_22     6\n",
      "item_17     6\n",
      "item_14     6\n",
      "item_21     5\n",
      "item_12     5\n",
      "item_1      5\n",
      "item_4      4\n",
      "item_9      4\n",
      "item_23     3\n",
      "item_18     3\n",
      "dtype: int64\n",
      "wrongcount_74:\n",
      "       item  number\n",
      "0    item_2      33\n",
      "1    item_8      29\n",
      "2    item_5      24\n",
      "3   item_19      24\n",
      "4    item_3      23\n",
      "5   item_25      22\n",
      "6   item_15      22\n",
      "7   item_26      21\n",
      "8    item_2      21\n",
      "9   item_14      21\n",
      "10  item_24      20\n",
      "11  item_16      20\n",
      "12  item_25      19\n",
      "13  item_20      19\n",
      "14  item_19      19\n",
      "15   item_8      18\n",
      "16   item_4      18\n",
      "17   item_3      18\n",
      "18   item_5      17\n",
      "19  item_24      17\n",
      "20   item_2      17\n",
      "21  item_11      17\n",
      "22   item_7      16\n",
      "23  item_10      16\n",
      "24  item_22      15\n",
      "25   item_9      14\n",
      "26   item_8      14\n",
      "27   item_5      14\n",
      "28  item_19      14\n",
      "29   item_6      13\n",
      "..      ...     ...\n",
      "51  item_12      10\n",
      "52   item_1      10\n",
      "53   item_7       9\n",
      "54   item_4       9\n",
      "55  item_18       9\n",
      "56  item_17       9\n",
      "57  item_16       9\n",
      "58   item_6       8\n",
      "59  item_21       8\n",
      "60  item_20       8\n",
      "61   item_9       7\n",
      "62  item_27       7\n",
      "63  item_20       7\n",
      "64  item_10       7\n",
      "65  item_10       7\n",
      "66   item_1       7\n",
      "67   item_7       6\n",
      "68  item_27       6\n",
      "69  item_22       6\n",
      "70  item_17       6\n",
      "71  item_14       6\n",
      "72  item_21       5\n",
      "73  item_18       5\n",
      "74  item_12       5\n",
      "75   item_1       5\n",
      "76   item_9       4\n",
      "77   item_4       4\n",
      "78  item_23       3\n",
      "79  item_18       3\n",
      "80  item_12       3\n",
      "\n",
      "[81 rows x 2 columns]\n",
      "total_wrong_74:\n",
      "item\n",
      "item_2     33\n",
      "item_8     29\n",
      "item_5     24\n",
      "item_19    24\n",
      "item_3     23\n",
      "item_25    22\n",
      "item_15    22\n",
      "item_2     21\n",
      "item_14    21\n",
      "item_26    21\n",
      "item_24    20\n",
      "item_16    20\n",
      "item_25    19\n",
      "item_20    19\n",
      "item_19    19\n",
      "item_8     18\n",
      "item_4     18\n",
      "item_3     18\n",
      "item_2     17\n",
      "item_11    17\n",
      "item_24    17\n",
      "item_5     17\n",
      "item_7     16\n",
      "item_10    16\n",
      "item_22    15\n",
      "item_9     14\n",
      "item_8     14\n",
      "item_5     14\n",
      "item_19    14\n",
      "item_6     13\n",
      "           ..\n",
      "item_12    10\n",
      "item_1     10\n",
      "item_18     9\n",
      "item_17     9\n",
      "item_16     9\n",
      "item_4      9\n",
      "item_7      9\n",
      "item_20     8\n",
      "item_21     8\n",
      "item_6      8\n",
      "item_9      7\n",
      "item_27     7\n",
      "item_20     7\n",
      "item_10     7\n",
      "item_10     7\n",
      "item_1      7\n",
      "item_27     6\n",
      "item_17     6\n",
      "item_14     6\n",
      "item_7      6\n",
      "item_22     6\n",
      "item_21     5\n",
      "item_18     5\n",
      "item_12     5\n",
      "item_1      5\n",
      "item_9      4\n",
      "item_4      4\n",
      "item_23     3\n",
      "item_18     3\n",
      "item_12     3\n",
      "Length: 81, dtype: int64\n"
     ]
    }
   ],
   "source": [
    "wrongcount_v1_mine = pd.DataFrame()\n",
    "for soar in [x for x in df.soar.unique() if not np.isnan(x)]:\n",
    "    for col in itemcols:\n",
    "        wrongcount_v1_mine = wrongcount_v1_mine.append(countwrong(df= df.loc[df.soar==soar],\n",
    "                                                                  col = col, \n",
    "                                                                  ver = 1,\n",
    "                                                                  compind=['mine','other']))\n",
    "    wrongcount_v1_mine = wrongcount_v1_mine.sort_values(['number','item'],\n",
    "                                                        ascending=False)\\\n",
    "    .reset_index(drop = True)\n",
    "    # wrongcount_v1_mine.index = wrongcount_v1_mine.item\n",
    "    # wrongcount_v1_mine= wrongcount_v1_mine.drop(columns = 'item')\n",
    "    print('wrongcount_{}:\\n{}'.format(int(soar),wrongcount_v1_mine))\n",
    "    total_wrongtmp = wrongcount_v1_mine.set_index(['item']).sum(axis=1)\n",
    "    total_wrongtmp.to_csv('total wrong {}.csv'.format(int(soar)),index = True)\n",
    "    print('total_wrong_{}:\\n{}'.format(int(soar),\n",
    "                                       total_wrongtmp.sort_values(ascending=False)))"
   ]
  },
  {
   "cell_type": "markdown",
   "metadata": {},
   "source": [
    "## Printing the Keys"
   ]
  },
  {
   "cell_type": "code",
   "execution_count": 16,
   "metadata": {
    "scrolled": true
   },
   "outputs": [
    {
     "name": "stdout",
     "output_type": "stream",
     "text": [
      "Enter filename prefix for the keys: Exam 2020 Spring Exam 2 keys\n"
     ]
    },
    {
     "data": {
      "text/html": [
       "<div>\n",
       "<style scoped>\n",
       "    .dataframe tbody tr th:only-of-type {\n",
       "        vertical-align: middle;\n",
       "    }\n",
       "\n",
       "    .dataframe tbody tr th {\n",
       "        vertical-align: top;\n",
       "    }\n",
       "\n",
       "    .dataframe thead th {\n",
       "        text-align: right;\n",
       "    }\n",
       "</style>\n",
       "<table border=\"1\" class=\"dataframe\">\n",
       "  <thead>\n",
       "    <tr style=\"text-align: right;\">\n",
       "      <th></th>\n",
       "      <th>version1</th>\n",
       "    </tr>\n",
       "  </thead>\n",
       "  <tbody>\n",
       "    <tr>\n",
       "      <th>item_1</th>\n",
       "      <td>B</td>\n",
       "    </tr>\n",
       "    <tr>\n",
       "      <th>item_2</th>\n",
       "      <td>C</td>\n",
       "    </tr>\n",
       "    <tr>\n",
       "      <th>item_3</th>\n",
       "      <td>A</td>\n",
       "    </tr>\n",
       "    <tr>\n",
       "      <th>item_4</th>\n",
       "      <td>A</td>\n",
       "    </tr>\n",
       "    <tr>\n",
       "      <th>item_5</th>\n",
       "      <td>A</td>\n",
       "    </tr>\n",
       "    <tr>\n",
       "      <th>item_6</th>\n",
       "      <td>D</td>\n",
       "    </tr>\n",
       "    <tr>\n",
       "      <th>item_7</th>\n",
       "      <td>B</td>\n",
       "    </tr>\n",
       "    <tr>\n",
       "      <th>item_8</th>\n",
       "      <td>D</td>\n",
       "    </tr>\n",
       "    <tr>\n",
       "      <th>item_9</th>\n",
       "      <td>B</td>\n",
       "    </tr>\n",
       "    <tr>\n",
       "      <th>item_10</th>\n",
       "      <td>C</td>\n",
       "    </tr>\n",
       "    <tr>\n",
       "      <th>item_11</th>\n",
       "      <td>C</td>\n",
       "    </tr>\n",
       "    <tr>\n",
       "      <th>item_12</th>\n",
       "      <td>C</td>\n",
       "    </tr>\n",
       "    <tr>\n",
       "      <th>item_13</th>\n",
       "      <td>D</td>\n",
       "    </tr>\n",
       "    <tr>\n",
       "      <th>item_14</th>\n",
       "      <td>A</td>\n",
       "    </tr>\n",
       "    <tr>\n",
       "      <th>item_15</th>\n",
       "      <td>C</td>\n",
       "    </tr>\n",
       "    <tr>\n",
       "      <th>item_16</th>\n",
       "      <td>C</td>\n",
       "    </tr>\n",
       "    <tr>\n",
       "      <th>item_17</th>\n",
       "      <td>B</td>\n",
       "    </tr>\n",
       "    <tr>\n",
       "      <th>item_18</th>\n",
       "      <td>A</td>\n",
       "    </tr>\n",
       "    <tr>\n",
       "      <th>item_19</th>\n",
       "      <td>C</td>\n",
       "    </tr>\n",
       "    <tr>\n",
       "      <th>item_20</th>\n",
       "      <td>C</td>\n",
       "    </tr>\n",
       "    <tr>\n",
       "      <th>item_21</th>\n",
       "      <td>B</td>\n",
       "    </tr>\n",
       "    <tr>\n",
       "      <th>item_22</th>\n",
       "      <td>D</td>\n",
       "    </tr>\n",
       "    <tr>\n",
       "      <th>item_23</th>\n",
       "      <td>D</td>\n",
       "    </tr>\n",
       "    <tr>\n",
       "      <th>item_24</th>\n",
       "      <td>C</td>\n",
       "    </tr>\n",
       "    <tr>\n",
       "      <th>item_25</th>\n",
       "      <td>D</td>\n",
       "    </tr>\n",
       "    <tr>\n",
       "      <th>item_26</th>\n",
       "      <td>C</td>\n",
       "    </tr>\n",
       "    <tr>\n",
       "      <th>item_27</th>\n",
       "      <td>A</td>\n",
       "    </tr>\n",
       "  </tbody>\n",
       "</table>\n",
       "</div>"
      ],
      "text/plain": [
       "        version1\n",
       "item_1         B\n",
       "item_2         C\n",
       "item_3         A\n",
       "item_4         A\n",
       "item_5         A\n",
       "item_6         D\n",
       "item_7         B\n",
       "item_8         D\n",
       "item_9         B\n",
       "item_10        C\n",
       "item_11        C\n",
       "item_12        C\n",
       "item_13        D\n",
       "item_14        A\n",
       "item_15        C\n",
       "item_16        C\n",
       "item_17        B\n",
       "item_18        A\n",
       "item_19        C\n",
       "item_20        C\n",
       "item_21        B\n",
       "item_22        D\n",
       "item_23        D\n",
       "item_24        C\n",
       "item_25        D\n",
       "item_26        C\n",
       "item_27        A"
      ]
     },
     "execution_count": 16,
     "metadata": {},
     "output_type": "execute_result"
    }
   ],
   "source": [
    "# import numpy as np\n",
    "v1keys = df.loc[(df.soar.isnull())&(df.soarType=='key')&(df.version==1),itemcols].iloc[0]\n",
    "# v2keys = df.loc[(df.soarType=='key')&(df.version==2),itemcols].iloc[0]\n",
    "keys = pd.DataFrame(data = {'version1':v1keys})#,'version2':v2keys})\n",
    "keys.to_csv(input('Enter filename prefix for the keys: ')+'.csv',index = False)\n",
    "keys"
   ]
  },
  {
   "cell_type": "markdown",
   "metadata": {},
   "source": [
    "# Evaluating Student Performance"
   ]
  },
  {
   "cell_type": "markdown",
   "metadata": {},
   "source": [
    "## Score distribution\n",
    "Now we look at scores by section. "
   ]
  },
  {
   "cell_type": "code",
   "execution_count": 17,
   "metadata": {},
   "outputs": [
    {
     "data": {
      "text/html": [
       "<div>\n",
       "<style scoped>\n",
       "    .dataframe tbody tr th:only-of-type {\n",
       "        vertical-align: middle;\n",
       "    }\n",
       "\n",
       "    .dataframe tbody tr th {\n",
       "        vertical-align: top;\n",
       "    }\n",
       "\n",
       "    .dataframe thead th {\n",
       "        text-align: right;\n",
       "    }\n",
       "</style>\n",
       "<table border=\"1\" class=\"dataframe\">\n",
       "  <thead>\n",
       "    <tr style=\"text-align: right;\">\n",
       "      <th></th>\n",
       "      <th></th>\n",
       "      <th>count</th>\n",
       "      <th>mean</th>\n",
       "      <th>min</th>\n",
       "      <th>25%</th>\n",
       "      <th>50%</th>\n",
       "      <th>75%</th>\n",
       "      <th>max</th>\n",
       "    </tr>\n",
       "    <tr>\n",
       "      <th>soarType</th>\n",
       "      <th>soar</th>\n",
       "      <th></th>\n",
       "      <th></th>\n",
       "      <th></th>\n",
       "      <th></th>\n",
       "      <th></th>\n",
       "      <th></th>\n",
       "      <th></th>\n",
       "    </tr>\n",
       "  </thead>\n",
       "  <tbody>\n",
       "    <tr>\n",
       "      <th rowspan=\"3\" valign=\"top\">mine</th>\n",
       "      <th>73.0</th>\n",
       "      <td>35.0</td>\n",
       "      <td>53.600000</td>\n",
       "      <td>36.0</td>\n",
       "      <td>40.0</td>\n",
       "      <td>52.0</td>\n",
       "      <td>64.0</td>\n",
       "      <td>84.0</td>\n",
       "    </tr>\n",
       "    <tr>\n",
       "      <th>74.0</th>\n",
       "      <td>23.0</td>\n",
       "      <td>54.260870</td>\n",
       "      <td>28.0</td>\n",
       "      <td>48.0</td>\n",
       "      <td>60.0</td>\n",
       "      <td>66.0</td>\n",
       "      <td>72.0</td>\n",
       "    </tr>\n",
       "    <tr>\n",
       "      <th>75.0</th>\n",
       "      <td>18.0</td>\n",
       "      <td>56.888889</td>\n",
       "      <td>32.0</td>\n",
       "      <td>48.0</td>\n",
       "      <td>56.0</td>\n",
       "      <td>64.0</td>\n",
       "      <td>88.0</td>\n",
       "    </tr>\n",
       "  </tbody>\n",
       "</table>\n",
       "</div>"
      ],
      "text/plain": [
       "               count       mean   min   25%   50%   75%   max\n",
       "soarType soar                                                \n",
       "mine     73.0   35.0  53.600000  36.0  40.0  52.0  64.0  84.0\n",
       "         74.0   23.0  54.260870  28.0  48.0  60.0  66.0  72.0\n",
       "         75.0   18.0  56.888889  32.0  48.0  56.0  64.0  88.0"
      ]
     },
     "execution_count": 17,
     "metadata": {},
     "output_type": "execute_result"
    }
   ],
   "source": [
    "descCols= ['mean','min','25%','50%','75%','max']\n",
    "dfDesc = df.loc[(df.soarType!='key')].groupby(['soarType','soar']).ncorrect.describe()\n",
    "dfDesc = pd.concat([dfDesc[['count']],dfDesc[descCols].apply(lambda x: x/25*100)],axis=1)\n",
    "dfDesc"
   ]
  },
  {
   "cell_type": "markdown",
   "metadata": {},
   "source": [
    "## Item Analysis\n",
    "1. [Percent choice for each item](#Percent-choice-for-each-item)"
   ]
  },
  {
   "cell_type": "markdown",
   "metadata": {
    "scrolled": true
   },
   "source": [
    "os.chdir(source['worksource'])\n",
    "df20 = pd.read_csv('Spring 2020v1.csv')\n",
    "dfcomp = pd.read_csv('Cross-Walk 2019 Fall to 2018 Fall Exams.csv')\n",
    "dfcomp"
   ]
  },
  {
   "cell_type": "markdown",
   "metadata": {},
   "source": [
    "### Percent choice for each item"
   ]
  },
  {
   "cell_type": "markdown",
   "metadata": {},
   "source": [
    "df_item1 = pd.DataFrame()\n",
    "for col in itemcols:\n",
    "    df_item1 = df_item1.append(df.loc[df.version==1,col].value_counts(normalize=True))\n",
    "df_item1 = df_item1.applymap(lambda x: \"{:.0f}\".format(x*100))\n",
    "df_item1 = df_item1.reset_index().rename(columns={'index':'F19E1'})\n",
    "df_item1['F19E1'] = df_item1.F19E1.apply(lambda x: int(x[5:]))\n",
    "df_item1 = df_item1.sort_values('F19E1')\n",
    "df_item1['F18E1'] = dfcomp.F18E1\n",
    "df_item1.to_csv('Fall 2019v1.csv')\n",
    "df_item1"
   ]
  },
  {
   "cell_type": "markdown",
   "metadata": {
    "scrolled": true
   },
   "source": [
    "df_item = pd.DataFrame()\n",
    "for col in itemcols:\n",
    "    df_item = df_item.append(df.loc[df.version==2,col].value_counts(normalize=True))\n",
    "df_item = df_item.applymap(lambda x: \"{:.0f}\".format(x*100))\n",
    "df_item"
   ]
  },
  {
   "cell_type": "markdown",
   "metadata": {
    "scrolled": true
   },
   "source": [
    "df18"
   ]
  },
  {
   "cell_type": "markdown",
   "metadata": {},
   "source": [
    "dfcomp"
   ]
  }
 ],
 "metadata": {
  "kernelspec": {
   "display_name": "Python 3",
   "language": "python",
   "name": "python3"
  },
  "language_info": {
   "codemirror_mode": {
    "name": "ipython",
    "version": 3
   },
   "file_extension": ".py",
   "mimetype": "text/x-python",
   "name": "python",
   "nbconvert_exporter": "python",
   "pygments_lexer": "ipython3",
   "version": "3.7.3"
  }
 },
 "nbformat": 4,
 "nbformat_minor": 2
}
