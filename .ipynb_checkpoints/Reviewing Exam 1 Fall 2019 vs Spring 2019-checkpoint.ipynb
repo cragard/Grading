{
 "cells": [
  {
   "cell_type": "markdown",
   "metadata": {},
   "source": [
    "This notebook cleans .txt and .dta data for students performance on exams for BIO1111 and exports a csv which can be analyzed in an R script.\n",
    "#### Author: Christopher Agard"
   ]
  },
  {
   "cell_type": "code",
   "execution_count": 12,
   "metadata": {},
   "outputs": [],
   "source": [
    "import pandas as pd\n",
    "import numpy as np\n",
    "import os,glob\n",
    "from soar import *\n",
    "\n",
    "pd.options.display.max_columns = 50"
   ]
  },
  {
   "cell_type": "markdown",
   "metadata": {},
   "source": [
    "# Setting source and output folders"
   ]
  },
  {
   "cell_type": "code",
   "execution_count": 2,
   "metadata": {},
   "outputs": [],
   "source": [
    "tu={'worksource': \"C:/Users/tuh27554/Documents/Grading/2019/FALL EX1/Input Data\",\n",
    "    'workoutput': \"C:/Users/tuh27554/Documents/Grading/2019/FALL EX1/Output Data\"}\n",
    "gandolf={'worksource': \"C:/Users/craga/Google Drive/TU 2019/Fall/Exam 1/Input data\",\n",
    "    'workoutput': \"C:/Users/craga/Google Drive/TU 2019/Fall/Exam 1/Output Data\"}"
   ]
  },
  {
   "cell_type": "markdown",
   "metadata": {},
   "source": [
    "# Getting and Cleaning Exam Data"
   ]
  },
  {
   "cell_type": "code",
   "execution_count": 3,
   "metadata": {},
   "outputs": [
    {
     "data": {
      "text/plain": [
       "['marcexams_2019_2019-A0153.dta', 'marcexams_2019_2019-A0154.dta']"
      ]
     },
     "execution_count": 3,
     "metadata": {},
     "output_type": "execute_result"
    }
   ],
   "source": [
    "os.chdir(gandolf['worksource'])\n",
    "files = glob.glob('*.dta')\n",
    "files"
   ]
  },
  {
   "cell_type": "code",
   "execution_count": 13,
   "metadata": {},
   "outputs": [
    {
     "data": {
      "text/html": [
       "<div>\n",
       "<style scoped>\n",
       "    .dataframe tbody tr th:only-of-type {\n",
       "        vertical-align: middle;\n",
       "    }\n",
       "\n",
       "    .dataframe tbody tr th {\n",
       "        vertical-align: top;\n",
       "    }\n",
       "\n",
       "    .dataframe thead th {\n",
       "        text-align: right;\n",
       "    }\n",
       "</style>\n",
       "<table border=\"1\" class=\"dataframe\">\n",
       "  <thead>\n",
       "    <tr style=\"text-align: right;\">\n",
       "      <th></th>\n",
       "      <th>tuid</th>\n",
       "      <th>last</th>\n",
       "      <th>first</th>\n",
       "      <th>middle</th>\n",
       "      <th>unnamed1</th>\n",
       "      <th>unnamed2</th>\n",
       "      <th>unnamed3</th>\n",
       "      <th>soar</th>\n",
       "      <th>ncorrect</th>\n",
       "      <th>examNumber</th>\n",
       "      <th>item_1</th>\n",
       "      <th>item_2</th>\n",
       "      <th>item_3</th>\n",
       "      <th>item_4</th>\n",
       "      <th>item_5</th>\n",
       "      <th>item_6</th>\n",
       "      <th>item_7</th>\n",
       "      <th>item_8</th>\n",
       "      <th>item_9</th>\n",
       "      <th>item_10</th>\n",
       "      <th>item_11</th>\n",
       "      <th>item_12</th>\n",
       "      <th>item_13</th>\n",
       "      <th>item_14</th>\n",
       "      <th>item_15</th>\n",
       "      <th>item_16</th>\n",
       "      <th>item_17</th>\n",
       "      <th>item_18</th>\n",
       "      <th>item_19</th>\n",
       "      <th>item_20</th>\n",
       "      <th>item_21</th>\n",
       "      <th>item_22</th>\n",
       "      <th>item_23</th>\n",
       "      <th>item_24</th>\n",
       "      <th>item_25</th>\n",
       "      <th>item_26</th>\n",
       "      <th>item_27</th>\n",
       "      <th>soarType</th>\n",
       "      <th>version</th>\n",
       "    </tr>\n",
       "  </thead>\n",
       "  <tbody>\n",
       "    <tr>\n",
       "      <th>0</th>\n",
       "      <td>500 - BLU</td>\n",
       "      <td>EXAM - KEY</td>\n",
       "      <td>NNNNNN</td>\n",
       "      <td>N</td>\n",
       "      <td>NaN</td>\n",
       "      <td>NaN</td>\n",
       "      <td>NaN</td>\n",
       "      <td>NaN</td>\n",
       "      <td>27</td>\n",
       "      <td>1</td>\n",
       "      <td>2</td>\n",
       "      <td>4</td>\n",
       "      <td>3</td>\n",
       "      <td>3</td>\n",
       "      <td>2</td>\n",
       "      <td>3</td>\n",
       "      <td>2</td>\n",
       "      <td>4</td>\n",
       "      <td>2</td>\n",
       "      <td>3</td>\n",
       "      <td>3</td>\n",
       "      <td>4</td>\n",
       "      <td>1</td>\n",
       "      <td>4</td>\n",
       "      <td>3</td>\n",
       "      <td>1</td>\n",
       "      <td>3</td>\n",
       "      <td>4</td>\n",
       "      <td>3</td>\n",
       "      <td>2</td>\n",
       "      <td>1</td>\n",
       "      <td>3</td>\n",
       "      <td>3</td>\n",
       "      <td>1</td>\n",
       "      <td>3</td>\n",
       "      <td>1</td>\n",
       "      <td>4</td>\n",
       "      <td>other</td>\n",
       "      <td>1</td>\n",
       "    </tr>\n",
       "    <tr>\n",
       "      <th>1</th>\n",
       "      <td>915565870</td>\n",
       "      <td>CHIUMENTO</td>\n",
       "      <td>JOSEPH</td>\n",
       "      <td>NaN</td>\n",
       "      <td>11.0</td>\n",
       "      <td>11.0</td>\n",
       "      <td>48.0</td>\n",
       "      <td>75.0</td>\n",
       "      <td>22</td>\n",
       "      <td>1</td>\n",
       "      <td>2</td>\n",
       "      <td>4</td>\n",
       "      <td>3</td>\n",
       "      <td>3</td>\n",
       "      <td>2</td>\n",
       "      <td>1</td>\n",
       "      <td>2</td>\n",
       "      <td>4</td>\n",
       "      <td>2</td>\n",
       "      <td>3</td>\n",
       "      <td>2</td>\n",
       "      <td>3</td>\n",
       "      <td>1</td>\n",
       "      <td>4</td>\n",
       "      <td>3</td>\n",
       "      <td>1</td>\n",
       "      <td>3</td>\n",
       "      <td>4</td>\n",
       "      <td>3</td>\n",
       "      <td>2</td>\n",
       "      <td>1</td>\n",
       "      <td>3</td>\n",
       "      <td>1</td>\n",
       "      <td>1</td>\n",
       "      <td>3</td>\n",
       "      <td>1</td>\n",
       "      <td>1</td>\n",
       "      <td>other</td>\n",
       "      <td>1</td>\n",
       "    </tr>\n",
       "    <tr>\n",
       "      <th>2</th>\n",
       "      <td>915221763</td>\n",
       "      <td>SOILIS</td>\n",
       "      <td>NICHOL</td>\n",
       "      <td>G</td>\n",
       "      <td>11.0</td>\n",
       "      <td>11.0</td>\n",
       "      <td>33.0</td>\n",
       "      <td>72.0</td>\n",
       "      <td>23</td>\n",
       "      <td>1</td>\n",
       "      <td>2</td>\n",
       "      <td>4</td>\n",
       "      <td>3</td>\n",
       "      <td>3</td>\n",
       "      <td>2</td>\n",
       "      <td>2</td>\n",
       "      <td>2</td>\n",
       "      <td>4</td>\n",
       "      <td>2</td>\n",
       "      <td>3</td>\n",
       "      <td>3</td>\n",
       "      <td>3</td>\n",
       "      <td>1</td>\n",
       "      <td>4</td>\n",
       "      <td>2</td>\n",
       "      <td>1</td>\n",
       "      <td>3</td>\n",
       "      <td>4</td>\n",
       "      <td>3</td>\n",
       "      <td>2</td>\n",
       "      <td>1</td>\n",
       "      <td>3</td>\n",
       "      <td>3</td>\n",
       "      <td>1</td>\n",
       "      <td>3</td>\n",
       "      <td>1</td>\n",
       "      <td>3</td>\n",
       "      <td>other</td>\n",
       "      <td>1</td>\n",
       "    </tr>\n",
       "    <tr>\n",
       "      <th>3</th>\n",
       "      <td>915641754</td>\n",
       "      <td>HOWARD</td>\n",
       "      <td>LEANNA</td>\n",
       "      <td>C</td>\n",
       "      <td>11.0</td>\n",
       "      <td>10.0</td>\n",
       "      <td>23.0</td>\n",
       "      <td>81.0</td>\n",
       "      <td>24</td>\n",
       "      <td>1</td>\n",
       "      <td>2</td>\n",
       "      <td>4</td>\n",
       "      <td>3</td>\n",
       "      <td>3</td>\n",
       "      <td>2</td>\n",
       "      <td>1</td>\n",
       "      <td>2</td>\n",
       "      <td>4</td>\n",
       "      <td>2</td>\n",
       "      <td>3</td>\n",
       "      <td>3</td>\n",
       "      <td>4</td>\n",
       "      <td>1</td>\n",
       "      <td>4</td>\n",
       "      <td>3</td>\n",
       "      <td>1</td>\n",
       "      <td>3</td>\n",
       "      <td>4</td>\n",
       "      <td>3</td>\n",
       "      <td>2</td>\n",
       "      <td>1</td>\n",
       "      <td>2</td>\n",
       "      <td>3</td>\n",
       "      <td>1</td>\n",
       "      <td>3</td>\n",
       "      <td>1</td>\n",
       "      <td>1</td>\n",
       "      <td>mine</td>\n",
       "      <td>1</td>\n",
       "    </tr>\n",
       "    <tr>\n",
       "      <th>4</th>\n",
       "      <td>915645190</td>\n",
       "      <td>KIFAIEH</td>\n",
       "      <td>YAZAN</td>\n",
       "      <td>NaN</td>\n",
       "      <td>11.0</td>\n",
       "      <td>10.0</td>\n",
       "      <td>12.0</td>\n",
       "      <td>87.0</td>\n",
       "      <td>20</td>\n",
       "      <td>1</td>\n",
       "      <td>2</td>\n",
       "      <td>4</td>\n",
       "      <td>3</td>\n",
       "      <td>3</td>\n",
       "      <td>2</td>\n",
       "      <td>1</td>\n",
       "      <td>2</td>\n",
       "      <td>3</td>\n",
       "      <td>2</td>\n",
       "      <td>4</td>\n",
       "      <td>3</td>\n",
       "      <td>3</td>\n",
       "      <td>4</td>\n",
       "      <td>4</td>\n",
       "      <td>3</td>\n",
       "      <td>1</td>\n",
       "      <td>1</td>\n",
       "      <td>4</td>\n",
       "      <td>3</td>\n",
       "      <td>2</td>\n",
       "      <td>1</td>\n",
       "      <td>3</td>\n",
       "      <td>3</td>\n",
       "      <td>1</td>\n",
       "      <td>3</td>\n",
       "      <td>1</td>\n",
       "      <td>3</td>\n",
       "      <td>other</td>\n",
       "      <td>1</td>\n",
       "    </tr>\n",
       "  </tbody>\n",
       "</table>\n",
       "</div>"
      ],
      "text/plain": [
       "        tuid        last   first middle  unnamed1  unnamed2  unnamed3  soar  \\\n",
       "0  500 - BLU  EXAM - KEY  NNNNNN      N       NaN       NaN       NaN   NaN   \n",
       "1  915565870   CHIUMENTO  JOSEPH    NaN      11.0      11.0      48.0  75.0   \n",
       "2  915221763      SOILIS  NICHOL      G      11.0      11.0      33.0  72.0   \n",
       "3  915641754      HOWARD  LEANNA      C      11.0      10.0      23.0  81.0   \n",
       "4  915645190     KIFAIEH   YAZAN    NaN      11.0      10.0      12.0  87.0   \n",
       "\n",
       "   ncorrect  examNumber item_1 item_2 item_3 item_4 item_5 item_6 item_7  \\\n",
       "0        27           1      2      4      3      3      2      3      2   \n",
       "1        22           1      2      4      3      3      2      1      2   \n",
       "2        23           1      2      4      3      3      2      2      2   \n",
       "3        24           1      2      4      3      3      2      1      2   \n",
       "4        20           1      2      4      3      3      2      1      2   \n",
       "\n",
       "  item_8 item_9 item_10 item_11 item_12 item_13 item_14 item_15 item_16  \\\n",
       "0      4      2       3       3       4       1       4       3       1   \n",
       "1      4      2       3       2       3       1       4       3       1   \n",
       "2      4      2       3       3       3       1       4       2       1   \n",
       "3      4      2       3       3       4       1       4       3       1   \n",
       "4      3      2       4       3       3       4       4       3       1   \n",
       "\n",
       "  item_17 item_18 item_19 item_20 item_21 item_22 item_23 item_24 item_25  \\\n",
       "0       3       4       3       2       1       3       3       1       3   \n",
       "1       3       4       3       2       1       3       1       1       3   \n",
       "2       3       4       3       2       1       3       3       1       3   \n",
       "3       3       4       3       2       1       2       3       1       3   \n",
       "4       1       4       3       2       1       3       3       1       3   \n",
       "\n",
       "  item_26 item_27 soarType  version  \n",
       "0       1       4    other        1  \n",
       "1       1       1    other        1  \n",
       "2       1       3    other        1  \n",
       "3       1       1     mine        1  \n",
       "4       1       3    other        1  "
      ]
     },
     "execution_count": 13,
     "metadata": {},
     "output_type": "execute_result"
    }
   ],
   "source": [
    "os.chdir(gandolf['worksource'])\n",
    "df1=cleanSoarExam(files[0],examNum=1,soarSessions=[81])\n",
    "df1['version'] = 1\n",
    "df2=cleanSoarExam(files[1],examNum=1,soarSessions=[81])\n",
    "df2['version'] = 2\n",
    "df = df1.append(df2)\n",
    "df.head()"
   ]
  },
  {
   "cell_type": "markdown",
   "metadata": {},
   "source": [
    "Now we change the dir to the outputfolder and save the cleaned, merged file."
   ]
  },
  {
   "cell_type": "code",
   "execution_count": 5,
   "metadata": {
    "scrolled": true
   },
   "outputs": [],
   "source": [
    "os.chdir(gandolf['workoutput'])\n",
    "df.to_csv(\"Fall19Exam 1_cleaned.csv\")"
   ]
  },
  {
   "cell_type": "markdown",
   "metadata": {},
   "source": [
    "# Analyzing Exam Data"
   ]
  },
  {
   "cell_type": "code",
   "execution_count": 6,
   "metadata": {
    "scrolled": true
   },
   "outputs": [
    {
     "data": {
      "text/html": [
       "<div>\n",
       "<style scoped>\n",
       "    .dataframe tbody tr th:only-of-type {\n",
       "        vertical-align: middle;\n",
       "    }\n",
       "\n",
       "    .dataframe tbody tr th {\n",
       "        vertical-align: top;\n",
       "    }\n",
       "\n",
       "    .dataframe thead th {\n",
       "        text-align: right;\n",
       "    }\n",
       "</style>\n",
       "<table border=\"1\" class=\"dataframe\">\n",
       "  <thead>\n",
       "    <tr style=\"text-align: right;\">\n",
       "      <th></th>\n",
       "      <th>tuid</th>\n",
       "      <th>last</th>\n",
       "      <th>first</th>\n",
       "      <th>middle</th>\n",
       "      <th>unnamed1</th>\n",
       "      <th>unnamed2</th>\n",
       "      <th>unnamed3</th>\n",
       "      <th>soar</th>\n",
       "      <th>ncorrect</th>\n",
       "      <th>examNumber</th>\n",
       "      <th>...</th>\n",
       "      <th>item_20</th>\n",
       "      <th>item_21</th>\n",
       "      <th>item_22</th>\n",
       "      <th>item_23</th>\n",
       "      <th>item_24</th>\n",
       "      <th>item_25</th>\n",
       "      <th>item_26</th>\n",
       "      <th>item_27</th>\n",
       "      <th>soarType</th>\n",
       "      <th>version</th>\n",
       "    </tr>\n",
       "  </thead>\n",
       "  <tbody>\n",
       "    <tr>\n",
       "      <th>0</th>\n",
       "      <td>500 - BLU</td>\n",
       "      <td>EXAM - KEY</td>\n",
       "      <td>NNNNNN</td>\n",
       "      <td>N</td>\n",
       "      <td>NaN</td>\n",
       "      <td>NaN</td>\n",
       "      <td>NaN</td>\n",
       "      <td>NaN</td>\n",
       "      <td>27</td>\n",
       "      <td>1</td>\n",
       "      <td>...</td>\n",
       "      <td>2</td>\n",
       "      <td>1</td>\n",
       "      <td>3</td>\n",
       "      <td>3</td>\n",
       "      <td>1</td>\n",
       "      <td>3</td>\n",
       "      <td>1</td>\n",
       "      <td>4</td>\n",
       "      <td>other</td>\n",
       "      <td>1</td>\n",
       "    </tr>\n",
       "    <tr>\n",
       "      <th>1</th>\n",
       "      <td>915565870</td>\n",
       "      <td>CHIUMENTO</td>\n",
       "      <td>JOSEPH</td>\n",
       "      <td>NaN</td>\n",
       "      <td>11.0</td>\n",
       "      <td>11.0</td>\n",
       "      <td>48.0</td>\n",
       "      <td>75.0</td>\n",
       "      <td>22</td>\n",
       "      <td>1</td>\n",
       "      <td>...</td>\n",
       "      <td>2</td>\n",
       "      <td>1</td>\n",
       "      <td>3</td>\n",
       "      <td>1</td>\n",
       "      <td>1</td>\n",
       "      <td>3</td>\n",
       "      <td>1</td>\n",
       "      <td>1</td>\n",
       "      <td>other</td>\n",
       "      <td>1</td>\n",
       "    </tr>\n",
       "    <tr>\n",
       "      <th>2</th>\n",
       "      <td>915221763</td>\n",
       "      <td>SOILIS</td>\n",
       "      <td>NICHOL</td>\n",
       "      <td>G</td>\n",
       "      <td>11.0</td>\n",
       "      <td>11.0</td>\n",
       "      <td>33.0</td>\n",
       "      <td>72.0</td>\n",
       "      <td>23</td>\n",
       "      <td>1</td>\n",
       "      <td>...</td>\n",
       "      <td>2</td>\n",
       "      <td>1</td>\n",
       "      <td>3</td>\n",
       "      <td>3</td>\n",
       "      <td>1</td>\n",
       "      <td>3</td>\n",
       "      <td>1</td>\n",
       "      <td>3</td>\n",
       "      <td>other</td>\n",
       "      <td>1</td>\n",
       "    </tr>\n",
       "    <tr>\n",
       "      <th>3</th>\n",
       "      <td>915641754</td>\n",
       "      <td>HOWARD</td>\n",
       "      <td>LEANNA</td>\n",
       "      <td>C</td>\n",
       "      <td>11.0</td>\n",
       "      <td>10.0</td>\n",
       "      <td>23.0</td>\n",
       "      <td>81.0</td>\n",
       "      <td>24</td>\n",
       "      <td>1</td>\n",
       "      <td>...</td>\n",
       "      <td>2</td>\n",
       "      <td>1</td>\n",
       "      <td>2</td>\n",
       "      <td>3</td>\n",
       "      <td>1</td>\n",
       "      <td>3</td>\n",
       "      <td>1</td>\n",
       "      <td>1</td>\n",
       "      <td>mine</td>\n",
       "      <td>1</td>\n",
       "    </tr>\n",
       "    <tr>\n",
       "      <th>4</th>\n",
       "      <td>915645190</td>\n",
       "      <td>KIFAIEH</td>\n",
       "      <td>YAZAN</td>\n",
       "      <td>NaN</td>\n",
       "      <td>11.0</td>\n",
       "      <td>10.0</td>\n",
       "      <td>12.0</td>\n",
       "      <td>87.0</td>\n",
       "      <td>20</td>\n",
       "      <td>1</td>\n",
       "      <td>...</td>\n",
       "      <td>2</td>\n",
       "      <td>1</td>\n",
       "      <td>3</td>\n",
       "      <td>3</td>\n",
       "      <td>1</td>\n",
       "      <td>3</td>\n",
       "      <td>1</td>\n",
       "      <td>3</td>\n",
       "      <td>other</td>\n",
       "      <td>1</td>\n",
       "    </tr>\n",
       "  </tbody>\n",
       "</table>\n",
       "<p>5 rows × 39 columns</p>\n",
       "</div>"
      ],
      "text/plain": [
       "        tuid        last   first middle  unnamed1  unnamed2  unnamed3  soar  \\\n",
       "0  500 - BLU  EXAM - KEY  NNNNNN      N       NaN       NaN       NaN   NaN   \n",
       "1  915565870   CHIUMENTO  JOSEPH    NaN      11.0      11.0      48.0  75.0   \n",
       "2  915221763      SOILIS  NICHOL      G      11.0      11.0      33.0  72.0   \n",
       "3  915641754      HOWARD  LEANNA      C      11.0      10.0      23.0  81.0   \n",
       "4  915645190     KIFAIEH   YAZAN    NaN      11.0      10.0      12.0  87.0   \n",
       "\n",
       "   ncorrect  examNumber  ... item_20 item_21 item_22 item_23 item_24 item_25  \\\n",
       "0        27           1  ...       2       1       3       3       1       3   \n",
       "1        22           1  ...       2       1       3       1       1       3   \n",
       "2        23           1  ...       2       1       3       3       1       3   \n",
       "3        24           1  ...       2       1       2       3       1       3   \n",
       "4        20           1  ...       2       1       3       3       1       3   \n",
       "\n",
       "  item_26 item_27 soarType version  \n",
       "0       1       4    other       1  \n",
       "1       1       1    other       1  \n",
       "2       1       3    other       1  \n",
       "3       1       1     mine       1  \n",
       "4       1       3    other       1  \n",
       "\n",
       "[5 rows x 39 columns]"
      ]
     },
     "execution_count": 6,
     "metadata": {},
     "output_type": "execute_result"
    }
   ],
   "source": [
    "df.head()"
   ]
  },
  {
   "cell_type": "markdown",
   "metadata": {},
   "source": [
    "# Most Frequently Wrong Answers"
   ]
  },
  {
   "cell_type": "markdown",
   "metadata": {},
   "source": [
    "Here we identify the columns containing information about responses."
   ]
  },
  {
   "cell_type": "code",
   "execution_count": 7,
   "metadata": {},
   "outputs": [
    {
     "data": {
      "text/plain": [
       "Index(['item_1', 'item_2', 'item_3', 'item_4', 'item_5', 'item_6', 'item_7',\n",
       "       'item_8', 'item_9', 'item_10', 'item_11', 'item_12', 'item_13',\n",
       "       'item_14', 'item_15', 'item_16', 'item_17', 'item_18', 'item_19',\n",
       "       'item_20', 'item_21', 'item_22', 'item_23', 'item_24', 'item_25',\n",
       "       'item_26', 'item_27'],\n",
       "      dtype='object')"
      ]
     },
     "execution_count": 7,
     "metadata": {},
     "output_type": "execute_result"
    }
   ],
   "source": [
    "itemcols = df.columns[df.columns.str.contains('item')]\n",
    "itemcols"
   ]
  },
  {
   "cell_type": "code",
   "execution_count": 8,
   "metadata": {},
   "outputs": [
    {
     "data": {
      "text/plain": [
       "other    234\n",
       "mine      33\n",
       "Name: soarType, dtype: int64"
      ]
     },
     "execution_count": 8,
     "metadata": {},
     "output_type": "execute_result"
    }
   ],
   "source": [
    "df.soarType.value_counts()"
   ]
  },
  {
   "cell_type": "markdown",
   "metadata": {},
   "source": [
    "def countwrong (df,col,ver,truthcol = 'soarType',truthind = 'key',compind = ['mine'],vercol = 'version'):\n",
    "    truth = df.loc[(df[truthcol]==truthind)&(df[vercol] == ver),col]\n",
    "    comp = df.loc[(df[truthcol].isin(compind))&(df[vercol] == ver),col]\n",
    "    res = pd.DataFrame(data ={'item':[col],'number':[(comp != truth[0]).sum()]})\n",
    "    return(res)\n"
   ]
  },
  {
   "cell_type": "markdown",
   "metadata": {},
   "source": [
    "def countwrong_allcol(df,ver,itemcols,sortfields = ['number','item'],\n",
    "                      truthcol = 'soarType',truthind = 'key',compind = 'mine',vercol = 'version'):\n",
    "    tmp = pd.DataFrame()\n",
    "    for col in itemcols:\n",
    "        tmp = tmp.append(countwrong(df= df, col = col, ver = ver))\n",
    "    tmp = tmp.sort_values(sortfields,ascending=False).reset_index(drop = True)\n",
    "    return tmp"
   ]
  },
  {
   "cell_type": "code",
   "execution_count": 9,
   "metadata": {},
   "outputs": [
    {
     "name": "stdout",
     "output_type": "stream",
     "text": [
      "Help on function countwrong in module soar:\n",
      "\n",
      "countwrong(df, col, ver, truthcol='soarType', truthind='key', compind=['mine'], vercol='version')\n",
      "\n"
     ]
    }
   ],
   "source": [
    "help(countwrong)"
   ]
  },
  {
   "cell_type": "code",
   "execution_count": 10,
   "metadata": {},
   "outputs": [
    {
     "data": {
      "text/plain": [
       "1     True\n",
       "2     True\n",
       "3     True\n",
       "4     True\n",
       "5    False\n",
       "Name: col1, dtype: bool"
      ]
     },
     "execution_count": 10,
     "metadata": {},
     "output_type": "execute_result"
    }
   ],
   "source": [
    "foo = pd.DataFrame(data={'col1':[1,2,3,4,5,1],'col2':[0,1,1,1,1,1]})\n",
    "bar = foo.loc[foo.col2==0,'col1']\n",
    "stuff = foo.loc[foo.col2==1,'col1']\n",
    "bar[0]!=stuff"
   ]
  },
  {
   "cell_type": "code",
   "execution_count": 11,
   "metadata": {},
   "outputs": [
    {
     "name": "stdout",
     "output_type": "stream",
     "text": [
      "failed to generate 'res' - truth:Series([], Name: item_20, dtype: object)\n"
     ]
    },
    {
     "ename": "UnboundLocalError",
     "evalue": "local variable 'res' referenced before assignment",
     "output_type": "error",
     "traceback": [
      "\u001b[1;31m---------------------------------------------------------------------------\u001b[0m",
      "\u001b[1;31mUnboundLocalError\u001b[0m                         Traceback (most recent call last)",
      "\u001b[1;32m<ipython-input-11-38999b14349e>\u001b[0m in \u001b[0;36m<module>\u001b[1;34m\u001b[0m\n\u001b[1;32m----> 1\u001b[1;33m \u001b[0mcountwrong\u001b[0m\u001b[1;33m(\u001b[0m\u001b[0mdf\u001b[0m\u001b[1;33m,\u001b[0m\u001b[1;34m'item_20'\u001b[0m\u001b[1;33m,\u001b[0m\u001b[1;36m1\u001b[0m\u001b[1;33m)\u001b[0m\u001b[1;33m\u001b[0m\u001b[1;33m\u001b[0m\u001b[0m\n\u001b[0m",
      "\u001b[1;32m~\\Documents\\GitHub\\Grading\\soar.py\u001b[0m in \u001b[0;36mcountwrong\u001b[1;34m(df, col, ver, truthcol, truthind, compind, vercol)\u001b[0m\n\u001b[0;32m     57\u001b[0m     \u001b[1;32mexcept\u001b[0m\u001b[1;33m:\u001b[0m\u001b[1;33m\u001b[0m\u001b[1;33m\u001b[0m\u001b[0m\n\u001b[0;32m     58\u001b[0m         \u001b[0mprint\u001b[0m\u001b[1;33m(\u001b[0m\u001b[1;34m\"failed to generate 'res' - truth:{}\"\u001b[0m\u001b[1;33m.\u001b[0m\u001b[0mformat\u001b[0m\u001b[1;33m(\u001b[0m\u001b[0mtruth\u001b[0m\u001b[1;33m)\u001b[0m\u001b[1;33m)\u001b[0m\u001b[1;33m\u001b[0m\u001b[1;33m\u001b[0m\u001b[0m\n\u001b[1;32m---> 59\u001b[1;33m     \u001b[1;32mreturn\u001b[0m \u001b[0mres\u001b[0m\u001b[1;33m\u001b[0m\u001b[1;33m\u001b[0m\u001b[0m\n\u001b[0m\u001b[0;32m     60\u001b[0m \u001b[1;33m\u001b[0m\u001b[0m\n\u001b[0;32m     61\u001b[0m def countwrong_allcol(df,ver,itemcols,sortfields = ['number','item'],\n",
      "\u001b[1;31mUnboundLocalError\u001b[0m: local variable 'res' referenced before assignment"
     ]
    }
   ],
   "source": [
    "countwrong(df,'item_20',1)"
   ]
  },
  {
   "cell_type": "code",
   "execution_count": null,
   "metadata": {},
   "outputs": [],
   "source": [
    "v1wrong = countwrong_allcol(df,1,itemcols = df.columns[df.columns.str.contains('item')])\n",
    "v2wrong = countwrong_allcol(df,2,itemcols = df.columns[df.columns.str.contains('item')])"
   ]
  },
  {
   "cell_type": "markdown",
   "metadata": {},
   "source": [
    "Now we apply this function to create a ranked list of items by order of the number of my students getting them wrong."
   ]
  },
  {
   "cell_type": "code",
   "execution_count": null,
   "metadata": {},
   "outputs": [],
   "source": [
    "wrongcount_v1 = pd.DataFrame()\n",
    "for col in itemcols:\n",
    "    wrongcount_v1 = wrongcount_v1.append(countwrong(df= df, col = col, ver = 1,compind=['mine','other']))\n",
    "wrongcount_v1 = wrongcount_v1.sort_values(['number','item'],ascending=False).reset_index(drop = True)\n",
    "wrongcount_v1"
   ]
  },
  {
   "cell_type": "code",
   "execution_count": null,
   "metadata": {},
   "outputs": [],
   "source": [
    "wrongcount_v2 = pd.DataFrame()\n",
    "for col in itemcols:\n",
    "    wrongcount_v2 = wrongcount_v2.append(countwrong(df= df, col = col, ver = 2,compind=['other','mine']))\n",
    "wrongcount_v2 = wrongcount_v2.sort_values(['number','item'],ascending=False).reset_index(drop = True)\n",
    "wrongcount_v2"
   ]
  },
  {
   "cell_type": "markdown",
   "metadata": {},
   "source": [
    "## Sec 73"
   ]
  },
  {
   "cell_type": "markdown",
   "metadata": {},
   "source": [
    "## Sec 74"
   ]
  },
  {
   "cell_type": "markdown",
   "metadata": {},
   "source": [
    "## Sec 75"
   ]
  },
  {
   "cell_type": "markdown",
   "metadata": {},
   "source": [
    "# Printing the Keys"
   ]
  },
  {
   "cell_type": "code",
   "execution_count": null,
   "metadata": {},
   "outputs": [],
   "source": [
    "v1keys = df.loc[(df.tuid=='NNNNNNNNN')&(df.version==1),itemcols]\n",
    "v1keys"
   ]
  },
  {
   "cell_type": "code",
   "execution_count": null,
   "metadata": {},
   "outputs": [],
   "source": [
    "v2keys = df.loc[(df.tuid=='NNNNNNNNN')&(df.version==2),itemcols]\n",
    "v2keys"
   ]
  },
  {
   "cell_type": "code",
   "execution_count": null,
   "metadata": {},
   "outputs": [],
   "source": [
    "# v1keys = v1keys.T.rename(columns={0:'version1'})\n",
    "# v2keys = v2keys.T.rename(columns={0:'version2'})\n",
    "pd.DataFrame(data = {'version1':v1keys,'version2':v2keys},index = itemcols)"
   ]
  },
  {
   "cell_type": "code",
   "execution_count": null,
   "metadata": {},
   "outputs": [],
   "source": [
    "letters2num_dict = {1:'D',2:'C',3:'B',4:'A'}\n",
    "exkeys.version"
   ]
  }
 ],
 "metadata": {
  "kernelspec": {
   "display_name": "Python 3",
   "language": "python",
   "name": "python3"
  },
  "language_info": {
   "codemirror_mode": {
    "name": "ipython",
    "version": 3
   },
   "file_extension": ".py",
   "mimetype": "text/x-python",
   "name": "python",
   "nbconvert_exporter": "python",
   "pygments_lexer": "ipython3",
   "version": "3.7.3"
  }
 },
 "nbformat": 4,
 "nbformat_minor": 2
}
